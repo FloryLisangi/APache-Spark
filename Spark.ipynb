{
 "cells": [
  {
   "cell_type": "markdown",
   "metadata": {
    "colab_type": "text",
    "id": "_l9eQ49tPqje"
   },
   "source": [
    "<div id=\"container\" style=\"position:relative;\">\n",
    "<div style=\"float:left\"><h1> Introduction to Spark </h1></div>\n",
    "<div style=\"position:relative; float:right\"><img style=\"height:65px\" src =\"https://drive.google.com/uc?export=view&id=1EnB0x-fdqMp6I5iMoEBBEuxB_s7AmE2k\"/>\n",
    "</div>\n",
    "</div>"
   ]
  },
  {
   "cell_type": "markdown",
   "metadata": {
    "colab_type": "text",
    "id": "i8mGlZ6rPqjf"
   },
   "source": [
    "### What is Spark?"
   ]
  },
  {
   "cell_type": "markdown",
   "metadata": {
    "colab_type": "text",
    "id": "7qJ7yGhDPqjg"
   },
   "source": [
    "Apache Spark is an in-memory distributed computing system with high-level APIs in Java, Scala, Python and R, and a graph-based optimization engine. It also supports a rich set of higher-level tools including Spark SQL for SQL and structured data processing, MLlib for machine learning, GraphX for graph processing, and Spark Streaming. Unlike Hadoop, Spark does not write to disk but keeps data in memory and so is typically much faster for performing data engineering, analysis, and modeling tasks within Big Data environments and with large data sets."
   ]
  },
  {
   "cell_type": "markdown",
   "metadata": {
    "colab_type": "text",
    "id": "-AIzfsNHPqjh"
   },
   "source": [
    "### Spark Basics and Spark SQL"
   ]
  },
  {
   "cell_type": "markdown",
   "metadata": {
    "colab_type": "text",
    "id": "Tae4buwmPqji"
   },
   "source": [
    "First we will initialize the [SparkContext and SparkSession](https://spark.apache.org/docs/2.2.0/rdd-programming-guide.html#initializing-spark).\n",
    "\n",
    "Once the session is initialized, we can view running jobs and other related information in the [Spark Web UI](https://spark.apache.org/docs/latest/monitoring.html#web-interfaces). \n",
    "\n",
    "By default, the UI is accessed through port 4040, and can be accessed by either navigating the Web UI URL on that port (default: http://localhost:4040) or by accessing through the SparkSession object details. (Note: On EMR, viewing the Spark UI and Driver log links below requires SSH tunneling with port-forwarding)."
   ]
  },
  {
   "cell_type": "code",
   "execution_count": null,
   "metadata": {},
   "outputs": [],
   "source": []
  },
  {
   "cell_type": "code",
   "execution_count": 1,
   "metadata": {
    "colab": {},
    "colab_type": "code",
    "execution": {
     "iopub.execute_input": "2022-07-12T20:39:43.961164Z",
     "iopub.status.busy": "2022-07-12T20:39:43.960917Z",
     "iopub.status.idle": "2022-07-12T20:40:13.142164Z",
     "shell.execute_reply": "2022-07-12T20:40:13.141451Z",
     "shell.execute_reply.started": "2022-07-12T20:39:43.961134Z"
    },
    "id": "GfxeHnmOPqjj",
    "outputId": "41353220-c4d5-4766-9289-3e7c488599cc"
   },
   "outputs": [
    {
     "data": {
      "application/vnd.jupyter.widget-view+json": {
       "model_id": "77b02e834a724223af869f6546039124",
       "version_major": 2,
       "version_minor": 0
      },
      "text/plain": [
       "VBox()"
      ]
     },
     "metadata": {},
     "output_type": "display_data"
    },
    {
     "name": "stdout",
     "output_type": "stream",
     "text": [
      "Starting Spark application\n"
     ]
    },
    {
     "data": {
      "text/html": [
       "<table>\n",
       "<tr><th>ID</th><th>YARN Application ID</th><th>Kind</th><th>State</th><th>Spark UI</th><th>Driver log</th><th>Current session?</th></tr><tr><td>1</td><td>application_1657656595047_0002</td><td>pyspark</td><td>idle</td><td><a target=\"_blank\" href=\"http://ip-172-31-15-14.ca-central-1.compute.internal:20888/proxy/application_1657656595047_0002/\">Link</a></td><td><a target=\"_blank\" href=\"http://ip-172-31-13-254.ca-central-1.compute.internal:8042/node/containerlogs/container_1657656595047_0002_01_000001/livy\">Link</a></td><td>✔</td></tr></table>"
      ],
      "text/plain": [
       "<IPython.core.display.HTML object>"
      ]
     },
     "metadata": {},
     "output_type": "display_data"
    },
    {
     "data": {
      "application/vnd.jupyter.widget-view+json": {
       "model_id": "",
       "version_major": 2,
       "version_minor": 0
      },
      "text/plain": [
       "FloatProgress(value=0.0, bar_style='info', description='Progress:', layout=Layout(height='25px', width='50%'),…"
      ]
     },
     "metadata": {},
     "output_type": "display_data"
    },
    {
     "name": "stdout",
     "output_type": "stream",
     "text": [
      "SparkSession available as 'spark'.\n"
     ]
    },
    {
     "data": {
      "application/vnd.jupyter.widget-view+json": {
       "model_id": "",
       "version_major": 2,
       "version_minor": 0
      },
      "text/plain": [
       "FloatProgress(value=0.0, bar_style='info', description='Progress:', layout=Layout(height='25px', width='50%'),…"
      ]
     },
     "metadata": {},
     "output_type": "display_data"
    },
    {
     "name": "stdout",
     "output_type": "stream",
     "text": [
      "<pyspark.sql.session.SparkSession object at 0x7f41c6ec5ac8>"
     ]
    }
   ],
   "source": [
    "spark"
   ]
  },
  {
   "cell_type": "markdown",
   "metadata": {
    "colab_type": "text",
    "id": "FuuPgDO9Pqjo"
   },
   "source": [
    "### Working with Spark RDDs"
   ]
  },
  {
   "cell_type": "markdown",
   "metadata": {
    "colab_type": "text",
    "id": "XK6ba6E5Pqjp"
   },
   "source": [
    "The main abstraction Spark uses are objects called *resilient distributed datasets*, which partitions and distributes data across the nodes of the cluster such that it can be operated on in parallel.\n",
    "\n",
    "There are two ways to create an RDD: either by parallelizing existing data in memory, or by reading in / referencing a data set.\n",
    "\n",
    "For the former, if we have regular data in python, _e.g._ in a list, we can distribute it across the memory of the nodes by using `sc.parallelize`. This will return an object of class RDD:"
   ]
  },
  {
   "cell_type": "code",
   "execution_count": 2,
   "metadata": {
    "colab": {},
    "colab_type": "code",
    "execution": {
     "iopub.execute_input": "2022-07-12T20:40:13.143852Z",
     "iopub.status.busy": "2022-07-12T20:40:13.143594Z",
     "iopub.status.idle": "2022-07-12T20:40:13.577736Z",
     "shell.execute_reply": "2022-07-12T20:40:13.577084Z",
     "shell.execute_reply.started": "2022-07-12T20:40:13.143815Z"
    },
    "id": "Waoyryo5Pqjq",
    "outputId": "0bef1ed0-2e47-4725-eacb-033037eab75e"
   },
   "outputs": [
    {
     "data": {
      "application/vnd.jupyter.widget-view+json": {
       "model_id": "02cb7e8d18544e0f925b25f71f4f64c8",
       "version_major": 2,
       "version_minor": 0
      },
      "text/plain": [
       "VBox()"
      ]
     },
     "metadata": {},
     "output_type": "display_data"
    },
    {
     "data": {
      "application/vnd.jupyter.widget-view+json": {
       "model_id": "",
       "version_major": 2,
       "version_minor": 0
      },
      "text/plain": [
       "FloatProgress(value=0.0, bar_style='info', description='Progress:', layout=Layout(height='25px', width='50%'),…"
      ]
     },
     "metadata": {},
     "output_type": "display_data"
    },
    {
     "name": "stdout",
     "output_type": "stream",
     "text": [
      "<class 'pyspark.rdd.RDD'>"
     ]
    }
   ],
   "source": [
    "import numpy as np\n",
    "data = np.random.rand(1000)\n",
    "distdata = sc.parallelize(data)\n",
    "print(distdata.__class__)"
   ]
  },
  {
   "cell_type": "markdown",
   "metadata": {
    "colab_type": "text",
    "id": "n-LXOr4jPqjt"
   },
   "source": [
    "We can also read data into an RDD directly from a datasource. Here we will work with the [Open Air Quality dataset](https://registry.opendata.aws/openaq/) from OpenAQ, which is publicly readable from an S3 bucket:"
   ]
  },
  {
   "cell_type": "code",
   "execution_count": 3,
   "metadata": {
    "colab": {},
    "colab_type": "code",
    "execution": {
     "iopub.execute_input": "2022-07-12T20:40:13.579708Z",
     "iopub.status.busy": "2022-07-12T20:40:13.579453Z",
     "iopub.status.idle": "2022-07-12T20:40:14.516335Z",
     "shell.execute_reply": "2022-07-12T20:40:14.515633Z",
     "shell.execute_reply.started": "2022-07-12T20:40:13.579669Z"
    },
    "id": "kveHlZpNPqju",
    "tags": []
   },
   "outputs": [
    {
     "data": {
      "application/vnd.jupyter.widget-view+json": {
       "model_id": "1fbe5ef4262047e3ae79ad8b2bb53073",
       "version_major": 2,
       "version_minor": 0
      },
      "text/plain": [
       "VBox()"
      ]
     },
     "metadata": {},
     "output_type": "display_data"
    },
    {
     "data": {
      "application/vnd.jupyter.widget-view+json": {
       "model_id": "",
       "version_major": 2,
       "version_minor": 0
      },
      "text/plain": [
       "FloatProgress(value=0.0, bar_style='info', description='Progress:', layout=Layout(height='25px', width='50%'),…"
      ]
     },
     "metadata": {},
     "output_type": "display_data"
    }
   ],
   "source": [
    "data = sc.textFile('s3://brainstation-dsft/sparklab/openaq-2017-09-05.csv')"
   ]
  },
  {
   "cell_type": "markdown",
   "metadata": {
    "colab_type": "text",
    "id": "pkhV__NJPqjw"
   },
   "source": [
    "### Inspecting Data"
   ]
  },
  {
   "cell_type": "markdown",
   "metadata": {
    "colab_type": "text",
    "id": "yyzFYYozPqjx"
   },
   "source": [
    "To examine the first few rows of an RDD, we can call the `take` function:"
   ]
  },
  {
   "cell_type": "code",
   "execution_count": 4,
   "metadata": {
    "colab": {},
    "colab_type": "code",
    "execution": {
     "iopub.execute_input": "2022-07-12T20:40:14.518199Z",
     "iopub.status.busy": "2022-07-12T20:40:14.517865Z",
     "iopub.status.idle": "2022-07-12T20:40:24.205716Z",
     "shell.execute_reply": "2022-07-12T20:40:24.204841Z",
     "shell.execute_reply.started": "2022-07-12T20:40:14.518161Z"
    },
    "id": "l7Pp606uPqjy",
    "outputId": "8f831d0c-1d8d-4c3f-80c9-e7ded7fb5354"
   },
   "outputs": [
    {
     "data": {
      "application/vnd.jupyter.widget-view+json": {
       "model_id": "c99477d29b41404a90ec47aeb504ac68",
       "version_major": 2,
       "version_minor": 0
      },
      "text/plain": [
       "VBox()"
      ]
     },
     "metadata": {},
     "output_type": "display_data"
    },
    {
     "data": {
      "application/vnd.jupyter.widget-view+json": {
       "model_id": "",
       "version_major": 2,
       "version_minor": 0
      },
      "text/plain": [
       "FloatProgress(value=0.0, bar_style='info', description='Progress:', layout=Layout(height='25px', width='50%'),…"
      ]
     },
     "metadata": {},
     "output_type": "display_data"
    },
    {
     "name": "stdout",
     "output_type": "stream",
     "text": [
      "['\"Wynyard\",\"1\",\"µg/m³\",\"pm25\",\"AU\",\"Tasmania Region\",\"Australia - Tasmania\",\"2017-09-04T23:54:19.000Z\",\"2017-09-05T09:54:19+10:00\",\"government\",\"false\",\"-40.9918\",\"145.719\",\"0.25\",\"hours\"', '\"Wynyard\",\"2\",\"µg/m³\",\"pm10\",\"AU\",\"Tasmania Region\",\"Australia - Tasmania\",\"2017-09-04T23:54:19.000Z\",\"2017-09-05T09:54:19+10:00\",\"government\",\"false\",\"-40.9918\",\"145.719\",\"0.25\",\"hours\"', '\"Emu River\",\"0\",\"µg/m³\",\"pm25\",\"AU\",\"Tasmania Region\",\"Australia - Tasmania\",\"2017-09-04T23:54:17.000Z\",\"2017-09-05T09:54:17+10:00\",\"government\",\"false\",\"-41.1081\",\"145.883\",\"0.25\",\"hours\"', '\"Emu River\",\"1\",\"µg/m³\",\"pm10\",\"AU\",\"Tasmania Region\",\"Australia - Tasmania\",\"2017-09-04T23:54:17.000Z\",\"2017-09-05T09:54:17+10:00\",\"government\",\"false\",\"-41.1081\",\"145.883\",\"0.25\",\"hours\"', '\"West Ulverstone\",\"0\",\"µg/m³\",\"pm25\",\"AU\",\"Tasmania Region\",\"Australia - Tasmania\",\"2017-09-04T23:54:22.000Z\",\"2017-09-05T09:54:22+10:00\",\"government\",\"false\",\"-41.1586\",\"146.146\",\"0.25\",\"hours\"']"
     ]
    }
   ],
   "source": [
    "data.take(5)"
   ]
  },
  {
   "cell_type": "markdown",
   "metadata": {
    "colab_type": "text",
    "id": "Vaah3T3iPqj1"
   },
   "source": [
    "You can see the data is stored as raw text and`take` returns a list of strings. We can also count the number of rows in the RDD to see how much data we're working with:"
   ]
  },
  {
   "cell_type": "code",
   "execution_count": 5,
   "metadata": {
    "colab": {},
    "colab_type": "code",
    "execution": {
     "iopub.execute_input": "2022-07-12T20:40:24.207393Z",
     "iopub.status.busy": "2022-07-12T20:40:24.207093Z",
     "iopub.status.idle": "2022-07-12T20:40:26.755257Z",
     "shell.execute_reply": "2022-07-12T20:40:26.754382Z",
     "shell.execute_reply.started": "2022-07-12T20:40:24.207355Z"
    },
    "id": "VGIAa_mzPqj1",
    "outputId": "f6712bbc-7d72-49bb-b8b3-c09625cbf099"
   },
   "outputs": [
    {
     "data": {
      "application/vnd.jupyter.widget-view+json": {
       "model_id": "bdd43d9ca620443d8e866cfe385f851e",
       "version_major": 2,
       "version_minor": 0
      },
      "text/plain": [
       "VBox()"
      ]
     },
     "metadata": {},
     "output_type": "display_data"
    },
    {
     "data": {
      "application/vnd.jupyter.widget-view+json": {
       "model_id": "",
       "version_major": 2,
       "version_minor": 0
      },
      "text/plain": [
       "FloatProgress(value=0.0, bar_style='info', description='Progress:', layout=Layout(height='25px', width='50%'),…"
      ]
     },
     "metadata": {},
     "output_type": "display_data"
    },
    {
     "name": "stdout",
     "output_type": "stream",
     "text": [
      "553383"
     ]
    }
   ],
   "source": [
    "data.count()"
   ]
  },
  {
   "cell_type": "markdown",
   "metadata": {
    "colab_type": "text",
    "id": "EZOFE76ePqj4"
   },
   "source": [
    "We can get information about how the data is partitioned:"
   ]
  },
  {
   "cell_type": "code",
   "execution_count": 6,
   "metadata": {
    "colab": {},
    "colab_type": "code",
    "execution": {
     "iopub.execute_input": "2022-07-12T20:40:26.757267Z",
     "iopub.status.busy": "2022-07-12T20:40:26.756778Z",
     "iopub.status.idle": "2022-07-12T20:40:27.460770Z",
     "shell.execute_reply": "2022-07-12T20:40:27.459820Z",
     "shell.execute_reply.started": "2022-07-12T20:40:26.757225Z"
    },
    "id": "AIE2wgTZPqj5",
    "outputId": "4372db51-f295-4b71-9d2d-b32b085b71a7"
   },
   "outputs": [
    {
     "data": {
      "application/vnd.jupyter.widget-view+json": {
       "model_id": "a0646ea18594402cacfca95661ebb1e2",
       "version_major": 2,
       "version_minor": 0
      },
      "text/plain": [
       "VBox()"
      ]
     },
     "metadata": {},
     "output_type": "display_data"
    },
    {
     "data": {
      "application/vnd.jupyter.widget-view+json": {
       "model_id": "",
       "version_major": 2,
       "version_minor": 0
      },
      "text/plain": [
       "FloatProgress(value=0.0, bar_style='info', description='Progress:', layout=Layout(height='25px', width='50%'),…"
      ]
     },
     "metadata": {},
     "output_type": "display_data"
    },
    {
     "name": "stdout",
     "output_type": "stream",
     "text": [
      "2"
     ]
    }
   ],
   "source": [
    "data.getNumPartitions()"
   ]
  },
  {
   "cell_type": "markdown",
   "metadata": {
    "colab_type": "text",
    "id": "5BLXTXMnPqj8"
   },
   "source": [
    "and modify the number of partitions to optimize how the data are parallelized:"
   ]
  },
  {
   "cell_type": "code",
   "execution_count": 7,
   "metadata": {
    "colab": {},
    "colab_type": "code",
    "execution": {
     "iopub.execute_input": "2022-07-12T20:40:27.527557Z",
     "iopub.status.busy": "2022-07-12T20:40:27.461638Z",
     "iopub.status.idle": "2022-07-12T20:40:27.769410Z",
     "shell.execute_reply": "2022-07-12T20:40:27.768734Z",
     "shell.execute_reply.started": "2022-07-12T20:40:27.527381Z"
    },
    "id": "9IG6OF7bPqj8"
   },
   "outputs": [
    {
     "data": {
      "application/vnd.jupyter.widget-view+json": {
       "model_id": "49eb349edda74ea7afede04859e71bed",
       "version_major": 2,
       "version_minor": 0
      },
      "text/plain": [
       "VBox()"
      ]
     },
     "metadata": {},
     "output_type": "display_data"
    },
    {
     "data": {
      "application/vnd.jupyter.widget-view+json": {
       "model_id": "",
       "version_major": 2,
       "version_minor": 0
      },
      "text/plain": [
       "FloatProgress(value=0.0, bar_style='info', description='Progress:', layout=Layout(height='25px', width='50%'),…"
      ]
     },
     "metadata": {},
     "output_type": "display_data"
    }
   ],
   "source": [
    "data = data.repartition(3)"
   ]
  },
  {
   "cell_type": "code",
   "execution_count": 8,
   "metadata": {
    "colab": {},
    "colab_type": "code",
    "execution": {
     "iopub.execute_input": "2022-07-12T20:40:27.772128Z",
     "iopub.status.busy": "2022-07-12T20:40:27.771846Z",
     "iopub.status.idle": "2022-07-12T20:40:28.030073Z",
     "shell.execute_reply": "2022-07-12T20:40:28.029205Z",
     "shell.execute_reply.started": "2022-07-12T20:40:27.772073Z"
    },
    "id": "VqHLk0iVPqkE",
    "outputId": "85855927-4900-4107-b566-9eff506bc127"
   },
   "outputs": [
    {
     "data": {
      "application/vnd.jupyter.widget-view+json": {
       "model_id": "1c3bedeb66f345b78180ee29eddeb3ae",
       "version_major": 2,
       "version_minor": 0
      },
      "text/plain": [
       "VBox()"
      ]
     },
     "metadata": {},
     "output_type": "display_data"
    },
    {
     "data": {
      "application/vnd.jupyter.widget-view+json": {
       "model_id": "",
       "version_major": 2,
       "version_minor": 0
      },
      "text/plain": [
       "FloatProgress(value=0.0, bar_style='info', description='Progress:', layout=Layout(height='25px', width='50%'),…"
      ]
     },
     "metadata": {},
     "output_type": "display_data"
    },
    {
     "name": "stdout",
     "output_type": "stream",
     "text": [
      "3"
     ]
    }
   ],
   "source": [
    "data.getNumPartitions()"
   ]
  },
  {
   "cell_type": "code",
   "execution_count": 9,
   "metadata": {
    "colab": {},
    "colab_type": "code",
    "execution": {
     "iopub.execute_input": "2022-07-12T20:40:28.032535Z",
     "iopub.status.busy": "2022-07-12T20:40:28.032097Z",
     "iopub.status.idle": "2022-07-12T20:40:31.682987Z",
     "shell.execute_reply": "2022-07-12T20:40:31.682361Z",
     "shell.execute_reply.started": "2022-07-12T20:40:28.032491Z"
    },
    "id": "nHRxZnJIPqkG",
    "outputId": "5342c40c-0e50-4f3e-87e3-949da98e36b3"
   },
   "outputs": [
    {
     "data": {
      "application/vnd.jupyter.widget-view+json": {
       "model_id": "b03841fcb62f4443abd5cca2740db357",
       "version_major": 2,
       "version_minor": 0
      },
      "text/plain": [
       "VBox()"
      ]
     },
     "metadata": {},
     "output_type": "display_data"
    },
    {
     "data": {
      "application/vnd.jupyter.widget-view+json": {
       "model_id": "",
       "version_major": 2,
       "version_minor": 0
      },
      "text/plain": [
       "FloatProgress(value=0.0, bar_style='info', description='Progress:', layout=Layout(height='25px', width='50%'),…"
      ]
     },
     "metadata": {},
     "output_type": "display_data"
    },
    {
     "name": "stdout",
     "output_type": "stream",
     "text": [
      "553383"
     ]
    }
   ],
   "source": [
    "data.count()"
   ]
  },
  {
   "cell_type": "markdown",
   "metadata": {
    "colab_type": "text",
    "id": "FUJ0cYfyPqkL"
   },
   "source": [
    "### Transformations and Actions"
   ]
  },
  {
   "cell_type": "markdown",
   "metadata": {
    "colab_type": "text",
    "id": "Jby3xUFwPqkN"
   },
   "source": [
    "In Spark, _transformations_ create new data sets from existing data, whereas _actions_ return a value after doing a computation. The important very important distinction between the two is while transformations will add computations to the plan without executing it immediately, it is only when an action is called that all the computations will be done. This is known as _lazy evaluation_.\n"
   ]
  },
  {
   "cell_type": "markdown",
   "metadata": {
    "colab_type": "text",
    "id": "vOGeudD9PqkO"
   },
   "source": [
    "#### RDD Transformations"
   ]
  },
  {
   "cell_type": "markdown",
   "metadata": {
    "colab_type": "text",
    "id": "vD2YEH_JPqkP"
   },
   "source": [
    "Spark RDD functions relies heavily on functional programming concepts and the use of lambda functions to apply operations across all elements in an RDD. The `map` function will apply the lambda function to each row of an RDD and return a new RDD of the transformed data as a result:"
   ]
  },
  {
   "cell_type": "code",
   "execution_count": 10,
   "metadata": {
    "colab": {},
    "colab_type": "code",
    "execution": {
     "iopub.execute_input": "2022-07-12T20:40:31.684353Z",
     "iopub.status.busy": "2022-07-12T20:40:31.684115Z",
     "iopub.status.idle": "2022-07-12T20:40:32.075454Z",
     "shell.execute_reply": "2022-07-12T20:40:32.074623Z",
     "shell.execute_reply.started": "2022-07-12T20:40:31.684317Z"
    },
    "id": "2HssXzhkPqkQ",
    "outputId": "8b2371cc-91c3-4ad4-84e5-3d1b933e9202"
   },
   "outputs": [
    {
     "data": {
      "application/vnd.jupyter.widget-view+json": {
       "model_id": "9bb3326e92a14f6d9be3dd6f6aaecbab",
       "version_major": 2,
       "version_minor": 0
      },
      "text/plain": [
       "VBox()"
      ]
     },
     "metadata": {},
     "output_type": "display_data"
    },
    {
     "data": {
      "application/vnd.jupyter.widget-view+json": {
       "model_id": "",
       "version_major": 2,
       "version_minor": 0
      },
      "text/plain": [
       "FloatProgress(value=0.0, bar_style='info', description='Progress:', layout=Layout(height='25px', width='50%'),…"
      ]
     },
     "metadata": {},
     "output_type": "display_data"
    },
    {
     "name": "stdout",
     "output_type": "stream",
     "text": [
      "Raw data:\n",
      "['\"George Town\",\"1\",\"µg/m³\",\"pm25\",\"AU\",\"Tasmania Region\",\"Australia - Tasmania\",\"2017-09-04T23:52:22.000Z\",\"2017-09-05T09:52:22+10:00\",\"government\",\"false\",\"-41.1109\",\"146.836\",\"0.25\",\"hours\"', '\"George Town\",\"3\",\"µg/m³\",\"pm10\",\"AU\",\"Tasmania Region\",\"Australia - Tasmania\",\"2017-09-04T23:52:22.000Z\",\"2017-09-05T09:52:22+10:00\",\"government\",\"false\",\"-41.1109\",\"146.836\",\"0.25\",\"hours\"', '\"Exeter\",\"0\",\"µg/m³\",\"pm25\",\"AU\",\"Tasmania Region\",\"Australia - Tasmania\",\"2017-09-04T23:52:17.000Z\",\"2017-09-05T09:52:17+10:00\",\"government\",\"false\",\"-41.3056\",\"146.951\",\"0.25\",\"hours\"', '\"Exeter\",\"1\",\"µg/m³\",\"pm10\",\"AU\",\"Tasmania Region\",\"Australia - Tasmania\",\"2017-09-04T23:52:17.000Z\",\"2017-09-05T09:52:17+10:00\",\"government\",\"false\",\"-41.3056\",\"146.951\",\"0.25\",\"hours\"', '\"Ti Tree Bend\",\"0\",\"µg/m³\",\"pm25\",\"AU\",\"Tasmania Region\",\"Australia - Tasmania\",\"2017-09-04T23:52:06.000Z\",\"2017-09-05T09:52:06+10:00\",\"government\",\"false\",\"-41.4174\",\"147.125\",\"0.25\",\"hours\"']\n",
      "\n",
      "Mapped data:\n",
      "['\"2017-09-05T09:52:22+10:00\"', '\"2017-09-05T09:52:22+10:00\"', '\"2017-09-05T09:52:17+10:00\"', '\"2017-09-05T09:52:17+10:00\"', '\"2017-09-05T09:52:06+10:00\"', '\"2017-09-05T09:52:06+10:00\"', '\"2017-09-05T09:52:20+10:00\"', '\"2017-09-05T09:52:20+10:00\"', '\"2017-09-05T09:52:21+10:00\"', '\"2017-09-05T09:52:21+10:00\"']"
     ]
    }
   ],
   "source": [
    "# Map function\n",
    "print(\"Raw data:\")\n",
    "print(data.take(5))\n",
    "print(\"\")\n",
    "\n",
    "print(\"Mapped data:\")\n",
    "# Split each row (string) of the RDD by commas and take the 10th element (timestamp)\n",
    "print(data.map(lambda x: x.split(\",\")[8]).take(10))\n",
    "print(\"\")"
   ]
  },
  {
   "cell_type": "markdown",
   "metadata": {
    "colab_type": "text",
    "id": "WYRMgzV3PqkU"
   },
   "source": [
    "The filter function iterates over the rows and returns a new dataframe matching the condition in the lambda function:"
   ]
  },
  {
   "cell_type": "code",
   "execution_count": 11,
   "metadata": {
    "colab": {},
    "colab_type": "code",
    "execution": {
     "iopub.execute_input": "2022-07-12T20:40:32.077041Z",
     "iopub.status.busy": "2022-07-12T20:40:32.076765Z",
     "iopub.status.idle": "2022-07-12T20:40:32.488171Z",
     "shell.execute_reply": "2022-07-12T20:40:32.487484Z",
     "shell.execute_reply.started": "2022-07-12T20:40:32.077004Z"
    },
    "id": "tDTd0msGPqkW",
    "outputId": "ca63da3a-5a49-4c00-d90c-77bd63dfad08"
   },
   "outputs": [
    {
     "data": {
      "application/vnd.jupyter.widget-view+json": {
       "model_id": "8a111e3f1f1546b39a85c0074291c136",
       "version_major": 2,
       "version_minor": 0
      },
      "text/plain": [
       "VBox()"
      ]
     },
     "metadata": {},
     "output_type": "display_data"
    },
    {
     "data": {
      "application/vnd.jupyter.widget-view+json": {
       "model_id": "",
       "version_major": 2,
       "version_minor": 0
      },
      "text/plain": [
       "FloatProgress(value=0.0, bar_style='info', description='Progress:', layout=Layout(height='25px', width='50%'),…"
      ]
     },
     "metadata": {},
     "output_type": "display_data"
    },
    {
     "name": "stdout",
     "output_type": "stream",
     "text": [
      "['\"Australia - Tasmania\"']"
     ]
    }
   ],
   "source": [
    "# Get the country name field using map and split\n",
    "print(data.map(lambda x: x.split(\",\")[6]).take(1))"
   ]
  },
  {
   "cell_type": "code",
   "execution_count": 12,
   "metadata": {
    "colab": {},
    "colab_type": "code",
    "execution": {
     "iopub.execute_input": "2022-07-12T20:40:32.489786Z",
     "iopub.status.busy": "2022-07-12T20:40:32.489527Z",
     "iopub.status.idle": "2022-07-12T20:40:32.882170Z",
     "shell.execute_reply": "2022-07-12T20:40:32.881209Z",
     "shell.execute_reply.started": "2022-07-12T20:40:32.489750Z"
    },
    "id": "Tz62PJncPqkZ",
    "outputId": "ac91387f-c1ec-4203-8947-2005d1b488d8"
   },
   "outputs": [
    {
     "data": {
      "application/vnd.jupyter.widget-view+json": {
       "model_id": "6a33039a39bf4ec8b272f6b3d9073b72",
       "version_major": 2,
       "version_minor": 0
      },
      "text/plain": [
       "VBox()"
      ]
     },
     "metadata": {},
     "output_type": "display_data"
    },
    {
     "data": {
      "application/vnd.jupyter.widget-view+json": {
       "model_id": "",
       "version_major": 2,
       "version_minor": 0
      },
      "text/plain": [
       "FloatProgress(value=0.0, bar_style='info', description='Progress:', layout=Layout(height='25px', width='50%'),…"
      ]
     },
     "metadata": {},
     "output_type": "display_data"
    },
    {
     "name": "stdout",
     "output_type": "stream",
     "text": [
      "['\"Australia - Tasmania\"']\n",
      "['\"Doğubeyazıt\",\"35\",\"µg/m³\",\"pm10\",\"TR\",\"Ağrı\",\"Turkey\",\"2017-09-05T00:00:00.000Z\",\"2017-09-05T03:00:00+03:00\",\"government\",\"false\",\"39.5476\",\"44.083595\",\"1\",\"hours\"']"
     ]
    }
   ],
   "source": [
    "# Get the country name field using map and split\n",
    "print(data.map(lambda x: x.split(\",\")[6]).take(1))\n",
    "\n",
    "# Filter only rows where the country name is equal to Turkey\n",
    "print(data.filter(lambda x: x.split(\",\")[6] == '\"Turkey\"').take(1))"
   ]
  },
  {
   "cell_type": "markdown",
   "metadata": {},
   "source": [
    "There is also a groupBy function to perform aggregations. Calling `.collect()` is an action that returns the result, so the plan is executed."
   ]
  },
  {
   "cell_type": "code",
   "execution_count": 13,
   "metadata": {
    "colab": {},
    "colab_type": "code",
    "execution": {
     "iopub.execute_input": "2022-07-12T20:40:32.883814Z",
     "iopub.status.busy": "2022-07-12T20:40:32.883368Z",
     "iopub.status.idle": "2022-07-12T20:40:39.431190Z",
     "shell.execute_reply": "2022-07-12T20:40:39.430387Z",
     "shell.execute_reply.started": "2022-07-12T20:40:32.883773Z"
    },
    "id": "8XoWthCQPqkc",
    "outputId": "e119b67f-fd48-436b-91dd-bf1d01f8843b"
   },
   "outputs": [
    {
     "data": {
      "application/vnd.jupyter.widget-view+json": {
       "model_id": "7d1809ab134a4957b698df684fd6be26",
       "version_major": 2,
       "version_minor": 0
      },
      "text/plain": [
       "VBox()"
      ]
     },
     "metadata": {},
     "output_type": "display_data"
    },
    {
     "data": {
      "application/vnd.jupyter.widget-view+json": {
       "model_id": "",
       "version_major": 2,
       "version_minor": 0
      },
      "text/plain": [
       "FloatProgress(value=0.0, bar_style='info', description='Progress:', layout=Layout(height='25px', width='50%'),…"
      ]
     },
     "metadata": {},
     "output_type": "display_data"
    },
    {
     "name": "stdout",
     "output_type": "stream",
     "text": [
      "\"Australia - Tasmania\" 8352\n",
      "\"Bosnia\" 685\n",
      "\"CPCB\" 9840\n",
      "\"Thiruvananthapuram\" 270\n",
      "\"Chandrapur\" 192\n",
      "\"StateAir_Kathmandu\" 48\n",
      "\"AirNow\" 55489\n",
      "\"EEA Denmark\" 574\n",
      "\"StateAir_Chennai\" 23\n",
      "\"StateAir_Hyderabad\" 24\n",
      "\"StateAir_Kolkata\" 24\n",
      "\"StateAir_Mumbai\" 24\n",
      "\"Kolkata\" 183\n",
      "\"Yala\" 85\n",
      "\"Nan\" 215\n",
      "\"Shanghai\" 23\n",
      "\"StateAir_Dhaka\" 22\n",
      "\"Slovenian Environment Agency\" 141\n",
      "\"Muscatine\" 40\n",
      "\"Thailand\" 40\n",
      "\"Samut Prakan\" 113\n",
      "\"Bergen\" 72\n",
      "\"Nonthaburi\" 12\n",
      "\"StateAir_Addis_Ababa_School\" 22\n",
      "\"Nashik\" 199\n",
      "\"Phayao\" 111\n",
      "\"Nakhon Sawan\" 110\n",
      "\"Andalucia\" 20952\n",
      "\"Iowa City\" 20\n",
      "\"Durgapur\" 104\n",
      "\"Chachoengsao\" 4\n",
      "\"Sao Paulo\" 4356\n",
      "\"Chile - SINCA\" 4548\n",
      "\"Israel\" 401836\n",
      "\"Vijayawara\" 234\n",
      "\"Ludhiana\" 438\n",
      "\"Netherlands\" 6118\n",
      "\"Sweden\" 494\n",
      "\"Lampang\" 383\n",
      "\"Australia - Queensland\" 1760\n",
      "\"Chillán\" 44\n",
      "\"StateAir_NewDelhi\" 22\n",
      "\"Thane\" 135\n",
      "\"Amritsar\" 396\n",
      "\"StateAir_KuwaitCity\" 19\n",
      "\"Hamar\" 24\n",
      "\"Saraburi\" 176\n",
      "\"Ratchaburi\" 111\n",
      "\"Mae Hong Son\" 21\n",
      "\"Prachin Buri\" 84\n",
      "\"Beijing US Embassy\" 23\n",
      "\"Chengdu\" 23\n",
      "\"Shenyang\" 23\n",
      "\"Kanchanaburi\" 95\n",
      "\"StateAir_Manama\" 44\n",
      "\"StateAir_JakartaCentral\" 21\n",
      "\"Chiang Rai\" 2\n",
      "\"Mosecom\" 2173\n",
      "\"Chon Buri\" 146\n",
      "\"Lamphun\" 103\n",
      "\"StateAir_Pristina\" 22\n",
      "\"Satun\" 110\n",
      "\"Kahului-Wailuku\" 20\n",
      "\"Waterloo-Cedar Falls\" 40\n",
      "\"Davenport-Moline-Rock Island\" 96\n",
      "\"Ho Chi Minh City\" 23\n",
      "\"Phuket\" 110\n",
      "\"Aurangabad\" 209\n",
      "\"RIO BLANCO\" 36\n",
      "\"Nagpur\" 67\n",
      "\"Providence-New Bedford-Fall River\" 40\n",
      "\"StateAir_Kampala\" 20\n",
      "\"StateAir_Hanoi\" 23\n",
      "\"Songkhla\" 6\n",
      "\"Norway\" 2682\n",
      "\"Bangkok\" 663\n",
      "\"Surat Thani\" 115\n",
      "\"Turkey\" 9980\n",
      "\"Bosnia_Tuzlanski\" 569\n",
      "\"Lucknow\" 328\n",
      "\"Agaar.mn\" 547\n",
      "\"Gjøvik\" 72\n",
      "\"Australia - New South Wales\" 2595\n",
      "\"DEFRA\" 6639\n",
      "\"Hyderabad\" 1123\n",
      "\"Narathiwat\" 77\n",
      "\"Oslo\" 72\n",
      "\"Rayong\" 338\n",
      "\"Guangzhou\" 23\n",
      "\"Ayutthaya\" 40\n",
      "\"Samut Sakhon\" 131\n",
      "\"StateAir_JakartaSouth\" 22\n",
      "\"MUSCATINE\" 38\n",
      "\"StateAir_Lima\" 24\n",
      "\"Chiang Mai\" 181\n",
      "\"StateAir_Bogota\" 22\n",
      "\"StateAir_Addis_Ababa_Central\" 22\n",
      "\"Clinton\" 60\n",
      "\"Buenos Aires\" 216\n",
      "\"Phrae\" 91\n",
      "\"PALO ALTO\" 29\n",
      "\"St. Louis\" 19\n",
      "\"Mandi Gobindgarh\" 105\n",
      "\"StateAir_PhoraDurbar\" 49\n",
      "\"ARPALAZIO\" 2631\n",
      "\"StateAir_Ulaanbaatar\" 21\n",
      "\"Omaha-Council Bluffs\" 16\n",
      "\"Richards Bay\" 1146\n",
      "\"Rohtak\" 10"
     ]
    }
   ],
   "source": [
    "#GroupBy\n",
    "grouped = data.groupBy(lambda x: x.split(\",\")[6])\n",
    "for (k,v) in grouped.collect():\n",
    "    print(k, len(v))"
   ]
  },
  {
   "cell_type": "markdown",
   "metadata": {
    "colab_type": "text",
    "id": "P6OCYPGfPqke"
   },
   "source": [
    "### RDD Actions"
   ]
  },
  {
   "cell_type": "markdown",
   "metadata": {
    "colab_type": "text",
    "id": "ONdsPZiPPqke"
   },
   "source": [
    "Unlike RDD transformations, RDD actions perform the computation and actually \"do work\" on the cluster. Adding many different transformations creates a chain which will be executed in sequence, and Spark translates into the appropriate steps in computation and data movement (the \"plan\").\n",
    "\n",
    "One of the most common actions is `collect()` which we saw above. It does the computations on the cluster and then draws the result into memory on the head node. Care should be taken when calling this, as if the size of the data is larger then what is available on the head node than it will fail or overload the head node!\n",
    "\n",
    "In the example below, no computation is done until the final action (`collect`) is called:"
   ]
  },
  {
   "cell_type": "code",
   "execution_count": 14,
   "metadata": {
    "colab": {},
    "colab_type": "code",
    "execution": {
     "iopub.execute_input": "2022-07-12T20:40:39.432625Z",
     "iopub.status.busy": "2022-07-12T20:40:39.432376Z",
     "iopub.status.idle": "2022-07-12T20:40:40.060980Z",
     "shell.execute_reply": "2022-07-12T20:40:40.060188Z",
     "shell.execute_reply.started": "2022-07-12T20:40:39.432591Z"
    },
    "id": "xTPQMMgDPqkf"
   },
   "outputs": [
    {
     "data": {
      "application/vnd.jupyter.widget-view+json": {
       "model_id": "5cc4496b133f4a92832e608d018158ec",
       "version_major": 2,
       "version_minor": 0
      },
      "text/plain": [
       "VBox()"
      ]
     },
     "metadata": {},
     "output_type": "display_data"
    },
    {
     "data": {
      "application/vnd.jupyter.widget-view+json": {
       "model_id": "",
       "version_major": 2,
       "version_minor": 0
      },
      "text/plain": [
       "FloatProgress(value=0.0, bar_style='info', description='Progress:', layout=Layout(height='25px', width='50%'),…"
      ]
     },
     "metadata": {},
     "output_type": "display_data"
    }
   ],
   "source": [
    "# Transformations - no computation is done\n",
    "timestrings = data.map(lambda x: x.split(\",\")[7])\n",
    "years = timestrings.map(lambda x: x[1:5]) \n",
    "grouped = years.groupBy(lambda x: x)"
   ]
  },
  {
   "cell_type": "code",
   "execution_count": 15,
   "metadata": {
    "colab": {},
    "colab_type": "code",
    "execution": {
     "iopub.execute_input": "2022-07-12T20:40:40.064231Z",
     "iopub.status.busy": "2022-07-12T20:40:40.063993Z",
     "iopub.status.idle": "2022-07-12T20:40:43.142800Z",
     "shell.execute_reply": "2022-07-12T20:40:43.142136Z",
     "shell.execute_reply.started": "2022-07-12T20:40:40.064201Z"
    },
    "id": "72wuI91VPqki",
    "outputId": "e1c2b8bd-eb9b-4a26-bf92-89db4b92d63a"
   },
   "outputs": [
    {
     "data": {
      "application/vnd.jupyter.widget-view+json": {
       "model_id": "e1c4117d66e34a0ea076924ca6e8086e",
       "version_major": 2,
       "version_minor": 0
      },
      "text/plain": [
       "VBox()"
      ]
     },
     "metadata": {},
     "output_type": "display_data"
    },
    {
     "data": {
      "application/vnd.jupyter.widget-view+json": {
       "model_id": "",
       "version_major": 2,
       "version_minor": 0
      },
      "text/plain": [
       "FloatProgress(value=0.0, bar_style='info', description='Progress:', layout=Layout(height='25px', width='50%'),…"
      ]
     },
     "metadata": {},
     "output_type": "display_data"
    },
    {
     "name": "stdout",
     "output_type": "stream",
     "text": [
      "CPCB 3993\n",
      "Chil 44\n",
      "AirN 454\n",
      "2017 545019\n",
      "Thai 3633\n",
      "Norw 240"
     ]
    }
   ],
   "source": [
    "# Work is performed when collect is called\n",
    "for (k,v) in grouped.collect():\n",
    "    print(k, len(v))"
   ]
  },
  {
   "cell_type": "markdown",
   "metadata": {
    "colab_type": "text",
    "id": "0T_LFZSAPqkp"
   },
   "source": [
    "We can also perform standard mathematical aggregation functions on numerical data stored in RDDs. Since these require scanning over the entirety of the data, they are also actions."
   ]
  },
  {
   "cell_type": "code",
   "execution_count": 16,
   "metadata": {
    "colab": {},
    "colab_type": "code",
    "execution": {
     "iopub.execute_input": "2022-07-12T20:40:43.144086Z",
     "iopub.status.busy": "2022-07-12T20:40:43.143844Z",
     "iopub.status.idle": "2022-07-12T20:40:44.895487Z",
     "shell.execute_reply": "2022-07-12T20:40:44.894773Z",
     "shell.execute_reply.started": "2022-07-12T20:40:43.144046Z"
    },
    "id": "KKHTHlaIPqkr",
    "outputId": "22fb6888-01a0-4612-f991-7bab2392d9fb"
   },
   "outputs": [
    {
     "data": {
      "application/vnd.jupyter.widget-view+json": {
       "model_id": "2d6429653630426ba7313f844206949b",
       "version_major": 2,
       "version_minor": 0
      },
      "text/plain": [
       "VBox()"
      ]
     },
     "metadata": {},
     "output_type": "display_data"
    },
    {
     "data": {
      "application/vnd.jupyter.widget-view+json": {
       "model_id": "",
       "version_major": 2,
       "version_minor": 0
      },
      "text/plain": [
       "FloatProgress(value=0.0, bar_style='info', description='Progress:', layout=Layout(height='25px', width='50%'),…"
      ]
     },
     "metadata": {},
     "output_type": "display_data"
    },
    {
     "name": "stdout",
     "output_type": "stream",
     "text": [
      "35"
     ]
    }
   ],
   "source": [
    "# Mathematical functions on RDDs\n",
    "# Extract the field length of the 6th field (should be country name)\n",
    "field_length = data.map(lambda x: x.split(\",\")[6]).map(lambda x: len(x))\n",
    "\n",
    "# Max\n",
    "max_length = field_length.max()\n",
    "print(max_length)"
   ]
  },
  {
   "cell_type": "code",
   "execution_count": 17,
   "metadata": {
    "colab": {},
    "colab_type": "code",
    "execution": {
     "iopub.execute_input": "2022-07-12T20:40:44.896934Z",
     "iopub.status.busy": "2022-07-12T20:40:44.896687Z",
     "iopub.status.idle": "2022-07-12T20:40:46.435549Z",
     "shell.execute_reply": "2022-07-12T20:40:46.434790Z",
     "shell.execute_reply.started": "2022-07-12T20:40:44.896895Z"
    },
    "id": "SYBevfCGPqku",
    "outputId": "aa270c57-1de1-4db0-8701-beacb756006c"
   },
   "outputs": [
    {
     "data": {
      "application/vnd.jupyter.widget-view+json": {
       "model_id": "cac213061f594c868da76375954ad834",
       "version_major": 2,
       "version_minor": 0
      },
      "text/plain": [
       "VBox()"
      ]
     },
     "metadata": {},
     "output_type": "display_data"
    },
    {
     "data": {
      "application/vnd.jupyter.widget-view+json": {
       "model_id": "",
       "version_major": 2,
       "version_minor": 0
      },
      "text/plain": [
       "FloatProgress(value=0.0, bar_style='info', description='Progress:', layout=Layout(height='25px', width='50%'),…"
      ]
     },
     "metadata": {},
     "output_type": "display_data"
    },
    {
     "name": "stdout",
     "output_type": "stream",
     "text": [
      "4800293"
     ]
    }
   ],
   "source": [
    "# Sum\n",
    "field_length.sum()"
   ]
  },
  {
   "cell_type": "code",
   "execution_count": 18,
   "metadata": {
    "colab": {},
    "colab_type": "code",
    "execution": {
     "iopub.execute_input": "2022-07-12T20:40:46.437057Z",
     "iopub.status.busy": "2022-07-12T20:40:46.436658Z",
     "iopub.status.idle": "2022-07-12T20:40:50.134379Z",
     "shell.execute_reply": "2022-07-12T20:40:50.133503Z",
     "shell.execute_reply.started": "2022-07-12T20:40:46.437017Z"
    },
    "id": "PiVjV4XKPqk1",
    "outputId": "34537fde-cea8-4a74-c28b-ffb265f43292"
   },
   "outputs": [
    {
     "data": {
      "application/vnd.jupyter.widget-view+json": {
       "model_id": "924207e086774503bed2e2e8f7ba63d7",
       "version_major": 2,
       "version_minor": 0
      },
      "text/plain": [
       "VBox()"
      ]
     },
     "metadata": {},
     "output_type": "display_data"
    },
    {
     "data": {
      "application/vnd.jupyter.widget-view+json": {
       "model_id": "",
       "version_major": 2,
       "version_minor": 0
      },
      "text/plain": [
       "FloatProgress(value=0.0, bar_style='info', description='Progress:', layout=Layout(height='25px', width='50%'),…"
      ]
     },
     "metadata": {},
     "output_type": "display_data"
    },
    {
     "name": "stdout",
     "output_type": "stream",
     "text": [
      "8.674449703008598"
     ]
    }
   ],
   "source": [
    "# Mean\n",
    "field_length.mean()"
   ]
  },
  {
   "cell_type": "code",
   "execution_count": 19,
   "metadata": {
    "colab": {},
    "colab_type": "code",
    "execution": {
     "iopub.execute_input": "2022-07-12T20:40:50.135729Z",
     "iopub.status.busy": "2022-07-12T20:40:50.135485Z",
     "iopub.status.idle": "2022-07-12T20:40:53.773551Z",
     "shell.execute_reply": "2022-07-12T20:40:53.772858Z",
     "shell.execute_reply.started": "2022-07-12T20:40:50.135695Z"
    },
    "id": "Hy6I5zBrPqk5",
    "outputId": "ec03bdd0-0513-425f-9644-0b9e7beea023"
   },
   "outputs": [
    {
     "data": {
      "application/vnd.jupyter.widget-view+json": {
       "model_id": "ca2c6ce26fb045749500f64d6cf0a424",
       "version_major": 2,
       "version_minor": 0
      },
      "text/plain": [
       "VBox()"
      ]
     },
     "metadata": {},
     "output_type": "display_data"
    },
    {
     "data": {
      "application/vnd.jupyter.widget-view+json": {
       "model_id": "",
       "version_major": 2,
       "version_minor": 0
      },
      "text/plain": [
       "FloatProgress(value=0.0, bar_style='info', description='Progress:', layout=Layout(height='25px', width='50%'),…"
      ]
     },
     "metadata": {},
     "output_type": "display_data"
    },
    {
     "name": "stdout",
     "output_type": "stream",
     "text": [
      "2.7332966182718477"
     ]
    }
   ],
   "source": [
    "# Stdev\n",
    "field_length.stdev()"
   ]
  },
  {
   "cell_type": "markdown",
   "metadata": {
    "colab_type": "text",
    "id": "9aUJ1IikPqk7"
   },
   "source": [
    " We can also apply generalized aggregation-type functions (as part of the MapReduce process) using `reduce` and `reduceByKey`. In this case, the lambda function takes two arguments, x and y, where x is the result of the running reduce operation, and y is the next value:"
   ]
  },
  {
   "cell_type": "code",
   "execution_count": 20,
   "metadata": {
    "colab": {},
    "colab_type": "code",
    "execution": {
     "iopub.execute_input": "2022-07-12T20:40:53.774952Z",
     "iopub.status.busy": "2022-07-12T20:40:53.774684Z",
     "iopub.status.idle": "2022-07-12T20:40:55.201348Z",
     "shell.execute_reply": "2022-07-12T20:40:55.200675Z",
     "shell.execute_reply.started": "2022-07-12T20:40:53.774915Z"
    },
    "id": "7Jv1z_72Pqk8",
    "outputId": "211a671b-9414-46bb-d169-cfbe9f3f56ea"
   },
   "outputs": [
    {
     "data": {
      "application/vnd.jupyter.widget-view+json": {
       "model_id": "f64a192810c8419fb78f4a1a227c2c2f",
       "version_major": 2,
       "version_minor": 0
      },
      "text/plain": [
       "VBox()"
      ]
     },
     "metadata": {},
     "output_type": "display_data"
    },
    {
     "data": {
      "application/vnd.jupyter.widget-view+json": {
       "model_id": "",
       "version_major": 2,
       "version_minor": 0
      },
      "text/plain": [
       "FloatProgress(value=0.0, bar_style='info', description='Progress:', layout=Layout(height='25px', width='50%'),…"
      ]
     },
     "metadata": {},
     "output_type": "display_data"
    },
    {
     "name": "stdout",
     "output_type": "stream",
     "text": [
      "5 215\n",
      "6 9997\n",
      "7 6999\n",
      "8 472145\n",
      "9 3960\n",
      "10 1753\n",
      "11 29417\n",
      "12 1054\n",
      "13 6807\n",
      "14 1920\n",
      "15 4572\n",
      "16 45\n",
      "17 110\n",
      "18 764\n",
      "19 44\n",
      "20 365\n",
      "21 19\n",
      "22 8478\n",
      "23 22\n",
      "24 1760\n",
      "25 21\n",
      "29 2617\n",
      "30 259\n",
      "35 40"
     ]
    }
   ],
   "source": [
    "keyed = field_length.map(lambda x: (x, 1))\n",
    "counted = keyed.reduceByKey(lambda x, y: x + y)\n",
    "\n",
    "# Action - work is done\n",
    "reduced = counted.collect()\n",
    "\n",
    "# Print output\n",
    "for i in sorted(reduced):\n",
    "    print(i[0], i[1])"
   ]
  },
  {
   "cell_type": "markdown",
   "metadata": {
    "colab_type": "text",
    "id": "9fB6erINPqk_"
   },
   "source": [
    "The above is equivalent to using the `countByKey` function:"
   ]
  },
  {
   "cell_type": "code",
   "execution_count": 21,
   "metadata": {
    "colab": {},
    "colab_type": "code",
    "execution": {
     "iopub.execute_input": "2022-07-12T20:40:55.203570Z",
     "iopub.status.busy": "2022-07-12T20:40:55.203381Z",
     "iopub.status.idle": "2022-07-12T20:40:56.853349Z",
     "shell.execute_reply": "2022-07-12T20:40:56.852564Z",
     "shell.execute_reply.started": "2022-07-12T20:40:55.203546Z"
    },
    "id": "elSg-7SvPqlA"
   },
   "outputs": [
    {
     "data": {
      "application/vnd.jupyter.widget-view+json": {
       "model_id": "e14d0d94e70644d499026fdb7911926a",
       "version_major": 2,
       "version_minor": 0
      },
      "text/plain": [
       "VBox()"
      ]
     },
     "metadata": {},
     "output_type": "display_data"
    },
    {
     "data": {
      "application/vnd.jupyter.widget-view+json": {
       "model_id": "",
       "version_major": 2,
       "version_minor": 0
      },
      "text/plain": [
       "FloatProgress(value=0.0, bar_style='info', description='Progress:', layout=Layout(height='25px', width='50%'),…"
      ]
     },
     "metadata": {},
     "output_type": "display_data"
    }
   ],
   "source": [
    "keyed = field_length.map(lambda x: (x, 1))\n",
    "\n",
    "# Reduce Action - work is done\n",
    "counted = keyed.countByKey()"
   ]
  },
  {
   "cell_type": "code",
   "execution_count": 22,
   "metadata": {
    "colab": {},
    "colab_type": "code",
    "execution": {
     "iopub.execute_input": "2022-07-12T20:40:56.855204Z",
     "iopub.status.busy": "2022-07-12T20:40:56.854682Z",
     "iopub.status.idle": "2022-07-12T20:40:57.270376Z",
     "shell.execute_reply": "2022-07-12T20:40:57.269718Z",
     "shell.execute_reply.started": "2022-07-12T20:40:56.855153Z"
    },
    "id": "CZVdmWcGPqlC",
    "outputId": "507b82f7-7e84-4bf3-b7a4-4fd6ee6d7bcb"
   },
   "outputs": [
    {
     "data": {
      "application/vnd.jupyter.widget-view+json": {
       "model_id": "b960048321f748b29f59ffbf93d135dc",
       "version_major": 2,
       "version_minor": 0
      },
      "text/plain": [
       "VBox()"
      ]
     },
     "metadata": {},
     "output_type": "display_data"
    },
    {
     "data": {
      "application/vnd.jupyter.widget-view+json": {
       "model_id": "",
       "version_major": 2,
       "version_minor": 0
      },
      "text/plain": [
       "FloatProgress(value=0.0, bar_style='info', description='Progress:', layout=Layout(height='25px', width='50%'),…"
      ]
     },
     "metadata": {},
     "output_type": "display_data"
    },
    {
     "name": "stdout",
     "output_type": "stream",
     "text": [
      "defaultdict(<class 'int'>, {22: 8478, 8: 472145, 11: 29417, 15: 4572, 6: 9997, 20: 365, 12: 1054, 9: 3960, 13: 6807, 18: 764, 10: 1753, 29: 2617, 24: 1760, 7: 6999, 19: 44, 21: 19, 17: 110, 5: 215, 14: 1920, 16: 45, 23: 22, 25: 21, 30: 259, 35: 40})"
     ]
    }
   ],
   "source": [
    "print(counted)"
   ]
  },
  {
   "cell_type": "markdown",
   "metadata": {
    "colab_type": "text",
    "id": "VhMAcsX4PqlE"
   },
   "source": [
    "### Working with Spark DataFrames"
   ]
  },
  {
   "cell_type": "markdown",
   "metadata": {
    "colab_type": "text",
    "id": "4i_duMtuPqlG"
   },
   "source": [
    "In practice, working with RDDs is cumbersome and as a data scientist (or even data engineer) it is usually easier to use [DataFrames and Spark SQL](https://spark.apache.org/docs/latest/sql-programming-guide.html) which are higher level APIs built on top of RDDs.\n",
    "\n",
    "The DataFrames API closely mirrors functionality and syntax from pandas, making it easy for a data scientist or developer to transition from working with smaller datasets in a centralized environment (_i.e._ your laptop) to working with large datasets in a distributed Big Data environment. Spark can read data locally from files, databases, large datasets from HDFS, or even from S3 buckets! There is a full list of compatible data sources [here](https://spark.apache.org/docs/latest/sql-data-sources.html)."
   ]
  },
  {
   "cell_type": "code",
   "execution_count": 23,
   "metadata": {
    "colab": {},
    "colab_type": "code",
    "execution": {
     "iopub.execute_input": "2022-07-12T20:40:57.274204Z",
     "iopub.status.busy": "2022-07-12T20:40:57.274009Z",
     "iopub.status.idle": "2022-07-12T20:41:01.013169Z",
     "shell.execute_reply": "2022-07-12T20:41:01.012356Z",
     "shell.execute_reply.started": "2022-07-12T20:40:57.274178Z"
    },
    "id": "IMJAz2wePqlI",
    "tags": []
   },
   "outputs": [
    {
     "data": {
      "application/vnd.jupyter.widget-view+json": {
       "model_id": "ffdaace3f2ba4bd498b48ed79022d3aa",
       "version_major": 2,
       "version_minor": 0
      },
      "text/plain": [
       "VBox()"
      ]
     },
     "metadata": {},
     "output_type": "display_data"
    },
    {
     "data": {
      "application/vnd.jupyter.widget-view+json": {
       "model_id": "",
       "version_major": 2,
       "version_minor": 0
      },
      "text/plain": [
       "FloatProgress(value=0.0, bar_style='info', description='Progress:', layout=Layout(height='25px', width='50%'),…"
      ]
     },
     "metadata": {},
     "output_type": "display_data"
    }
   ],
   "source": [
    "# Read in some data locally\n",
    "df = spark.read.csv('s3://brainstation-dsft/sparklab/uber_nyc_data.csv', header=True)"
   ]
  },
  {
   "cell_type": "markdown",
   "metadata": {
    "colab_type": "text",
    "id": "canTuRQZPqlK"
   },
   "source": [
    "There is also an `inferSchema` parameter that if set to True tells Spark to infer the data types in each column, which requires another pass through the data which can be expensive when working with large datasets. If set to `None` or `False` (default) then all columns are read in as strings.\n",
    "\n",
    "We can print out the schema and data types in human-readable format using `printSchema()`:"
   ]
  },
  {
   "cell_type": "code",
   "execution_count": 24,
   "metadata": {
    "colab": {},
    "colab_type": "code",
    "execution": {
     "iopub.execute_input": "2022-07-12T20:41:01.015426Z",
     "iopub.status.busy": "2022-07-12T20:41:01.015106Z",
     "iopub.status.idle": "2022-07-12T20:41:01.175256Z",
     "shell.execute_reply": "2022-07-12T20:41:01.174522Z",
     "shell.execute_reply.started": "2022-07-12T20:41:01.015383Z"
    },
    "id": "hV2km7fePqlM",
    "outputId": "042b0a76-d8a7-4951-e9c4-a678516968e9"
   },
   "outputs": [
    {
     "data": {
      "application/vnd.jupyter.widget-view+json": {
       "model_id": "597ff5d7542a42d19317fe3417677a58",
       "version_major": 2,
       "version_minor": 0
      },
      "text/plain": [
       "VBox()"
      ]
     },
     "metadata": {},
     "output_type": "display_data"
    },
    {
     "data": {
      "application/vnd.jupyter.widget-view+json": {
       "model_id": "",
       "version_major": 2,
       "version_minor": 0
      },
      "text/plain": [
       "FloatProgress(value=0.0, bar_style='info', description='Progress:', layout=Layout(height='25px', width='50%'),…"
      ]
     },
     "metadata": {},
     "output_type": "display_data"
    },
    {
     "name": "stdout",
     "output_type": "stream",
     "text": [
      "root\n",
      " |-- id: string (nullable = true)\n",
      " |-- origin_taz: string (nullable = true)\n",
      " |-- destination_taz: string (nullable = true)\n",
      " |-- pickup_datetime: string (nullable = true)\n",
      " |-- trip_distance: string (nullable = true)\n",
      " |-- trip_duration: string (nullable = true)"
     ]
    }
   ],
   "source": [
    "df.printSchema()"
   ]
  },
  {
   "cell_type": "markdown",
   "metadata": {
    "colab_type": "text",
    "id": "DE7_7wesPqlO"
   },
   "source": [
    "You can also get a list of the columns using `.columns`:"
   ]
  },
  {
   "cell_type": "code",
   "execution_count": 25,
   "metadata": {
    "colab": {},
    "colab_type": "code",
    "execution": {
     "iopub.execute_input": "2022-07-12T20:41:01.176670Z",
     "iopub.status.busy": "2022-07-12T20:41:01.176409Z",
     "iopub.status.idle": "2022-07-12T20:41:01.444386Z",
     "shell.execute_reply": "2022-07-12T20:41:01.443673Z",
     "shell.execute_reply.started": "2022-07-12T20:41:01.176633Z"
    },
    "id": "gC1rUmURPqlP",
    "outputId": "b79e5507-222e-47ea-b48a-1003d712f7f2"
   },
   "outputs": [
    {
     "data": {
      "application/vnd.jupyter.widget-view+json": {
       "model_id": "66382458a3f2437cb3d040be292aa44a",
       "version_major": 2,
       "version_minor": 0
      },
      "text/plain": [
       "VBox()"
      ]
     },
     "metadata": {},
     "output_type": "display_data"
    },
    {
     "data": {
      "application/vnd.jupyter.widget-view+json": {
       "model_id": "",
       "version_major": 2,
       "version_minor": 0
      },
      "text/plain": [
       "FloatProgress(value=0.0, bar_style='info', description='Progress:', layout=Layout(height='25px', width='50%'),…"
      ]
     },
     "metadata": {},
     "output_type": "display_data"
    },
    {
     "name": "stdout",
     "output_type": "stream",
     "text": [
      "['id', 'origin_taz', 'destination_taz', 'pickup_datetime', 'trip_distance', 'trip_duration']"
     ]
    }
   ],
   "source": [
    "df.columns"
   ]
  },
  {
   "cell_type": "markdown",
   "metadata": {
    "colab_type": "text",
    "id": "x4zEwPoZPqlR"
   },
   "source": [
    "Let's take a look at our data. There is a `head` command for Spark DataFrames just like for those in pandas."
   ]
  },
  {
   "cell_type": "code",
   "execution_count": 26,
   "metadata": {
    "colab": {},
    "colab_type": "code",
    "execution": {
     "iopub.execute_input": "2022-07-12T20:41:01.445774Z",
     "iopub.status.busy": "2022-07-12T20:41:01.445513Z",
     "iopub.status.idle": "2022-07-12T20:41:02.467940Z",
     "shell.execute_reply": "2022-07-12T20:41:02.467157Z",
     "shell.execute_reply.started": "2022-07-12T20:41:01.445736Z"
    },
    "id": "ncDfqT5TPqlR",
    "outputId": "4af38df6-00ac-4e41-8dd1-72be29c45c54"
   },
   "outputs": [
    {
     "data": {
      "application/vnd.jupyter.widget-view+json": {
       "model_id": "055219e575524ad389fbfb39ec1b8cb4",
       "version_major": 2,
       "version_minor": 0
      },
      "text/plain": [
       "VBox()"
      ]
     },
     "metadata": {},
     "output_type": "display_data"
    },
    {
     "data": {
      "application/vnd.jupyter.widget-view+json": {
       "model_id": "",
       "version_major": 2,
       "version_minor": 0
      },
      "text/plain": [
       "FloatProgress(value=0.0, bar_style='info', description='Progress:', layout=Layout(height='25px', width='50%'),…"
      ]
     },
     "metadata": {},
     "output_type": "display_data"
    },
    {
     "name": "stdout",
     "output_type": "stream",
     "text": [
      "[Row(id='252581', origin_taz='7C', destination_taz='6A', pickup_datetime='2014-09-01 09:00:00', trip_distance='4.25', trip_duration='0:15:11'), Row(id='252582', origin_taz='7B', destination_taz='15', pickup_datetime='2014-09-01 18:00:00', trip_distance='10.17', trip_duration='0:34:05'), Row(id='252583', origin_taz='11', destination_taz='2A', pickup_datetime='2014-09-01 17:00:00', trip_distance='4.02', trip_duration='0:17:06'), Row(id='252584', origin_taz='3B', destination_taz='4A', pickup_datetime='2014-09-01 13:00:00', trip_distance='1.46', trip_duration='0:06:32'), Row(id='252585', origin_taz='2A', destination_taz='10', pickup_datetime='2014-09-01 14:00:00', trip_distance='8.31', trip_duration='0:26:17')]"
     ]
    }
   ],
   "source": [
    "# Just like for RDDs, we can show the first few lines using take (or equivalently, df.head(n_rows))\n",
    "df.head(5)"
   ]
  },
  {
   "cell_type": "markdown",
   "metadata": {
    "colab_type": "text",
    "id": "wQrYXkpYPqlU"
   },
   "source": [
    "A Spark DataFrame is actually nothing more than a list made up of special Spark `Row` objects:"
   ]
  },
  {
   "cell_type": "code",
   "execution_count": 27,
   "metadata": {
    "colab": {},
    "colab_type": "code",
    "execution": {
     "iopub.execute_input": "2022-07-12T20:41:02.477934Z",
     "iopub.status.busy": "2022-07-12T20:41:02.469273Z",
     "iopub.status.idle": "2022-07-12T20:41:03.449587Z",
     "shell.execute_reply": "2022-07-12T20:41:03.448827Z",
     "shell.execute_reply.started": "2022-07-12T20:41:02.477888Z"
    },
    "id": "auyc8viYPqlV",
    "outputId": "419caf78-cd95-4bd0-fc9b-1a0983c0fb60"
   },
   "outputs": [
    {
     "data": {
      "application/vnd.jupyter.widget-view+json": {
       "model_id": "b9fe679b1b7c49beb348be0da5daa001",
       "version_major": 2,
       "version_minor": 0
      },
      "text/plain": [
       "VBox()"
      ]
     },
     "metadata": {},
     "output_type": "display_data"
    },
    {
     "data": {
      "application/vnd.jupyter.widget-view+json": {
       "model_id": "",
       "version_major": 2,
       "version_minor": 0
      },
      "text/plain": [
       "FloatProgress(value=0.0, bar_style='info', description='Progress:', layout=Layout(height='25px', width='50%'),…"
      ]
     },
     "metadata": {},
     "output_type": "display_data"
    },
    {
     "name": "stdout",
     "output_type": "stream",
     "text": [
      "<class 'pyspark.sql.types.Row'>"
     ]
    }
   ],
   "source": [
    "df.take(1)[0].__class__"
   ]
  },
  {
   "cell_type": "code",
   "execution_count": 28,
   "metadata": {
    "colab": {},
    "colab_type": "code",
    "execution": {
     "iopub.execute_input": "2022-07-12T20:41:03.450900Z",
     "iopub.status.busy": "2022-07-12T20:41:03.450650Z",
     "iopub.status.idle": "2022-07-12T20:41:04.044344Z",
     "shell.execute_reply": "2022-07-12T20:41:04.032908Z",
     "shell.execute_reply.started": "2022-07-12T20:41:03.450866Z"
    },
    "id": "XDaMFtShPqlX",
    "outputId": "5c48961e-1b22-4d26-cbca-1afb8b279360"
   },
   "outputs": [
    {
     "data": {
      "application/vnd.jupyter.widget-view+json": {
       "model_id": "8578635d98884e76bbf037d9ca81635f",
       "version_major": 2,
       "version_minor": 0
      },
      "text/plain": [
       "VBox()"
      ]
     },
     "metadata": {},
     "output_type": "display_data"
    },
    {
     "data": {
      "application/vnd.jupyter.widget-view+json": {
       "model_id": "",
       "version_major": 2,
       "version_minor": 0
      },
      "text/plain": [
       "FloatProgress(value=0.0, bar_style='info', description='Progress:', layout=Layout(height='25px', width='50%'),…"
      ]
     },
     "metadata": {},
     "output_type": "display_data"
    },
    {
     "name": "stdout",
     "output_type": "stream",
     "text": [
      "Row(id='252581', origin_taz='7C', destination_taz='6A', pickup_datetime='2014-09-01 09:00:00', trip_distance='4.25', trip_duration='0:15:11')"
     ]
    }
   ],
   "source": [
    "df.take(1)[0]"
   ]
  },
  {
   "cell_type": "markdown",
   "metadata": {
    "colab_type": "text",
    "id": "5_uYKnkzPqla"
   },
   "source": [
    "If we use `take` or `head`, we get back lists of Row objects that are not very easy to read. Instead we can call `show` to get nicely formatted tabular data:"
   ]
  },
  {
   "cell_type": "code",
   "execution_count": 29,
   "metadata": {
    "colab": {},
    "colab_type": "code",
    "execution": {
     "iopub.execute_input": "2022-07-12T20:41:04.046064Z",
     "iopub.status.busy": "2022-07-12T20:41:04.045741Z",
     "iopub.status.idle": "2022-07-12T20:41:04.886292Z",
     "shell.execute_reply": "2022-07-12T20:41:04.885476Z",
     "shell.execute_reply.started": "2022-07-12T20:41:04.046024Z"
    },
    "id": "bRrgbICRPqlb",
    "outputId": "c0a4e158-cae7-4d7e-9f5a-38512155f502"
   },
   "outputs": [
    {
     "data": {
      "application/vnd.jupyter.widget-view+json": {
       "model_id": "2f63d95019ce467caf8b97a455b888a8",
       "version_major": 2,
       "version_minor": 0
      },
      "text/plain": [
       "VBox()"
      ]
     },
     "metadata": {},
     "output_type": "display_data"
    },
    {
     "data": {
      "application/vnd.jupyter.widget-view+json": {
       "model_id": "",
       "version_major": 2,
       "version_minor": 0
      },
      "text/plain": [
       "FloatProgress(value=0.0, bar_style='info', description='Progress:', layout=Layout(height='25px', width='50%'),…"
      ]
     },
     "metadata": {},
     "output_type": "display_data"
    },
    {
     "name": "stdout",
     "output_type": "stream",
     "text": [
      "+------+----------+---------------+-------------------+-------------+-------------+\n",
      "|    id|origin_taz|destination_taz|    pickup_datetime|trip_distance|trip_duration|\n",
      "+------+----------+---------------+-------------------+-------------+-------------+\n",
      "|252581|        7C|             6A|2014-09-01 09:00:00|         4.25|      0:15:11|\n",
      "|252582|        7B|             15|2014-09-01 18:00:00|        10.17|      0:34:05|\n",
      "|252583|        11|             2A|2014-09-01 17:00:00|         4.02|      0:17:06|\n",
      "|252584|        3B|             4A|2014-09-01 13:00:00|         1.46|      0:06:32|\n",
      "|252585|        2A|             10|2014-09-01 14:00:00|         8.31|      0:26:17|\n",
      "|252586|        5B|             4C|2014-09-01 12:00:00|         1.04|      0:08:35|\n",
      "|252587|        10|             10|2014-09-01 14:00:00|         1.44|      0:19:36|\n",
      "|252588|        2A|             7A|2014-09-01 03:00:00|         5.08|      0:18:17|\n",
      "|252589|        2B|             3C|2014-09-01 11:00:00|         1.64|      0:07:29|\n",
      "|252590|         9|             5B|2014-09-01 20:00:00|        16.63|      0:28:37|\n",
      "+------+----------+---------------+-------------------+-------------+-------------+\n",
      "only showing top 10 rows"
     ]
    }
   ],
   "source": [
    "df.show(10)"
   ]
  },
  {
   "cell_type": "markdown",
   "metadata": {
    "colab_type": "text",
    "id": "esnf6r5bPqlf"
   },
   "source": [
    "We can also get the total count of rows for the whole dataframe using `.count()`, just like for an RDD:"
   ]
  },
  {
   "cell_type": "code",
   "execution_count": 30,
   "metadata": {
    "colab": {},
    "colab_type": "code",
    "execution": {
     "iopub.execute_input": "2022-07-12T20:41:04.928391Z",
     "iopub.status.busy": "2022-07-12T20:41:04.887638Z",
     "iopub.status.idle": "2022-07-12T20:41:16.850601Z",
     "shell.execute_reply": "2022-07-12T20:41:16.849883Z",
     "shell.execute_reply.started": "2022-07-12T20:41:04.928297Z"
    },
    "id": "wDI8fmb7Pqlg",
    "outputId": "d82562bd-1175-4bec-e345-90986ade0349"
   },
   "outputs": [
    {
     "data": {
      "application/vnd.jupyter.widget-view+json": {
       "model_id": "72f169dfa6074d35af86b340ce34036e",
       "version_major": 2,
       "version_minor": 0
      },
      "text/plain": [
       "VBox()"
      ]
     },
     "metadata": {},
     "output_type": "display_data"
    },
    {
     "data": {
      "application/vnd.jupyter.widget-view+json": {
       "model_id": "",
       "version_major": 2,
       "version_minor": 0
      },
      "text/plain": [
       "FloatProgress(value=0.0, bar_style='info', description='Progress:', layout=Layout(height='25px', width='50%'),…"
      ]
     },
     "metadata": {},
     "output_type": "display_data"
    },
    {
     "name": "stdout",
     "output_type": "stream",
     "text": [
      "30925738"
     ]
    }
   ],
   "source": [
    "df.count()"
   ]
  },
  {
   "cell_type": "markdown",
   "metadata": {
    "colab_type": "text",
    "id": "Pfuen_nPPqlk"
   },
   "source": [
    "For large datasets, even counting the number of rows can be an expensive operation! We can see that there are almost 31 million Uber rides in the dataset!"
   ]
  },
  {
   "cell_type": "markdown",
   "metadata": {
    "colab_type": "text",
    "id": "pWWyjPNlPqlk"
   },
   "source": [
    "Dataframes in Spark are _immutable_, which means that data in individual columns cannot be updated / modified as it would be in other cases (like pandas or R). However, new columns can be created from old columns (and also overwrite/replace entire existing columns) with the `withColumn` function, and unneeded columns dropped using `drop`.\n",
    "\n",
    "While the `drop` function just takes a comma-separated list of column names, the `withColumn` function, like many functions in Spark, takes a DataFrame column as an argument:"
   ]
  },
  {
   "cell_type": "code",
   "execution_count": 31,
   "metadata": {
    "colab": {},
    "colab_type": "code",
    "execution": {
     "iopub.execute_input": "2022-07-12T20:41:16.852000Z",
     "iopub.status.busy": "2022-07-12T20:41:16.851739Z",
     "iopub.status.idle": "2022-07-12T20:41:17.344215Z",
     "shell.execute_reply": "2022-07-12T20:41:17.343470Z",
     "shell.execute_reply.started": "2022-07-12T20:41:16.851965Z"
    },
    "id": "hKOQ1d9RPqll",
    "outputId": "90735e09-9f6d-465d-b162-55b23611bf23"
   },
   "outputs": [
    {
     "data": {
      "application/vnd.jupyter.widget-view+json": {
       "model_id": "64a5742611824d5aaa01dcb9623d07b9",
       "version_major": 2,
       "version_minor": 0
      },
      "text/plain": [
       "VBox()"
      ]
     },
     "metadata": {},
     "output_type": "display_data"
    },
    {
     "data": {
      "application/vnd.jupyter.widget-view+json": {
       "model_id": "",
       "version_major": 2,
       "version_minor": 0
      },
      "text/plain": [
       "FloatProgress(value=0.0, bar_style='info', description='Progress:', layout=Layout(height='25px', width='50%'),…"
      ]
     },
     "metadata": {},
     "output_type": "display_data"
    },
    {
     "name": "stdout",
     "output_type": "stream",
     "text": [
      "root\n",
      " |-- id: string (nullable = true)\n",
      " |-- origin_taz: string (nullable = true)\n",
      " |-- destination_taz: string (nullable = true)\n",
      " |-- pickup_datetime: timestamp (nullable = true)\n",
      " |-- trip_distance: float (nullable = true)\n",
      " |-- trip_duration: string (nullable = true)"
     ]
    }
   ],
   "source": [
    "# Correct the data type of the trip_distance column and datetime columns and replace the entire columns\n",
    "df = df.withColumn(\"trip_distance\", df[\"trip_distance\"].cast('float'))\n",
    "df = df.withColumn(\"pickup_datetime\", df[\"pickup_datetime\"].cast('timestamp'))\n",
    "\n",
    "# Check\n",
    "df.printSchema()"
   ]
  },
  {
   "cell_type": "markdown",
   "metadata": {},
   "source": [
    "We can create a boolean columns using expressions just as we would with a pandas series or numpy array:"
   ]
  },
  {
   "cell_type": "code",
   "execution_count": 32,
   "metadata": {
    "colab": {},
    "colab_type": "code",
    "execution": {
     "iopub.execute_input": "2022-07-12T20:41:17.346730Z",
     "iopub.status.busy": "2022-07-12T20:41:17.346458Z",
     "iopub.status.idle": "2022-07-12T20:41:18.746026Z",
     "shell.execute_reply": "2022-07-12T20:41:18.745314Z",
     "shell.execute_reply.started": "2022-07-12T20:41:17.346690Z"
    },
    "id": "9dIsu9XcPqlo",
    "outputId": "1cb483e4-6440-4588-a4bb-64c355cab1ba"
   },
   "outputs": [
    {
     "data": {
      "application/vnd.jupyter.widget-view+json": {
       "model_id": "21321ddb949549ca8660eaf4200352da",
       "version_major": 2,
       "version_minor": 0
      },
      "text/plain": [
       "VBox()"
      ]
     },
     "metadata": {},
     "output_type": "display_data"
    },
    {
     "data": {
      "application/vnd.jupyter.widget-view+json": {
       "model_id": "",
       "version_major": 2,
       "version_minor": 0
      },
      "text/plain": [
       "FloatProgress(value=0.0, bar_style='info', description='Progress:', layout=Layout(height='25px', width='50%'),…"
      ]
     },
     "metadata": {},
     "output_type": "display_data"
    },
    {
     "name": "stdout",
     "output_type": "stream",
     "text": [
      "+------+----------+---------------+-------------------+-------------+-------------+-----------+\n",
      "|    id|origin_taz|destination_taz|    pickup_datetime|trip_distance|trip_duration|morethan5mi|\n",
      "+------+----------+---------------+-------------------+-------------+-------------+-----------+\n",
      "|252581|        7C|             6A|2014-09-01 09:00:00|         4.25|      0:15:11|      false|\n",
      "|252582|        7B|             15|2014-09-01 18:00:00|        10.17|      0:34:05|       true|\n",
      "|252583|        11|             2A|2014-09-01 17:00:00|         4.02|      0:17:06|      false|\n",
      "|252584|        3B|             4A|2014-09-01 13:00:00|         1.46|      0:06:32|      false|\n",
      "|252585|        2A|             10|2014-09-01 14:00:00|         8.31|      0:26:17|       true|\n",
      "|252586|        5B|             4C|2014-09-01 12:00:00|         1.04|      0:08:35|      false|\n",
      "|252587|        10|             10|2014-09-01 14:00:00|         1.44|      0:19:36|      false|\n",
      "|252588|        2A|             7A|2014-09-01 03:00:00|         5.08|      0:18:17|       true|\n",
      "|252589|        2B|             3C|2014-09-01 11:00:00|         1.64|      0:07:29|      false|\n",
      "|252590|         9|             5B|2014-09-01 20:00:00|        16.63|      0:28:37|       true|\n",
      "|252591|        2A|             14|2014-09-01 01:00:00|         9.73|      0:29:42|       true|\n",
      "|252592|        6B|              8|2014-09-01 07:00:00|         8.41|      0:16:35|       true|\n",
      "|252593|        15|             14|2014-09-01 18:00:00|        11.07|      0:47:42|       true|\n",
      "|252594|        4C|              8|2014-09-01 10:00:00|         7.98|      0:23:05|       true|\n",
      "|252595|        5A|             2A|2014-09-01 17:00:00|         2.01|      0:12:04|      false|\n",
      "|252596|        6B|           NULL|2014-09-01 17:00:00|        11.67|      0:23:45|       true|\n",
      "|252597|         8|             7C|2014-09-01 16:00:00|         8.57|      0:24:31|       true|\n",
      "|252598|        10|             2A|2014-09-01 12:00:00|         3.58|      0:17:55|      false|\n",
      "|252599|        6B|             4A|2014-09-01 17:00:00|         2.53|      0:15:21|      false|\n",
      "|252600|         9|             14|2014-09-01 20:00:00|         8.19|      0:16:04|       true|\n",
      "+------+----------+---------------+-------------------+-------------+-------------+-----------+\n",
      "only showing top 20 rows"
     ]
    }
   ],
   "source": [
    "# Create a new boolean column for trips with distance greater than 5 miles\n",
    "df = df.withColumn('morethan5mi', df['trip_distance'] > 5)\n",
    "df.show()"
   ]
  },
  {
   "cell_type": "code",
   "execution_count": 33,
   "metadata": {
    "colab": {},
    "colab_type": "code",
    "execution": {
     "iopub.execute_input": "2022-07-12T20:41:18.747406Z",
     "iopub.status.busy": "2022-07-12T20:41:18.747133Z",
     "iopub.status.idle": "2022-07-12T20:41:19.813328Z",
     "shell.execute_reply": "2022-07-12T20:41:19.812648Z",
     "shell.execute_reply.started": "2022-07-12T20:41:18.747371Z"
    },
    "id": "Uy2C0EqFPqlq",
    "outputId": "52fe2379-ad90-4672-8ed3-818b2a203b59"
   },
   "outputs": [
    {
     "data": {
      "application/vnd.jupyter.widget-view+json": {
       "model_id": "5a4dcaba7f5543088c01fe0bb1e41bf2",
       "version_major": 2,
       "version_minor": 0
      },
      "text/plain": [
       "VBox()"
      ]
     },
     "metadata": {},
     "output_type": "display_data"
    },
    {
     "data": {
      "application/vnd.jupyter.widget-view+json": {
       "model_id": "",
       "version_major": 2,
       "version_minor": 0
      },
      "text/plain": [
       "FloatProgress(value=0.0, bar_style='info', description='Progress:', layout=Layout(height='25px', width='50%'),…"
      ]
     },
     "metadata": {},
     "output_type": "display_data"
    },
    {
     "name": "stdout",
     "output_type": "stream",
     "text": [
      "+----------+---------------+-------------------+-------------+-----------+\n",
      "|origin_taz|destination_taz|    pickup_datetime|trip_distance|morethan5mi|\n",
      "+----------+---------------+-------------------+-------------+-----------+\n",
      "|        7C|             6A|2014-09-01 09:00:00|         4.25|      false|\n",
      "|        7B|             15|2014-09-01 18:00:00|        10.17|       true|\n",
      "|        11|             2A|2014-09-01 17:00:00|         4.02|      false|\n",
      "|        3B|             4A|2014-09-01 13:00:00|         1.46|      false|\n",
      "|        2A|             10|2014-09-01 14:00:00|         8.31|       true|\n",
      "|        5B|             4C|2014-09-01 12:00:00|         1.04|      false|\n",
      "|        10|             10|2014-09-01 14:00:00|         1.44|      false|\n",
      "|        2A|             7A|2014-09-01 03:00:00|         5.08|       true|\n",
      "|        2B|             3C|2014-09-01 11:00:00|         1.64|      false|\n",
      "|         9|             5B|2014-09-01 20:00:00|        16.63|       true|\n",
      "+----------+---------------+-------------------+-------------+-----------+\n",
      "only showing top 10 rows"
     ]
    }
   ],
   "source": [
    "# Drop the id and trip_duration columns and display result\n",
    "df.drop('id', 'trip_duration').show(10)"
   ]
  },
  {
   "cell_type": "markdown",
   "metadata": {
    "colab_type": "text",
    "id": "tmutKKI0Pqls"
   },
   "source": [
    "Finally, we can split the string into components and create a new column to get the trip duration in seconds:"
   ]
  },
  {
   "cell_type": "code",
   "execution_count": 34,
   "metadata": {
    "colab": {},
    "colab_type": "code",
    "execution": {
     "iopub.execute_input": "2022-07-12T20:41:19.815719Z",
     "iopub.status.busy": "2022-07-12T20:41:19.815490Z",
     "iopub.status.idle": "2022-07-12T20:41:20.857069Z",
     "shell.execute_reply": "2022-07-12T20:41:20.856309Z",
     "shell.execute_reply.started": "2022-07-12T20:41:19.815692Z"
    },
    "id": "KK8mAHSqPqlt",
    "outputId": "42433e10-158f-4a6b-80bb-cc2f6df4ebf9"
   },
   "outputs": [
    {
     "data": {
      "application/vnd.jupyter.widget-view+json": {
       "model_id": "928d3f2e14c04fcbb8b6649e1dab9548",
       "version_major": 2,
       "version_minor": 0
      },
      "text/plain": [
       "VBox()"
      ]
     },
     "metadata": {},
     "output_type": "display_data"
    },
    {
     "data": {
      "application/vnd.jupyter.widget-view+json": {
       "model_id": "",
       "version_major": 2,
       "version_minor": 0
      },
      "text/plain": [
       "FloatProgress(value=0.0, bar_style='info', description='Progress:', layout=Layout(height='25px', width='50%'),…"
      ]
     },
     "metadata": {},
     "output_type": "display_data"
    },
    {
     "name": "stdout",
     "output_type": "stream",
     "text": [
      "+------+----------+---------------+-------------------+-------------+-------------+-----------+-------------+\n",
      "|    id|origin_taz|destination_taz|    pickup_datetime|trip_distance|trip_duration|morethan5mi|duration_secs|\n",
      "+------+----------+---------------+-------------------+-------------+-------------+-----------+-------------+\n",
      "|252581|        7C|             6A|2014-09-01 09:00:00|         4.25|      0:15:11|      false|        911.0|\n",
      "|252582|        7B|             15|2014-09-01 18:00:00|        10.17|      0:34:05|       true|       2045.0|\n",
      "|252583|        11|             2A|2014-09-01 17:00:00|         4.02|      0:17:06|      false|       1026.0|\n",
      "|252584|        3B|             4A|2014-09-01 13:00:00|         1.46|      0:06:32|      false|        392.0|\n",
      "|252585|        2A|             10|2014-09-01 14:00:00|         8.31|      0:26:17|       true|       1577.0|\n",
      "|252586|        5B|             4C|2014-09-01 12:00:00|         1.04|      0:08:35|      false|        515.0|\n",
      "|252587|        10|             10|2014-09-01 14:00:00|         1.44|      0:19:36|      false|       1176.0|\n",
      "|252588|        2A|             7A|2014-09-01 03:00:00|         5.08|      0:18:17|       true|       1097.0|\n",
      "|252589|        2B|             3C|2014-09-01 11:00:00|         1.64|      0:07:29|      false|        449.0|\n",
      "|252590|         9|             5B|2014-09-01 20:00:00|        16.63|      0:28:37|       true|       1717.0|\n",
      "|252591|        2A|             14|2014-09-01 01:00:00|         9.73|      0:29:42|       true|       1782.0|\n",
      "|252592|        6B|              8|2014-09-01 07:00:00|         8.41|      0:16:35|       true|        995.0|\n",
      "|252593|        15|             14|2014-09-01 18:00:00|        11.07|      0:47:42|       true|       2862.0|\n",
      "|252594|        4C|              8|2014-09-01 10:00:00|         7.98|      0:23:05|       true|       1385.0|\n",
      "|252595|        5A|             2A|2014-09-01 17:00:00|         2.01|      0:12:04|      false|        724.0|\n",
      "|252596|        6B|           NULL|2014-09-01 17:00:00|        11.67|      0:23:45|       true|       1425.0|\n",
      "|252597|         8|             7C|2014-09-01 16:00:00|         8.57|      0:24:31|       true|       1471.0|\n",
      "|252598|        10|             2A|2014-09-01 12:00:00|         3.58|      0:17:55|      false|       1075.0|\n",
      "|252599|        6B|             4A|2014-09-01 17:00:00|         2.53|      0:15:21|      false|        921.0|\n",
      "|252600|         9|             14|2014-09-01 20:00:00|         8.19|      0:16:04|       true|        964.0|\n",
      "+------+----------+---------------+-------------------+-------------+-------------+-----------+-------------+\n",
      "only showing top 20 rows"
     ]
    }
   ],
   "source": [
    "from pyspark.sql.functions import split\n",
    "df = df.withColumn(\"split_col\", split(df['trip_duration'], ':'))\n",
    "df = df.withColumn('hours', df['split_col'].getItem(0).cast('int'))  \n",
    "df = df.withColumn('minutes', df['split_col'].getItem(1).cast('int'))\n",
    "df = df.withColumn('seconds', df['split_col'].getItem(2).cast('int'))\n",
    "df = df.withColumn('duration_secs', df['hours']*3600.0 + df['minutes']*60.0 + df['seconds'])\n",
    "df = df.drop('split_col', 'hours', 'minutes', 'seconds')\n",
    "df.show()"
   ]
  },
  {
   "cell_type": "markdown",
   "metadata": {
    "colab_type": "text",
    "id": "K2_dGG_uPqly"
   },
   "source": [
    "And then we can summarize the duration_secs column to see the distribution of trip lengths:"
   ]
  },
  {
   "cell_type": "code",
   "execution_count": 35,
   "metadata": {
    "colab": {},
    "colab_type": "code",
    "execution": {
     "iopub.execute_input": "2022-07-12T20:41:20.858879Z",
     "iopub.status.busy": "2022-07-12T20:41:20.858364Z",
     "iopub.status.idle": "2022-07-12T20:41:55.148155Z",
     "shell.execute_reply": "2022-07-12T20:41:55.147402Z",
     "shell.execute_reply.started": "2022-07-12T20:41:20.858840Z"
    },
    "id": "V4SkZZywPqlz",
    "outputId": "85d52ff5-a118-4ce4-83af-a5ed59e604f9"
   },
   "outputs": [
    {
     "data": {
      "application/vnd.jupyter.widget-view+json": {
       "model_id": "4d221c1e4c2040bc8f1c93cfa1c71dfa",
       "version_major": 2,
       "version_minor": 0
      },
      "text/plain": [
       "VBox()"
      ]
     },
     "metadata": {},
     "output_type": "display_data"
    },
    {
     "data": {
      "application/vnd.jupyter.widget-view+json": {
       "model_id": "",
       "version_major": 2,
       "version_minor": 0
      },
      "text/plain": [
       "FloatProgress(value=0.0, bar_style='info', description='Progress:', layout=Layout(height='25px', width='50%'),…"
      ]
     },
     "metadata": {},
     "output_type": "display_data"
    },
    {
     "name": "stdout",
     "output_type": "stream",
     "text": [
      "+-------+------------------+\n",
      "|summary|     duration_secs|\n",
      "+-------+------------------+\n",
      "|  count|          30925700|\n",
      "|   mean|1340.0212437551938|\n",
      "| stddev|222733.92597508585|\n",
      "|    min|               0.0|\n",
      "|    max|      6.19317543E8|\n",
      "+-------+------------------+"
     ]
    }
   ],
   "source": [
    "df.describe('duration_secs').show()"
   ]
  },
  {
   "cell_type": "markdown",
   "metadata": {
    "colab_type": "text",
    "id": "dQtHFTDdPql1"
   },
   "source": [
    "In a working Big Data environment, large datasets would be initially read into Spark and worked with using the distributed (cluster) environment and then can be converted to pandas once they've been reduced down by filtering, aggregation, and other processing. \n",
    "\n",
    "If pandas is present on the head node, there is also a `toPandas` function which will even convert a Spark DataFrame into a pandas one! However, this is not the default setup for clusters on EMR, so we will not do this here. It should also be noted that if available, care should be taken when using the `toPandas`, as it must be guaranteed that the data in the Spark DataFrame will fit into memory in a pandas one!\n",
    "\n",
    "A more common approach would be to write reduced data out to either HDFS or another filesystem (S3, Google Cloud Storage, Azure Blob Storage, etc.) or even a database as part of a Big Data analysis workflow."
   ]
  },
  {
   "cell_type": "markdown",
   "metadata": {
    "colab_type": "text",
    "id": "qSyPZaSKPql2"
   },
   "source": [
    "### Spark SQL"
   ]
  },
  {
   "cell_type": "markdown",
   "metadata": {
    "colab_type": "text",
    "id": "JwKmK7O8Pql3"
   },
   "source": [
    "Spark SQL refers both to the aggregation functions available to work with data within DataFrames as one would with RDDs, as well as the ability to conveniently query and aggregate data using ordinary SQL queries via use of the `spark.sql` module. Spark SQL can also be used to query any data that is available in Hive tables directly.\n",
    "\n",
    "It should be emphasized that Spark is not a database (!) however the internals can take SQL queries and converts them into transformations which are then optimized and executed by the Spark engine.\n",
    "\n",
    "Actions and transformations that can be applied using Spark SQL functions have equivalent representations as a SQL query that can be executed using `spark.sql` and may be executed in either fashion."
   ]
  },
  {
   "cell_type": "code",
   "execution_count": 36,
   "metadata": {
    "colab": {},
    "colab_type": "code",
    "execution": {
     "iopub.execute_input": "2022-07-12T20:41:55.149827Z",
     "iopub.status.busy": "2022-07-12T20:41:55.149513Z",
     "iopub.status.idle": "2022-07-12T20:41:56.097418Z",
     "shell.execute_reply": "2022-07-12T20:41:56.096643Z",
     "shell.execute_reply.started": "2022-07-12T20:41:55.149726Z"
    },
    "id": "k9aR2lGMPql4",
    "outputId": "a09a34f8-155a-4b25-fe0a-235cf61570fa"
   },
   "outputs": [
    {
     "data": {
      "application/vnd.jupyter.widget-view+json": {
       "model_id": "f8db617c2ddb40cb87fb0871dfaf3699",
       "version_major": 2,
       "version_minor": 0
      },
      "text/plain": [
       "VBox()"
      ]
     },
     "metadata": {},
     "output_type": "display_data"
    },
    {
     "data": {
      "application/vnd.jupyter.widget-view+json": {
       "model_id": "",
       "version_major": 2,
       "version_minor": 0
      },
      "text/plain": [
       "FloatProgress(value=0.0, bar_style='info', description='Progress:', layout=Layout(height='25px', width='50%'),…"
      ]
     },
     "metadata": {},
     "output_type": "display_data"
    },
    {
     "name": "stdout",
     "output_type": "stream",
     "text": [
      "+----------+-------------+\n",
      "|origin_taz|trip_distance|\n",
      "+----------+-------------+\n",
      "|        7C|         4.25|\n",
      "|        7B|        10.17|\n",
      "|        11|         4.02|\n",
      "|        3B|         1.46|\n",
      "|        2A|         8.31|\n",
      "|        5B|         1.04|\n",
      "|        10|         1.44|\n",
      "|        2A|         5.08|\n",
      "|        2B|         1.64|\n",
      "|         9|        16.63|\n",
      "+----------+-------------+\n",
      "only showing top 10 rows"
     ]
    }
   ],
   "source": [
    "df.select('origin_taz', 'trip_distance').show(10)"
   ]
  },
  {
   "cell_type": "markdown",
   "metadata": {
    "colab_type": "text",
    "id": "PaZV5WUFPql6"
   },
   "source": [
    "Using SQL requires the `CreateorReplaceTempView` function, which registers the data as a view in the Spark session. We can then query against that view with SQL, with the view name being the table name:"
   ]
  },
  {
   "cell_type": "code",
   "execution_count": 37,
   "metadata": {
    "colab": {},
    "colab_type": "code",
    "execution": {
     "iopub.execute_input": "2022-07-12T20:41:56.098896Z",
     "iopub.status.busy": "2022-07-12T20:41:56.098578Z",
     "iopub.status.idle": "2022-07-12T20:41:58.734637Z",
     "shell.execute_reply": "2022-07-12T20:41:58.733874Z",
     "shell.execute_reply.started": "2022-07-12T20:41:56.098858Z"
    },
    "id": "3MgptM2XPql7",
    "outputId": "a479e792-fd58-4cc8-c488-1e86ca674bfe"
   },
   "outputs": [
    {
     "data": {
      "application/vnd.jupyter.widget-view+json": {
       "model_id": "ecf7defd9fca4d2aac09f144b0a7d168",
       "version_major": 2,
       "version_minor": 0
      },
      "text/plain": [
       "VBox()"
      ]
     },
     "metadata": {},
     "output_type": "display_data"
    },
    {
     "data": {
      "application/vnd.jupyter.widget-view+json": {
       "model_id": "",
       "version_major": 2,
       "version_minor": 0
      },
      "text/plain": [
       "FloatProgress(value=0.0, bar_style='info', description='Progress:', layout=Layout(height='25px', width='50%'),…"
      ]
     },
     "metadata": {},
     "output_type": "display_data"
    },
    {
     "name": "stdout",
     "output_type": "stream",
     "text": [
      "+----------+-------------+\n",
      "|origin_taz|trip_distance|\n",
      "+----------+-------------+\n",
      "|        7C|         4.25|\n",
      "|        7B|        10.17|\n",
      "|        11|         4.02|\n",
      "|        3B|         1.46|\n",
      "|        2A|         8.31|\n",
      "|        5B|         1.04|\n",
      "|        10|         1.44|\n",
      "|        2A|         5.08|\n",
      "|        2B|         1.64|\n",
      "|         9|        16.63|\n",
      "+----------+-------------+\n",
      "only showing top 10 rows"
     ]
    }
   ],
   "source": [
    "df.createOrReplaceTempView(\"uber_nyc\")\n",
    "spark.sql(\"SELECT origin_taz, trip_distance FROM uber_nyc\").show(10)"
   ]
  },
  {
   "cell_type": "markdown",
   "metadata": {},
   "source": [
    "Let's do a simple `GROUP BY` to count the number of trips present in the data set per year:"
   ]
  },
  {
   "cell_type": "code",
   "execution_count": 38,
   "metadata": {
    "colab": {},
    "colab_type": "code",
    "execution": {
     "iopub.execute_input": "2022-07-12T20:41:58.736242Z",
     "iopub.status.busy": "2022-07-12T20:41:58.735847Z",
     "iopub.status.idle": "2022-07-12T20:42:20.755847Z",
     "shell.execute_reply": "2022-07-12T20:42:20.754960Z",
     "shell.execute_reply.started": "2022-07-12T20:41:58.736204Z"
    },
    "id": "MUL9rlI0Pql-",
    "outputId": "64139835-7f93-45e5-f5d5-b1f3c60e66c9"
   },
   "outputs": [
    {
     "data": {
      "application/vnd.jupyter.widget-view+json": {
       "model_id": "b972e4bd480d47ea90bce2ebd59c43f9",
       "version_major": 2,
       "version_minor": 0
      },
      "text/plain": [
       "VBox()"
      ]
     },
     "metadata": {},
     "output_type": "display_data"
    },
    {
     "data": {
      "application/vnd.jupyter.widget-view+json": {
       "model_id": "",
       "version_major": 2,
       "version_minor": 0
      },
      "text/plain": [
       "FloatProgress(value=0.0, bar_style='info', description='Progress:', layout=Layout(height='25px', width='50%'),…"
      ]
     },
     "metadata": {},
     "output_type": "display_data"
    },
    {
     "name": "stdout",
     "output_type": "stream",
     "text": [
      "+-----------------------------------+--------+\n",
      "|year(CAST(pickup_datetime AS DATE))|count(1)|\n",
      "+-----------------------------------+--------+\n",
      "|                               2015|23499302|\n",
      "|                               2014| 7426436|\n",
      "+-----------------------------------+--------+"
     ]
    }
   ],
   "source": [
    "spark.sql(\"SELECT YEAR(pickup_datetime), COUNT(*) FROM uber_nyc GROUP BY YEAR(pickup_datetime)\").show(10);"
   ]
  },
  {
   "cell_type": "markdown",
   "metadata": {},
   "source": [
    "We can use Spark SQL functions to calculate the average distance from the area of origin:"
   ]
  },
  {
   "cell_type": "code",
   "execution_count": 39,
   "metadata": {
    "colab": {},
    "colab_type": "code",
    "execution": {
     "iopub.execute_input": "2022-07-12T20:42:20.757368Z",
     "iopub.status.busy": "2022-07-12T20:42:20.757114Z",
     "iopub.status.idle": "2022-07-12T20:42:40.702941Z",
     "shell.execute_reply": "2022-07-12T20:42:40.702160Z",
     "shell.execute_reply.started": "2022-07-12T20:42:20.757333Z"
    },
    "id": "Z5zkugbEPqmB",
    "outputId": "19ab4fa7-0b2c-4998-c3d0-0269193ad3f6"
   },
   "outputs": [
    {
     "data": {
      "application/vnd.jupyter.widget-view+json": {
       "model_id": "2f15e3f45eac4014b2dd87c05342330e",
       "version_major": 2,
       "version_minor": 0
      },
      "text/plain": [
       "VBox()"
      ]
     },
     "metadata": {},
     "output_type": "display_data"
    },
    {
     "data": {
      "application/vnd.jupyter.widget-view+json": {
       "model_id": "",
       "version_major": 2,
       "version_minor": 0
      },
      "text/plain": [
       "FloatProgress(value=0.0, bar_style='info', description='Progress:', layout=Layout(height='25px', width='50%'),…"
      ]
     },
     "metadata": {},
     "output_type": "display_data"
    },
    {
     "name": "stdout",
     "output_type": "stream",
     "text": [
      "+----------+------------------+\n",
      "|origin_taz|avg(trip_distance)|\n",
      "+----------+------------------+\n",
      "|        15| 5.186272880957412|\n",
      "|        11| 4.543250304394352|\n",
      "|         8| 11.48813942374257|\n",
      "|        4B| 4.923632563383967|\n",
      "|        3B|4.0397300822100926|\n",
      "|        7A| 5.260484663656681|\n",
      "|        16| 6.783649924989385|\n",
      "|        7B| 5.255862307165336|\n",
      "|        7C| 6.210172574180387|\n",
      "|        17| 9.869550069758546|\n",
      "+----------+------------------+\n",
      "only showing top 10 rows"
     ]
    }
   ],
   "source": [
    "# Perform a transformation using Spark SQL\n",
    "# Group by the InvoiceNo and sum the UnitPrice\n",
    "df.groupby('origin_taz').avg('trip_distance').show(10)"
   ]
  },
  {
   "cell_type": "markdown",
   "metadata": {},
   "source": [
    "This can be written equivalently using `spark.sql` and a SQL query:"
   ]
  },
  {
   "cell_type": "code",
   "execution_count": 40,
   "metadata": {
    "colab": {},
    "colab_type": "code",
    "execution": {
     "iopub.execute_input": "2022-07-12T20:42:40.704652Z",
     "iopub.status.busy": "2022-07-12T20:42:40.704389Z",
     "iopub.status.idle": "2022-07-12T20:42:56.984163Z",
     "shell.execute_reply": "2022-07-12T20:42:56.983504Z",
     "shell.execute_reply.started": "2022-07-12T20:42:40.704616Z"
    },
    "id": "P4iTGjkNPqmD",
    "outputId": "792cae18-3f20-432f-82c4-575d9b4edaef"
   },
   "outputs": [
    {
     "data": {
      "application/vnd.jupyter.widget-view+json": {
       "model_id": "c1eb25a38ef04876a6a7492bc1e90dc4",
       "version_major": 2,
       "version_minor": 0
      },
      "text/plain": [
       "VBox()"
      ]
     },
     "metadata": {},
     "output_type": "display_data"
    },
    {
     "data": {
      "application/vnd.jupyter.widget-view+json": {
       "model_id": "",
       "version_major": 2,
       "version_minor": 0
      },
      "text/plain": [
       "FloatProgress(value=0.0, bar_style='info', description='Progress:', layout=Layout(height='25px', width='50%'),…"
      ]
     },
     "metadata": {},
     "output_type": "display_data"
    },
    {
     "name": "stdout",
     "output_type": "stream",
     "text": [
      "+----------+------------------+\n",
      "|origin_taz|avg(trip_distance)|\n",
      "+----------+------------------+\n",
      "|        15| 5.186272880957412|\n",
      "|        11| 4.543250304394352|\n",
      "|         8| 11.48813942374257|\n",
      "|        3B|4.0397300822100926|\n",
      "|        4B| 4.923632563383967|\n",
      "|        7A| 5.260484663656681|\n",
      "|        16| 6.783649924989385|\n",
      "|        7B| 5.255862307165336|\n",
      "|        7C| 6.210172574180387|\n",
      "|        17| 9.869550069758546|\n",
      "+----------+------------------+\n",
      "only showing top 10 rows"
     ]
    }
   ],
   "source": [
    "# Equivalently my use a SQL query and spark.sql to do the same\n",
    "spark.sql('SELECT origin_taz, AVG(trip_distance) FROM uber_nyc GROUP BY origin_taz').show(10)"
   ]
  },
  {
   "cell_type": "markdown",
   "metadata": {
    "colab_type": "text",
    "id": "DBV12HYqPqmF"
   },
   "source": [
    "We can also use the `withColumnRenamed` function to rename columns (useful for aggregated columns):"
   ]
  },
  {
   "cell_type": "code",
   "execution_count": 41,
   "metadata": {
    "colab": {},
    "colab_type": "code",
    "execution": {
     "iopub.execute_input": "2022-07-12T20:42:56.986697Z",
     "iopub.status.busy": "2022-07-12T20:42:56.986504Z",
     "iopub.status.idle": "2022-07-12T20:43:14.859901Z",
     "shell.execute_reply": "2022-07-12T20:43:14.859151Z",
     "shell.execute_reply.started": "2022-07-12T20:42:56.986673Z"
    },
    "id": "qPrqQxzPPqmG",
    "outputId": "8bffb07b-557f-45c7-ebdd-35278817da5d"
   },
   "outputs": [
    {
     "data": {
      "application/vnd.jupyter.widget-view+json": {
       "model_id": "8916688ed2504065b2377fe1cc32f20f",
       "version_major": 2,
       "version_minor": 0
      },
      "text/plain": [
       "VBox()"
      ]
     },
     "metadata": {},
     "output_type": "display_data"
    },
    {
     "data": {
      "application/vnd.jupyter.widget-view+json": {
       "model_id": "",
       "version_major": 2,
       "version_minor": 0
      },
      "text/plain": [
       "FloatProgress(value=0.0, bar_style='info', description='Progress:', layout=Layout(height='25px', width='50%'),…"
      ]
     },
     "metadata": {},
     "output_type": "display_data"
    },
    {
     "name": "stdout",
     "output_type": "stream",
     "text": [
      "+----------+------------------+\n",
      "|origin_taz|      avg_distance|\n",
      "+----------+------------------+\n",
      "|        15| 5.186272880957412|\n",
      "|        11| 4.543250304394352|\n",
      "|         8| 11.48813942374257|\n",
      "|        3B|4.0397300822100926|\n",
      "|        4B| 4.923632563383967|\n",
      "|        7A| 5.260484663656681|\n",
      "|        16| 6.783649924989385|\n",
      "|        7B| 5.255862307165336|\n",
      "|        7C| 6.210172574180387|\n",
      "|        17| 9.869550069758546|\n",
      "+----------+------------------+\n",
      "only showing top 10 rows"
     ]
    }
   ],
   "source": [
    "df.groupby('origin_taz').avg('trip_distance').withColumnRenamed('avg(trip_distance)', 'avg_distance').show(10)"
   ]
  },
  {
   "cell_type": "markdown",
   "metadata": {
    "colab_type": "text",
    "id": "xGj6FN5-PqmI"
   },
   "source": [
    "Finally when finished, a Spark session can be halted with `stop()`."
   ]
  },
  {
   "cell_type": "code",
   "execution_count": 42,
   "metadata": {
    "colab": {},
    "colab_type": "code",
    "execution": {
     "iopub.execute_input": "2022-07-12T20:43:14.929304Z",
     "iopub.status.busy": "2022-07-12T20:43:14.928728Z",
     "iopub.status.idle": "2022-07-12T20:43:15.354893Z",
     "shell.execute_reply": "2022-07-12T20:43:15.354116Z",
     "shell.execute_reply.started": "2022-07-12T20:43:14.929259Z"
    },
    "id": "RBv44QNSPqmJ"
   },
   "outputs": [
    {
     "data": {
      "application/vnd.jupyter.widget-view+json": {
       "model_id": "0402c879807a49cd8e13793f1036077a",
       "version_major": 2,
       "version_minor": 0
      },
      "text/plain": [
       "VBox()"
      ]
     },
     "metadata": {},
     "output_type": "display_data"
    },
    {
     "data": {
      "application/vnd.jupyter.widget-view+json": {
       "model_id": "",
       "version_major": 2,
       "version_minor": 0
      },
      "text/plain": [
       "FloatProgress(value=0.0, bar_style='info', description='Progress:', layout=Layout(height='25px', width='50%'),…"
      ]
     },
     "metadata": {},
     "output_type": "display_data"
    }
   ],
   "source": [
    "# Do not run! (we're going to keep working)\n",
    "#spark.stop()"
   ]
  },
  {
   "cell_type": "markdown",
   "metadata": {
    "colab_type": "text",
    "id": "s-mvttHaPqmL",
    "tags": []
   },
   "source": [
    "### Exercise\n",
    "\n",
    "1. Read in the [NYC Yellow Cab trip data](https://www1.nyc.gov/site/tlc/about/tlc-trip-record-data.page) from the following S3 bucket:\n",
    "`s3://brainstation-dsft/sparklab/yellow_tripdata_2018-10.csv`\n",
    "2. Print schema of the DataFrame - how does Spark read in all columns by default?\n",
    "3. Display the first row of the data and the first 10 rows of data.\n",
    "4. What is the total number of rows in the dataset? How many Yellow Trips were there in NYC in total in October 2018?\n",
    "5. Using `withColumn` and `cast`, convert the following columns to the correct data types:\n",
    "    - **tpep_pickup_datetime**: `timestamp`\n",
    "    - **passenger_count**: `int`\n",
    "    - **trip_distance**: `float`\n",
    "    - **fare_amount**: `float`\n",
    "    - **tip_amount**: `float`\n",
    "    - **extra**: `float`\n",
    "6. Calculate a new column, `tip_pct`, which is the tip percentage relative to the base fare, show the top 10 records of this new column.\n",
    "7. Calculate the average tip percentage across all rides.\n",
    "8. Register a view to allow the use of `spark.sql`, and calculate the number of rides per hour of day across all days in the dataset. Which are the most popular times of day?\n",
    "---"
   ]
  },
  {
   "cell_type": "code",
   "execution_count": null,
   "metadata": {},
   "outputs": [],
   "source": []
  },
  {
   "cell_type": "markdown",
   "metadata": {
    "colab_type": "text",
    "id": "4fqM3u7dPqmM"
   },
   "source": [
    "<div id=\"container\" style=\"position:relative;\">\n",
    "<div style=\"position:relative; float:right\"><img style=\"height:25px\"\"width: 50px\" src =\"https://drive.google.com/uc?export=view&id=14VoXUJftgptWtdNhtNYVm6cjVmEWpki1\" />\n",
    "</div>\n",
    "</div>"
   ]
  }
 ],
 "metadata": {
  "colab": {
   "collapsed_sections": [
    "FUJ0cYfyPqkL",
    "vOGeudD9PqkO",
    "P6OCYPGfPqke",
    "VhMAcsX4PqlE",
    "qSyPZaSKPql2"
   ],
   "name": "Spark.ipynb",
   "provenance": [],
   "version": "0.3.2"
  },
  "kernelspec": {
   "display_name": "Python 3 (ipykernel)",
   "language": "python",
   "name": "python3"
  },
  "language_info": {
   "codemirror_mode": {
    "name": "ipython",
    "version": 3
   },
   "file_extension": ".py",
   "mimetype": "text/x-python",
   "name": "python",
   "nbconvert_exporter": "python",
   "pygments_lexer": "ipython3",
   "version": "3.9.12"
  }
 },
 "nbformat": 4,
 "nbformat_minor": 4
}
