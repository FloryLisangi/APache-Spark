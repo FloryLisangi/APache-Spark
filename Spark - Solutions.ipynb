{
 "cells": [
  {
   "cell_type": "markdown",
   "metadata": {
    "id": "_l9eQ49tPqje"
   },
   "source": [
    "# Apache Spark to Spark"
   ]
  },
  {
   "cell_type": "markdown",
   "metadata": {
    "id": "i8mGlZ6rPqjf"
   },
   "source": [
    "### What is Spark?"
   ]
  },
  {
   "cell_type": "markdown",
   "metadata": {
    "id": "7qJ7yGhDPqjg"
   },
   "source": [
    "Apache Spark is an in-memory distributed computing system with high-level APIs in Java, Scala, Python and R, and a graph-based optimization engine. It also supports a rich set of higher-level tools including Spark SQL for SQL and structured data processing, MLlib for machine learning, GraphX for graph processing, and Spark Streaming. Unlike Hadoop, Spark does not write to disk but keeps data in memory and so is typically much faster for performing data engineering, analysis, and modeling tasks within Big Data environments and with large data sets."
   ]
  },
  {
   "cell_type": "markdown",
   "metadata": {
    "id": "-AIzfsNHPqjh"
   },
   "source": [
    "### Spark Basics and Spark SQL"
   ]
  },
  {
   "cell_type": "markdown",
   "metadata": {
    "id": "Tae4buwmPqji"
   },
   "source": [
    "First we will initialize the [SparkContext and SparkSession](https://spark.apache.org/docs/2.2.0/rdd-programming-guide.html#initializing-spark).\n",
    "\n",
    "Once the session is initialized, we can view running jobs and other related information in the [Spark Web UI](https://spark.apache.org/docs/latest/monitoring.html#web-interfaces). \n",
    "\n",
    "By default, the UI is accessed through port 4040, and can be accessed by either navigating the Web UI URL on that port (default: http://localhost:4040) or by accessing through the SparkSession object details. (Note: On EMR, viewing the Spark UI and Driver log links below requires SSH tunneling with port-forwarding)."
   ]
  },
  {
   "cell_type": "code",
   "execution_count": null,
   "metadata": {
    "colab": {
     "referenced_widgets": [
      "17e8904a18124f529f5c4f380f6306ab",
      ""
     ]
    },
    "execution": {
     "iopub.execute_input": "2022-07-12T20:41:28.850453Z",
     "iopub.status.busy": "2022-07-12T20:41:28.849947Z",
     "iopub.status.idle": "2022-07-12T20:42:02.430490Z",
     "shell.execute_reply": "2022-07-12T20:42:02.429481Z",
     "shell.execute_reply.started": "2022-07-12T20:41:28.850409Z"
    },
    "id": "GfxeHnmOPqjj",
    "outputId": "41353220-c4d5-4766-9289-3e7c488599cc",
    "tags": []
   },
   "outputs": [
    {
     "data": {
      "application/vnd.jupyter.widget-view+json": {
       "model_id": "17e8904a18124f529f5c4f380f6306ab",
       "version_major": 2,
       "version_minor": 0
      },
      "text/plain": [
       "VBox()"
      ]
     },
     "metadata": {},
     "output_type": "display_data"
    },
    {
     "name": "stdout",
     "output_type": "stream",
     "text": [
      "Starting Spark application\n"
     ]
    },
    {
     "data": {
      "text/html": [
       "<table>\n",
       "<tr><th>ID</th><th>YARN Application ID</th><th>Kind</th><th>State</th><th>Spark UI</th><th>Driver log</th><th>Current session?</th></tr><tr><td>2</td><td>application_1657656595047_0003</td><td>pyspark</td><td>idle</td><td><a target=\"_blank\" href=\"http://ip-172-31-15-14.ca-central-1.compute.internal:20888/proxy/application_1657656595047_0003/\">Link</a></td><td><a target=\"_blank\" href=\"http://ip-172-31-9-182.ca-central-1.compute.internal:8042/node/containerlogs/container_1657656595047_0003_01_000002/livy\">Link</a></td><td>✔</td></tr></table>"
      ],
      "text/plain": [
       "<IPython.core.display.HTML object>"
      ]
     },
     "metadata": {},
     "output_type": "display_data"
    },
    {
     "data": {
      "application/vnd.jupyter.widget-view+json": {
       "model_id": "",
       "version_major": 2,
       "version_minor": 0
      },
      "text/plain": [
       "FloatProgress(value=0.0, bar_style='info', description='Progress:', layout=Layout(height='25px', width='50%'),…"
      ]
     },
     "metadata": {},
     "output_type": "display_data"
    },
    {
     "name": "stdout",
     "output_type": "stream",
     "text": [
      "SparkSession available as 'spark'.\n"
     ]
    },
    {
     "data": {
      "application/vnd.jupyter.widget-view+json": {
       "model_id": "",
       "version_major": 2,
       "version_minor": 0
      },
      "text/plain": [
       "FloatProgress(value=0.0, bar_style='info', description='Progress:', layout=Layout(height='25px', width='50%'),…"
      ]
     },
     "metadata": {},
     "output_type": "display_data"
    },
    {
     "name": "stdout",
     "output_type": "stream",
     "text": [
      "<pyspark.sql.session.SparkSession object at 0x7fb71b46ca90>"
     ]
    }
   ],
   "source": [
    "spark"
   ]
  },
  {
   "cell_type": "code",
   "execution_count": null,
   "metadata": {
    "colab": {
     "referenced_widgets": [
      "5385094784ac4aa1aae45ec271d0597c",
      ""
     ]
    },
    "execution": {
     "iopub.execute_input": "2022-07-12T20:42:02.432323Z",
     "iopub.status.busy": "2022-07-12T20:42:02.431914Z",
     "iopub.status.idle": "2022-07-12T20:42:02.737610Z",
     "shell.execute_reply": "2022-07-12T20:42:02.736846Z",
     "shell.execute_reply.started": "2022-07-12T20:42:02.432280Z"
    },
    "id": "_ZW-rIj8C4EM",
    "outputId": "59ab8846-fd2b-4739-d2a5-a38782cec3a8",
    "scrolled": true,
    "tags": []
   },
   "outputs": [
    {
     "data": {
      "application/vnd.jupyter.widget-view+json": {
       "model_id": "5385094784ac4aa1aae45ec271d0597c",
       "version_major": 2,
       "version_minor": 0
      },
      "text/plain": [
       "VBox()"
      ]
     },
     "metadata": {},
     "output_type": "display_data"
    },
    {
     "data": {
      "application/vnd.jupyter.widget-view+json": {
       "model_id": "",
       "version_major": 2,
       "version_minor": 0
      },
      "text/plain": [
       "FloatProgress(value=0.0, bar_style='info', description='Progress:', layout=Layout(height='25px', width='50%'),…"
      ]
     },
     "metadata": {},
     "output_type": "display_data"
    },
    {
     "name": "stdout",
     "output_type": "stream",
     "text": [
      "<SparkContext master=yarn appName=livy-session-2>"
     ]
    }
   ],
   "source": [
    "sc"
   ]
  },
  {
   "cell_type": "markdown",
   "metadata": {
    "id": "FuuPgDO9Pqjo"
   },
   "source": [
    "### Working with Spark RDDs"
   ]
  },
  {
   "cell_type": "markdown",
   "metadata": {
    "id": "XK6ba6E5Pqjp"
   },
   "source": [
    "The main abstraction Spark uses are objects called *resilient distributed datasets*, which partitions and distributes data across the nodes of the cluster such that it can be operated on in parallel.\n",
    "\n",
    "There are two ways to create an RDD: either by parallelizing existing data in memory, or by reading in / referencing a data set.\n",
    "\n",
    "For the former, if we have regular data in python, _e.g._ in a list, we can distribute it across the memory of the nodes by using `sc.parallelize`. This will return an object of class RDD:"
   ]
  },
  {
   "cell_type": "code",
   "execution_count": null,
   "metadata": {
    "colab": {
     "referenced_widgets": [
      "ef2e49501478441da9daabe39bf42815",
      ""
     ]
    },
    "execution": {
     "iopub.execute_input": "2022-07-12T20:42:02.739896Z",
     "iopub.status.busy": "2022-07-12T20:42:02.739478Z",
     "iopub.status.idle": "2022-07-12T20:42:03.213655Z",
     "shell.execute_reply": "2022-07-12T20:42:03.212776Z",
     "shell.execute_reply.started": "2022-07-12T20:42:02.739853Z"
    },
    "id": "Waoyryo5Pqjq",
    "outputId": "0bef1ed0-2e47-4725-eacb-033037eab75e",
    "tags": []
   },
   "outputs": [
    {
     "data": {
      "application/vnd.jupyter.widget-view+json": {
       "model_id": "ef2e49501478441da9daabe39bf42815",
       "version_major": 2,
       "version_minor": 0
      },
      "text/plain": [
       "VBox()"
      ]
     },
     "metadata": {},
     "output_type": "display_data"
    },
    {
     "data": {
      "application/vnd.jupyter.widget-view+json": {
       "model_id": "",
       "version_major": 2,
       "version_minor": 0
      },
      "text/plain": [
       "FloatProgress(value=0.0, bar_style='info', description='Progress:', layout=Layout(height='25px', width='50%'),…"
      ]
     },
     "metadata": {},
     "output_type": "display_data"
    },
    {
     "name": "stdout",
     "output_type": "stream",
     "text": [
      "<class 'pyspark.rdd.RDD'>"
     ]
    }
   ],
   "source": [
    "import numpy as np\n",
    "data = np.random.rand(1000)\n",
    "distdata = sc.parallelize(data)\n",
    "print(distdata.__class__)"
   ]
  },
  {
   "cell_type": "markdown",
   "metadata": {
    "id": "n-LXOr4jPqjt"
   },
   "source": [
    "We can also read data into an RDD directly from a datasource. Here we will work with the [Open Air Quality dataset](https://registry.opendata.aws/openaq/) from OpenAQ, which is publicly readable from an S3 bucket:"
   ]
  },
  {
   "cell_type": "code",
   "execution_count": null,
   "metadata": {
    "colab": {
     "referenced_widgets": [
      "1bf20054e38648828ad9c1bd1d085bd3",
      ""
     ]
    },
    "execution": {
     "iopub.execute_input": "2022-07-12T20:42:03.215672Z",
     "iopub.status.busy": "2022-07-12T20:42:03.215409Z",
     "iopub.status.idle": "2022-07-12T20:42:04.177628Z",
     "shell.execute_reply": "2022-07-12T20:42:04.176913Z",
     "shell.execute_reply.started": "2022-07-12T20:42:03.215636Z"
    },
    "id": "kveHlZpNPqju",
    "outputId": "06a9307b-020c-4bc4-ebdb-dc8d92603c8c",
    "tags": []
   },
   "outputs": [
    {
     "data": {
      "application/vnd.jupyter.widget-view+json": {
       "model_id": "1bf20054e38648828ad9c1bd1d085bd3",
       "version_major": 2,
       "version_minor": 0
      },
      "text/plain": [
       "VBox()"
      ]
     },
     "metadata": {},
     "output_type": "display_data"
    },
    {
     "data": {
      "application/vnd.jupyter.widget-view+json": {
       "model_id": "",
       "version_major": 2,
       "version_minor": 0
      },
      "text/plain": [
       "FloatProgress(value=0.0, bar_style='info', description='Progress:', layout=Layout(height='25px', width='50%'),…"
      ]
     },
     "metadata": {},
     "output_type": "display_data"
    }
   ],
   "source": [
    "data = sc.textFile('s3://brainstation-dsft/sparklab/openaq-2017-09-05.csv')"
   ]
  },
  {
   "cell_type": "markdown",
   "metadata": {
    "id": "pkhV__NJPqjw"
   },
   "source": [
    "### Inspecting Data"
   ]
  },
  {
   "cell_type": "markdown",
   "metadata": {
    "id": "yyzFYYozPqjx"
   },
   "source": [
    "To examine the first few rows of an RDD, we can call the `take` function:"
   ]
  },
  {
   "cell_type": "code",
   "execution_count": null,
   "metadata": {
    "colab": {
     "referenced_widgets": [
      "1a8b0a1680ec445581ecaf39e1e2ef11",
      ""
     ]
    },
    "execution": {
     "iopub.execute_input": "2022-07-12T20:42:04.179268Z",
     "iopub.status.busy": "2022-07-12T20:42:04.178725Z",
     "iopub.status.idle": "2022-07-12T20:44:28.468288Z",
     "shell.execute_reply": "2022-07-12T20:44:28.467489Z",
     "shell.execute_reply.started": "2022-07-12T20:42:04.179198Z"
    },
    "id": "l7Pp606uPqjy",
    "outputId": "8f831d0c-1d8d-4c3f-80c9-e7ded7fb5354",
    "tags": []
   },
   "outputs": [
    {
     "data": {
      "application/vnd.jupyter.widget-view+json": {
       "model_id": "1a8b0a1680ec445581ecaf39e1e2ef11",
       "version_major": 2,
       "version_minor": 0
      },
      "text/plain": [
       "VBox()"
      ]
     },
     "metadata": {},
     "output_type": "display_data"
    },
    {
     "data": {
      "application/vnd.jupyter.widget-view+json": {
       "model_id": "",
       "version_major": 2,
       "version_minor": 0
      },
      "text/plain": [
       "FloatProgress(value=0.0, bar_style='info', description='Progress:', layout=Layout(height='25px', width='50%'),…"
      ]
     },
     "metadata": {},
     "output_type": "display_data"
    },
    {
     "name": "stdout",
     "output_type": "stream",
     "text": [
      "['\"Wynyard\",\"1\",\"µg/m³\",\"pm25\",\"AU\",\"Tasmania Region\",\"Australia - Tasmania\",\"2017-09-04T23:54:19.000Z\",\"2017-09-05T09:54:19+10:00\",\"government\",\"false\",\"-40.9918\",\"145.719\",\"0.25\",\"hours\"', '\"Wynyard\",\"2\",\"µg/m³\",\"pm10\",\"AU\",\"Tasmania Region\",\"Australia - Tasmania\",\"2017-09-04T23:54:19.000Z\",\"2017-09-05T09:54:19+10:00\",\"government\",\"false\",\"-40.9918\",\"145.719\",\"0.25\",\"hours\"', '\"Emu River\",\"0\",\"µg/m³\",\"pm25\",\"AU\",\"Tasmania Region\",\"Australia - Tasmania\",\"2017-09-04T23:54:17.000Z\",\"2017-09-05T09:54:17+10:00\",\"government\",\"false\",\"-41.1081\",\"145.883\",\"0.25\",\"hours\"', '\"Emu River\",\"1\",\"µg/m³\",\"pm10\",\"AU\",\"Tasmania Region\",\"Australia - Tasmania\",\"2017-09-04T23:54:17.000Z\",\"2017-09-05T09:54:17+10:00\",\"government\",\"false\",\"-41.1081\",\"145.883\",\"0.25\",\"hours\"', '\"West Ulverstone\",\"0\",\"µg/m³\",\"pm25\",\"AU\",\"Tasmania Region\",\"Australia - Tasmania\",\"2017-09-04T23:54:22.000Z\",\"2017-09-05T09:54:22+10:00\",\"government\",\"false\",\"-41.1586\",\"146.146\",\"0.25\",\"hours\"']"
     ]
    }
   ],
   "source": [
    "data.take(5)"
   ]
  },
  {
   "cell_type": "markdown",
   "metadata": {
    "id": "Vaah3T3iPqj1"
   },
   "source": [
    "You can see the data is stored as raw text and`take` returns a list of strings. We can also count the number of rows in the RDD to see how much data we're working with:"
   ]
  },
  {
   "cell_type": "code",
   "execution_count": null,
   "metadata": {
    "colab": {
     "referenced_widgets": [
      "a57e89bf696c443f9760b0352c5ef497",
      ""
     ]
    },
    "execution": {
     "iopub.execute_input": "2022-07-12T20:44:28.470245Z",
     "iopub.status.busy": "2022-07-12T20:44:28.469679Z",
     "iopub.status.idle": "2022-07-12T20:44:31.230608Z",
     "shell.execute_reply": "2022-07-12T20:44:31.229743Z",
     "shell.execute_reply.started": "2022-07-12T20:44:28.470204Z"
    },
    "id": "VGIAa_mzPqj1",
    "outputId": "f6712bbc-7d72-49bb-b8b3-c09625cbf099",
    "tags": []
   },
   "outputs": [
    {
     "data": {
      "application/vnd.jupyter.widget-view+json": {
       "model_id": "a57e89bf696c443f9760b0352c5ef497",
       "version_major": 2,
       "version_minor": 0
      },
      "text/plain": [
       "VBox()"
      ]
     },
     "metadata": {},
     "output_type": "display_data"
    },
    {
     "data": {
      "application/vnd.jupyter.widget-view+json": {
       "model_id": "",
       "version_major": 2,
       "version_minor": 0
      },
      "text/plain": [
       "FloatProgress(value=0.0, bar_style='info', description='Progress:', layout=Layout(height='25px', width='50%'),…"
      ]
     },
     "metadata": {},
     "output_type": "display_data"
    },
    {
     "name": "stdout",
     "output_type": "stream",
     "text": [
      "553383"
     ]
    }
   ],
   "source": [
    "data.count()"
   ]
  },
  {
   "cell_type": "markdown",
   "metadata": {
    "id": "EZOFE76ePqj4"
   },
   "source": [
    "We can get information about how the data is partitioned:"
   ]
  },
  {
   "cell_type": "code",
   "execution_count": null,
   "metadata": {
    "colab": {
     "referenced_widgets": [
      "ffde1a43a4534f62b43d91de6675bfc6",
      ""
     ]
    },
    "execution": {
     "iopub.execute_input": "2022-07-12T20:44:31.234063Z",
     "iopub.status.busy": "2022-07-12T20:44:31.233632Z",
     "iopub.status.idle": "2022-07-12T20:44:31.739874Z",
     "shell.execute_reply": "2022-07-12T20:44:31.739093Z",
     "shell.execute_reply.started": "2022-07-12T20:44:31.234019Z"
    },
    "id": "AIE2wgTZPqj5",
    "outputId": "4372db51-f295-4b71-9d2d-b32b085b71a7",
    "tags": []
   },
   "outputs": [
    {
     "data": {
      "application/vnd.jupyter.widget-view+json": {
       "model_id": "ffde1a43a4534f62b43d91de6675bfc6",
       "version_major": 2,
       "version_minor": 0
      },
      "text/plain": [
       "VBox()"
      ]
     },
     "metadata": {},
     "output_type": "display_data"
    },
    {
     "data": {
      "application/vnd.jupyter.widget-view+json": {
       "model_id": "",
       "version_major": 2,
       "version_minor": 0
      },
      "text/plain": [
       "FloatProgress(value=0.0, bar_style='info', description='Progress:', layout=Layout(height='25px', width='50%'),…"
      ]
     },
     "metadata": {},
     "output_type": "display_data"
    },
    {
     "name": "stdout",
     "output_type": "stream",
     "text": [
      "2"
     ]
    }
   ],
   "source": [
    "data.getNumPartitions()"
   ]
  },
  {
   "cell_type": "markdown",
   "metadata": {
    "id": "5BLXTXMnPqj8"
   },
   "source": [
    "and modify the number of partitions to optimize how the data are parallelized:"
   ]
  },
  {
   "cell_type": "code",
   "execution_count": null,
   "metadata": {
    "colab": {
     "referenced_widgets": [
      "ec1200b5dabf4dc3abba8e02103619a0",
      ""
     ]
    },
    "execution": {
     "iopub.execute_input": "2022-07-12T20:44:31.742928Z",
     "iopub.status.busy": "2022-07-12T20:44:31.742427Z",
     "iopub.status.idle": "2022-07-12T20:44:32.160964Z",
     "shell.execute_reply": "2022-07-12T20:44:32.160286Z",
     "shell.execute_reply.started": "2022-07-12T20:44:31.742883Z"
    },
    "id": "9IG6OF7bPqj8",
    "outputId": "edccf9d9-01a3-4513-a6b0-d212d84402ec",
    "tags": []
   },
   "outputs": [
    {
     "data": {
      "application/vnd.jupyter.widget-view+json": {
       "model_id": "ec1200b5dabf4dc3abba8e02103619a0",
       "version_major": 2,
       "version_minor": 0
      },
      "text/plain": [
       "VBox()"
      ]
     },
     "metadata": {},
     "output_type": "display_data"
    },
    {
     "data": {
      "application/vnd.jupyter.widget-view+json": {
       "model_id": "",
       "version_major": 2,
       "version_minor": 0
      },
      "text/plain": [
       "FloatProgress(value=0.0, bar_style='info', description='Progress:', layout=Layout(height='25px', width='50%'),…"
      ]
     },
     "metadata": {},
     "output_type": "display_data"
    }
   ],
   "source": [
    "data = data.repartition(3)"
   ]
  },
  {
   "cell_type": "code",
   "execution_count": null,
   "metadata": {
    "colab": {
     "referenced_widgets": [
      "ee83c8e308fc4eb4a11b502b26a4346b",
      ""
     ]
    },
    "execution": {
     "iopub.execute_input": "2022-07-12T20:44:32.163066Z",
     "iopub.status.busy": "2022-07-12T20:44:32.162796Z",
     "iopub.status.idle": "2022-07-12T20:44:32.465892Z",
     "shell.execute_reply": "2022-07-12T20:44:32.464999Z",
     "shell.execute_reply.started": "2022-07-12T20:44:32.163025Z"
    },
    "id": "VqHLk0iVPqkE",
    "outputId": "85855927-4900-4107-b566-9eff506bc127",
    "tags": []
   },
   "outputs": [
    {
     "data": {
      "application/vnd.jupyter.widget-view+json": {
       "model_id": "ee83c8e308fc4eb4a11b502b26a4346b",
       "version_major": 2,
       "version_minor": 0
      },
      "text/plain": [
       "VBox()"
      ]
     },
     "metadata": {},
     "output_type": "display_data"
    },
    {
     "data": {
      "application/vnd.jupyter.widget-view+json": {
       "model_id": "",
       "version_major": 2,
       "version_minor": 0
      },
      "text/plain": [
       "FloatProgress(value=0.0, bar_style='info', description='Progress:', layout=Layout(height='25px', width='50%'),…"
      ]
     },
     "metadata": {},
     "output_type": "display_data"
    },
    {
     "name": "stdout",
     "output_type": "stream",
     "text": [
      "3"
     ]
    }
   ],
   "source": [
    "data.getNumPartitions()"
   ]
  },
  {
   "cell_type": "code",
   "execution_count": null,
   "metadata": {
    "colab": {
     "referenced_widgets": [
      "227b6c60dcf3488881478323fbfe4662",
      ""
     ]
    },
    "execution": {
     "iopub.execute_input": "2022-07-12T20:44:32.482648Z",
     "iopub.status.busy": "2022-07-12T20:44:32.482346Z",
     "iopub.status.idle": "2022-07-12T20:44:36.154882Z",
     "shell.execute_reply": "2022-07-12T20:44:36.153989Z",
     "shell.execute_reply.started": "2022-07-12T20:44:32.482619Z"
    },
    "id": "nHRxZnJIPqkG",
    "outputId": "5342c40c-0e50-4f3e-87e3-949da98e36b3",
    "tags": []
   },
   "outputs": [
    {
     "data": {
      "application/vnd.jupyter.widget-view+json": {
       "model_id": "227b6c60dcf3488881478323fbfe4662",
       "version_major": 2,
       "version_minor": 0
      },
      "text/plain": [
       "VBox()"
      ]
     },
     "metadata": {},
     "output_type": "display_data"
    },
    {
     "data": {
      "application/vnd.jupyter.widget-view+json": {
       "model_id": "",
       "version_major": 2,
       "version_minor": 0
      },
      "text/plain": [
       "FloatProgress(value=0.0, bar_style='info', description='Progress:', layout=Layout(height='25px', width='50%'),…"
      ]
     },
     "metadata": {},
     "output_type": "display_data"
    },
    {
     "name": "stdout",
     "output_type": "stream",
     "text": [
      "553383"
     ]
    }
   ],
   "source": [
    "data.count()"
   ]
  },
  {
   "cell_type": "markdown",
   "metadata": {
    "id": "FUJ0cYfyPqkL"
   },
   "source": [
    "### Transformations and Actions"
   ]
  },
  {
   "cell_type": "markdown",
   "metadata": {
    "id": "Jby3xUFwPqkN"
   },
   "source": [
    "In Spark, _transformations_ create new data sets from existing data, whereas _actions_ return a value after doing a computation. The important very important distinction between the two is while transformations will add computations to the plan without executing it immediately, it is only when an action is called that all the computations will be done. This is known as _lazy evaluation_.\n"
   ]
  },
  {
   "cell_type": "markdown",
   "metadata": {
    "id": "vOGeudD9PqkO"
   },
   "source": [
    "#### RDD Transformations"
   ]
  },
  {
   "cell_type": "markdown",
   "metadata": {
    "id": "vD2YEH_JPqkP"
   },
   "source": [
    "Spark RDD functions relies heavily on functional programming concepts and the use of lambda functions to apply operations across all elements in an RDD. The `map` function will apply the lambda function to each row of an RDD and return a new RDD of the transformed data as a result:"
   ]
  },
  {
   "cell_type": "code",
   "execution_count": null,
   "metadata": {
    "execution": {
     "iopub.execute_input": "2022-07-12T20:44:36.156436Z",
     "iopub.status.busy": "2022-07-12T20:44:36.156163Z",
     "iopub.status.idle": "2022-07-12T20:44:36.595306Z",
     "shell.execute_reply": "2022-07-12T20:44:36.594396Z",
     "shell.execute_reply.started": "2022-07-12T20:44:36.156399Z"
    },
    "id": "2HssXzhkPqkQ",
    "outputId": "8b2371cc-91c3-4ad4-84e5-3d1b933e9202",
    "tags": []
   },
   "outputs": [
    {
     "data": {
      "application/vnd.jupyter.widget-view+json": {
       "model_id": "b12790cb01ed45aca5d24fa8025321ed",
       "version_major": 2,
       "version_minor": 0
      },
      "text/plain": [
       "VBox()"
      ]
     },
     "metadata": {},
     "output_type": "display_data"
    },
    {
     "data": {
      "application/vnd.jupyter.widget-view+json": {
       "model_id": "",
       "version_major": 2,
       "version_minor": 0
      },
      "text/plain": [
       "FloatProgress(value=0.0, bar_style='info', description='Progress:', layout=Layout(height='25px', width='50%'),…"
      ]
     },
     "metadata": {},
     "output_type": "display_data"
    },
    {
     "name": "stdout",
     "output_type": "stream",
     "text": [
      "Raw data:\n",
      "['\"George Town\",\"1\",\"µg/m³\",\"pm25\",\"AU\",\"Tasmania Region\",\"Australia - Tasmania\",\"2017-09-04T23:52:22.000Z\",\"2017-09-05T09:52:22+10:00\",\"government\",\"false\",\"-41.1109\",\"146.836\",\"0.25\",\"hours\"', '\"George Town\",\"3\",\"µg/m³\",\"pm10\",\"AU\",\"Tasmania Region\",\"Australia - Tasmania\",\"2017-09-04T23:52:22.000Z\",\"2017-09-05T09:52:22+10:00\",\"government\",\"false\",\"-41.1109\",\"146.836\",\"0.25\",\"hours\"', '\"Exeter\",\"0\",\"µg/m³\",\"pm25\",\"AU\",\"Tasmania Region\",\"Australia - Tasmania\",\"2017-09-04T23:52:17.000Z\",\"2017-09-05T09:52:17+10:00\",\"government\",\"false\",\"-41.3056\",\"146.951\",\"0.25\",\"hours\"', '\"Exeter\",\"1\",\"µg/m³\",\"pm10\",\"AU\",\"Tasmania Region\",\"Australia - Tasmania\",\"2017-09-04T23:52:17.000Z\",\"2017-09-05T09:52:17+10:00\",\"government\",\"false\",\"-41.3056\",\"146.951\",\"0.25\",\"hours\"', '\"Ti Tree Bend\",\"0\",\"µg/m³\",\"pm25\",\"AU\",\"Tasmania Region\",\"Australia - Tasmania\",\"2017-09-04T23:52:06.000Z\",\"2017-09-05T09:52:06+10:00\",\"government\",\"false\",\"-41.4174\",\"147.125\",\"0.25\",\"hours\"']\n",
      "\n",
      "Mapped data:\n",
      "['\"2017-09-05T09:52:22+10:00\"', '\"2017-09-05T09:52:22+10:00\"', '\"2017-09-05T09:52:17+10:00\"', '\"2017-09-05T09:52:17+10:00\"', '\"2017-09-05T09:52:06+10:00\"', '\"2017-09-05T09:52:06+10:00\"', '\"2017-09-05T09:52:20+10:00\"', '\"2017-09-05T09:52:20+10:00\"', '\"2017-09-05T09:52:21+10:00\"', '\"2017-09-05T09:52:21+10:00\"']"
     ]
    }
   ],
   "source": [
    "# Map function\n",
    "print(\"Raw data:\")\n",
    "print(data.take(5))\n",
    "print(\"\")\n",
    "\n",
    "print(\"Mapped data:\")\n",
    "# Split each row (string) of the RDD by commas and take the 10th element (timestamp)\n",
    "print(data.map(lambda x: x.split(\",\")[8]).take(10))\n",
    "print(\"\")"
   ]
  },
  {
   "cell_type": "markdown",
   "metadata": {
    "id": "WYRMgzV3PqkU"
   },
   "source": [
    "The filter function iterates over the rows and returns a new dataframe matching the condition in the lambda function:"
   ]
  },
  {
   "cell_type": "code",
   "execution_count": null,
   "metadata": {
    "execution": {
     "iopub.execute_input": "2022-07-12T20:44:36.596883Z",
     "iopub.status.busy": "2022-07-12T20:44:36.596624Z",
     "iopub.status.idle": "2022-07-12T20:44:36.994682Z",
     "shell.execute_reply": "2022-07-12T20:44:36.993977Z",
     "shell.execute_reply.started": "2022-07-12T20:44:36.596844Z"
    },
    "id": "tDTd0msGPqkW",
    "outputId": "ca63da3a-5a49-4c00-d90c-77bd63dfad08",
    "tags": []
   },
   "outputs": [
    {
     "data": {
      "application/vnd.jupyter.widget-view+json": {
       "model_id": "b4e35f4b1da4483089f4ef118590af56",
       "version_major": 2,
       "version_minor": 0
      },
      "text/plain": [
       "VBox()"
      ]
     },
     "metadata": {},
     "output_type": "display_data"
    },
    {
     "data": {
      "application/vnd.jupyter.widget-view+json": {
       "model_id": "",
       "version_major": 2,
       "version_minor": 0
      },
      "text/plain": [
       "FloatProgress(value=0.0, bar_style='info', description='Progress:', layout=Layout(height='25px', width='50%'),…"
      ]
     },
     "metadata": {},
     "output_type": "display_data"
    },
    {
     "name": "stdout",
     "output_type": "stream",
     "text": [
      "['\"Australia - Tasmania\"']"
     ]
    }
   ],
   "source": [
    "# Get the country name field using map and split\n",
    "print(data.map(lambda x: x.split(\",\")[6]).take(1))"
   ]
  },
  {
   "cell_type": "code",
   "execution_count": null,
   "metadata": {
    "execution": {
     "iopub.execute_input": "2022-07-12T20:44:36.998320Z",
     "iopub.status.busy": "2022-07-12T20:44:36.998111Z",
     "iopub.status.idle": "2022-07-12T20:44:37.463575Z",
     "shell.execute_reply": "2022-07-12T20:44:37.462760Z",
     "shell.execute_reply.started": "2022-07-12T20:44:36.998293Z"
    },
    "id": "Tz62PJncPqkZ",
    "outputId": "ac91387f-c1ec-4203-8947-2005d1b488d8",
    "tags": []
   },
   "outputs": [
    {
     "data": {
      "application/vnd.jupyter.widget-view+json": {
       "model_id": "b79c5ee79f984b6a8cd52053aef54f69",
       "version_major": 2,
       "version_minor": 0
      },
      "text/plain": [
       "VBox()"
      ]
     },
     "metadata": {},
     "output_type": "display_data"
    },
    {
     "data": {
      "application/vnd.jupyter.widget-view+json": {
       "model_id": "",
       "version_major": 2,
       "version_minor": 0
      },
      "text/plain": [
       "FloatProgress(value=0.0, bar_style='info', description='Progress:', layout=Layout(height='25px', width='50%'),…"
      ]
     },
     "metadata": {},
     "output_type": "display_data"
    },
    {
     "name": "stdout",
     "output_type": "stream",
     "text": [
      "['\"Australia - Tasmania\"']\n",
      "['\"Doğubeyazıt\",\"35\",\"µg/m³\",\"pm10\",\"TR\",\"Ağrı\",\"Turkey\",\"2017-09-05T00:00:00.000Z\",\"2017-09-05T03:00:00+03:00\",\"government\",\"false\",\"39.5476\",\"44.083595\",\"1\",\"hours\"']"
     ]
    }
   ],
   "source": [
    "# Get the country name field using map and split\n",
    "print(data.map(lambda x: x.split(\",\")[6]).take(1))\n",
    "\n",
    "# Filter only rows where the country name is equal to Turkey\n",
    "print(data.filter(lambda x: x.split(\",\")[6] == '\"Turkey\"').take(1))"
   ]
  },
  {
   "cell_type": "markdown",
   "metadata": {
    "id": "g7PUhjVBC4ET"
   },
   "source": [
    "There is also a groupBy function to perform aggregations. Calling `.collect()` is an action that returns the result, so the plan is executed."
   ]
  },
  {
   "cell_type": "code",
   "execution_count": null,
   "metadata": {
    "execution": {
     "iopub.execute_input": "2022-07-12T20:44:37.465132Z",
     "iopub.status.busy": "2022-07-12T20:44:37.464870Z",
     "iopub.status.idle": "2022-07-12T20:44:44.032519Z",
     "shell.execute_reply": "2022-07-12T20:44:44.031520Z",
     "shell.execute_reply.started": "2022-07-12T20:44:37.465094Z"
    },
    "id": "8XoWthCQPqkc",
    "outputId": "e119b67f-fd48-436b-91dd-bf1d01f8843b",
    "tags": []
   },
   "outputs": [
    {
     "data": {
      "application/vnd.jupyter.widget-view+json": {
       "model_id": "50120942b50b4d009a43f45e9e97bfa9",
       "version_major": 2,
       "version_minor": 0
      },
      "text/plain": [
       "VBox()"
      ]
     },
     "metadata": {},
     "output_type": "display_data"
    },
    {
     "data": {
      "application/vnd.jupyter.widget-view+json": {
       "model_id": "",
       "version_major": 2,
       "version_minor": 0
      },
      "text/plain": [
       "FloatProgress(value=0.0, bar_style='info', description='Progress:', layout=Layout(height='25px', width='50%'),…"
      ]
     },
     "metadata": {},
     "output_type": "display_data"
    },
    {
     "name": "stdout",
     "output_type": "stream",
     "text": [
      "\"Australia - Tasmania\" 8352\n",
      "\"Bosnia\" 685\n",
      "\"CPCB\" 9840\n",
      "\"Thiruvananthapuram\" 270\n",
      "\"Chandrapur\" 192\n",
      "\"StateAir_Kathmandu\" 48\n",
      "\"AirNow\" 55489\n",
      "\"EEA Denmark\" 574\n",
      "\"StateAir_Chennai\" 23\n",
      "\"StateAir_Hyderabad\" 24\n",
      "\"StateAir_Kolkata\" 24\n",
      "\"StateAir_Mumbai\" 24\n",
      "\"Kolkata\" 183\n",
      "\"Yala\" 85\n",
      "\"Nan\" 215\n",
      "\"Shanghai\" 23\n",
      "\"StateAir_Dhaka\" 22\n",
      "\"Slovenian Environment Agency\" 141\n",
      "\"Muscatine\" 40\n",
      "\"Thailand\" 40\n",
      "\"Samut Prakan\" 113\n",
      "\"Bergen\" 72\n",
      "\"Nonthaburi\" 12\n",
      "\"StateAir_Addis_Ababa_School\" 22\n",
      "\"Nashik\" 199\n",
      "\"Phayao\" 111\n",
      "\"Nakhon Sawan\" 110\n",
      "\"Andalucia\" 20952\n",
      "\"Iowa City\" 20\n",
      "\"Durgapur\" 104\n",
      "\"Chachoengsao\" 4\n",
      "\"Sao Paulo\" 4356\n",
      "\"Chile - SINCA\" 4548\n",
      "\"Israel\" 401836\n",
      "\"Vijayawara\" 234\n",
      "\"Ludhiana\" 438\n",
      "\"Netherlands\" 6118\n",
      "\"Sweden\" 494\n",
      "\"Lampang\" 383\n",
      "\"Australia - Queensland\" 1760\n",
      "\"Chillán\" 44\n",
      "\"StateAir_NewDelhi\" 22\n",
      "\"Thane\" 135\n",
      "\"Amritsar\" 396\n",
      "\"StateAir_KuwaitCity\" 19\n",
      "\"Hamar\" 24\n",
      "\"Saraburi\" 176\n",
      "\"Ratchaburi\" 111\n",
      "\"Mae Hong Son\" 21\n",
      "\"Prachin Buri\" 84\n",
      "\"Beijing US Embassy\" 23\n",
      "\"Chengdu\" 23\n",
      "\"Shenyang\" 23\n",
      "\"Kanchanaburi\" 95\n",
      "\"StateAir_Manama\" 44\n",
      "\"StateAir_JakartaCentral\" 21\n",
      "\"Chiang Rai\" 2\n",
      "\"Mosecom\" 2173\n",
      "\"Chon Buri\" 146\n",
      "\"Lamphun\" 103\n",
      "\"StateAir_Pristina\" 22\n",
      "\"Satun\" 110\n",
      "\"Kahului-Wailuku\" 20\n",
      "\"Waterloo-Cedar Falls\" 40\n",
      "\"Davenport-Moline-Rock Island\" 96\n",
      "\"Ho Chi Minh City\" 23\n",
      "\"Phuket\" 110\n",
      "\"Aurangabad\" 209\n",
      "\"RIO BLANCO\" 36\n",
      "\"Nagpur\" 67\n",
      "\"Providence-New Bedford-Fall River\" 40\n",
      "\"StateAir_Kampala\" 20\n",
      "\"StateAir_Hanoi\" 23\n",
      "\"Songkhla\" 6\n",
      "\"Norway\" 2682\n",
      "\"Bangkok\" 663\n",
      "\"Surat Thani\" 115\n",
      "\"Turkey\" 9980\n",
      "\"Bosnia_Tuzlanski\" 569\n",
      "\"Lucknow\" 328\n",
      "\"Agaar.mn\" 547\n",
      "\"Gjøvik\" 72\n",
      "\"Australia - New South Wales\" 2595\n",
      "\"DEFRA\" 6639\n",
      "\"Hyderabad\" 1123\n",
      "\"Narathiwat\" 77\n",
      "\"Oslo\" 72\n",
      "\"Rayong\" 338\n",
      "\"Guangzhou\" 23\n",
      "\"Ayutthaya\" 40\n",
      "\"Samut Sakhon\" 131\n",
      "\"StateAir_JakartaSouth\" 22\n",
      "\"MUSCATINE\" 38\n",
      "\"StateAir_Lima\" 24\n",
      "\"Chiang Mai\" 181\n",
      "\"StateAir_Bogota\" 22\n",
      "\"StateAir_Addis_Ababa_Central\" 22\n",
      "\"Clinton\" 60\n",
      "\"Buenos Aires\" 216\n",
      "\"Phrae\" 91\n",
      "\"PALO ALTO\" 29\n",
      "\"St. Louis\" 19\n",
      "\"Mandi Gobindgarh\" 105\n",
      "\"StateAir_PhoraDurbar\" 49\n",
      "\"ARPALAZIO\" 2631\n",
      "\"StateAir_Ulaanbaatar\" 21\n",
      "\"Omaha-Council Bluffs\" 16\n",
      "\"Richards Bay\" 1146\n",
      "\"Rohtak\" 10"
     ]
    }
   ],
   "source": [
    "#GroupBy\n",
    "grouped = data.groupBy(lambda x: x.split(\",\")[6])\n",
    "for (k,v) in grouped.collect():\n",
    "    print(k, len(v))"
   ]
  },
  {
   "cell_type": "markdown",
   "metadata": {
    "id": "P6OCYPGfPqke"
   },
   "source": [
    "### RDD Actions"
   ]
  },
  {
   "cell_type": "markdown",
   "metadata": {
    "id": "ONdsPZiPPqke"
   },
   "source": [
    "Unlike RDD transformations, RDD actions perform the computation and actually \"do work\" on the cluster. Adding many different transformations creates a chain which will be executed in sequence, and Spark translates into the appropriate steps in computation and data movement (the \"plan\").\n",
    "\n",
    "One of the most common actions is `collect()` which we saw above. It does the computations on the cluster and then draws the result into memory on the head node. Care should be taken when calling this, as if the size of the data is larger then what is available on the head node than it will fail or overload the head node!\n",
    "\n",
    "In the example below, no computation is done until the final action (`collect`) is called:"
   ]
  },
  {
   "cell_type": "code",
   "execution_count": null,
   "metadata": {
    "execution": {
     "iopub.execute_input": "2022-07-12T20:44:44.034444Z",
     "iopub.status.busy": "2022-07-12T20:44:44.033875Z",
     "iopub.status.idle": "2022-07-12T20:44:45.148608Z",
     "shell.execute_reply": "2022-07-12T20:44:45.147705Z",
     "shell.execute_reply.started": "2022-07-12T20:44:44.034405Z"
    },
    "id": "xTPQMMgDPqkf",
    "outputId": "d9fc3d89-08fc-438f-e9c8-75e98eca1ce9",
    "tags": []
   },
   "outputs": [
    {
     "data": {
      "application/vnd.jupyter.widget-view+json": {
       "model_id": "9971cb4e21664a98929048a00554ae29",
       "version_major": 2,
       "version_minor": 0
      },
      "text/plain": [
       "VBox()"
      ]
     },
     "metadata": {},
     "output_type": "display_data"
    },
    {
     "data": {
      "application/vnd.jupyter.widget-view+json": {
       "model_id": "",
       "version_major": 2,
       "version_minor": 0
      },
      "text/plain": [
       "FloatProgress(value=0.0, bar_style='info', description='Progress:', layout=Layout(height='25px', width='50%'),…"
      ]
     },
     "metadata": {},
     "output_type": "display_data"
    }
   ],
   "source": [
    "# Transformations - no computation is done\n",
    "timestrings = data.map(lambda x: x.split(\",\")[8])\n",
    "years = timestrings.map(lambda x: x[1:5]) \n",
    "grouped = years.groupBy(lambda x: x)"
   ]
  },
  {
   "cell_type": "code",
   "execution_count": null,
   "metadata": {
    "execution": {
     "iopub.execute_input": "2022-07-12T20:44:45.154725Z",
     "iopub.status.busy": "2022-07-12T20:44:45.149986Z",
     "iopub.status.idle": "2022-07-12T20:44:49.237931Z",
     "shell.execute_reply": "2022-07-12T20:44:49.237152Z",
     "shell.execute_reply.started": "2022-07-12T20:44:45.154692Z"
    },
    "id": "72wuI91VPqki",
    "outputId": "e1c2b8bd-eb9b-4a26-bf92-89db4b92d63a",
    "tags": []
   },
   "outputs": [
    {
     "data": {
      "application/vnd.jupyter.widget-view+json": {
       "model_id": "01a9a8370ee44477a3d7a1ed9f39d98e",
       "version_major": 2,
       "version_minor": 0
      },
      "text/plain": [
       "VBox()"
      ]
     },
     "metadata": {},
     "output_type": "display_data"
    },
    {
     "data": {
      "application/vnd.jupyter.widget-view+json": {
       "model_id": "",
       "version_major": 2,
       "version_minor": 0
      },
      "text/plain": [
       "FloatProgress(value=0.0, bar_style='info', description='Progress:', layout=Layout(height='25px', width='50%'),…"
      ]
     },
     "metadata": {},
     "output_type": "display_data"
    },
    {
     "name": "stdout",
     "output_type": "stream",
     "text": [
      "2017 553383"
     ]
    }
   ],
   "source": [
    "# Work is performed when collect is called\n",
    "for (k,v) in grouped.collect():\n",
    "    print(k, len(v))"
   ]
  },
  {
   "cell_type": "markdown",
   "metadata": {
    "id": "0T_LFZSAPqkp"
   },
   "source": [
    "We can also perform standard mathematical aggregation functions on numerical data stored in RDDs. Since these require scanning over the entirety of the data, they are also actions."
   ]
  },
  {
   "cell_type": "code",
   "execution_count": null,
   "metadata": {
    "execution": {
     "iopub.execute_input": "2022-07-12T20:44:49.239124Z",
     "iopub.status.busy": "2022-07-12T20:44:49.238907Z",
     "iopub.status.idle": "2022-07-12T20:44:51.030937Z",
     "shell.execute_reply": "2022-07-12T20:44:51.030131Z",
     "shell.execute_reply.started": "2022-07-12T20:44:49.239067Z"
    },
    "id": "KKHTHlaIPqkr",
    "outputId": "22fb6888-01a0-4612-f991-7bab2392d9fb",
    "tags": []
   },
   "outputs": [
    {
     "data": {
      "application/vnd.jupyter.widget-view+json": {
       "model_id": "55640027ad6f49fd9244907f1d454c12",
       "version_major": 2,
       "version_minor": 0
      },
      "text/plain": [
       "VBox()"
      ]
     },
     "metadata": {},
     "output_type": "display_data"
    },
    {
     "data": {
      "application/vnd.jupyter.widget-view+json": {
       "model_id": "",
       "version_major": 2,
       "version_minor": 0
      },
      "text/plain": [
       "FloatProgress(value=0.0, bar_style='info', description='Progress:', layout=Layout(height='25px', width='50%'),…"
      ]
     },
     "metadata": {},
     "output_type": "display_data"
    },
    {
     "name": "stdout",
     "output_type": "stream",
     "text": [
      "35"
     ]
    }
   ],
   "source": [
    "# Mathematical functions on RDDs\n",
    "# Extract the field length of the 6th field (should be country name)\n",
    "field_length = data.map(lambda x: x.split(\",\")[6]).map(lambda x: len(x))\n",
    "\n",
    "# Max\n",
    "max_length = field_length.max()\n",
    "print(max_length)"
   ]
  },
  {
   "cell_type": "code",
   "execution_count": null,
   "metadata": {
    "execution": {
     "iopub.execute_input": "2022-07-12T20:44:51.032581Z",
     "iopub.status.busy": "2022-07-12T20:44:51.032315Z",
     "iopub.status.idle": "2022-07-12T20:44:52.442076Z",
     "shell.execute_reply": "2022-07-12T20:44:52.440639Z",
     "shell.execute_reply.started": "2022-07-12T20:44:51.032543Z"
    },
    "id": "SYBevfCGPqku",
    "outputId": "aa270c57-1de1-4db0-8701-beacb756006c",
    "tags": []
   },
   "outputs": [
    {
     "data": {
      "application/vnd.jupyter.widget-view+json": {
       "model_id": "14a590202f9148cab486a678de92b85a",
       "version_major": 2,
       "version_minor": 0
      },
      "text/plain": [
       "VBox()"
      ]
     },
     "metadata": {},
     "output_type": "display_data"
    },
    {
     "data": {
      "application/vnd.jupyter.widget-view+json": {
       "model_id": "",
       "version_major": 2,
       "version_minor": 0
      },
      "text/plain": [
       "FloatProgress(value=0.0, bar_style='info', description='Progress:', layout=Layout(height='25px', width='50%'),…"
      ]
     },
     "metadata": {},
     "output_type": "display_data"
    },
    {
     "name": "stdout",
     "output_type": "stream",
     "text": [
      "4800293"
     ]
    }
   ],
   "source": [
    "# Sum\n",
    "field_length.sum()"
   ]
  },
  {
   "cell_type": "code",
   "execution_count": null,
   "metadata": {
    "execution": {
     "iopub.execute_input": "2022-07-12T20:44:52.444136Z",
     "iopub.status.busy": "2022-07-12T20:44:52.443452Z",
     "iopub.status.idle": "2022-07-12T20:44:55.945945Z",
     "shell.execute_reply": "2022-07-12T20:44:55.944986Z",
     "shell.execute_reply.started": "2022-07-12T20:44:52.444095Z"
    },
    "id": "PiVjV4XKPqk1",
    "outputId": "34537fde-cea8-4a74-c28b-ffb265f43292",
    "tags": []
   },
   "outputs": [
    {
     "data": {
      "application/vnd.jupyter.widget-view+json": {
       "model_id": "686c5de7f847407fbc7b083b89928a75",
       "version_major": 2,
       "version_minor": 0
      },
      "text/plain": [
       "VBox()"
      ]
     },
     "metadata": {},
     "output_type": "display_data"
    },
    {
     "data": {
      "application/vnd.jupyter.widget-view+json": {
       "model_id": "",
       "version_major": 2,
       "version_minor": 0
      },
      "text/plain": [
       "FloatProgress(value=0.0, bar_style='info', description='Progress:', layout=Layout(height='25px', width='50%'),…"
      ]
     },
     "metadata": {},
     "output_type": "display_data"
    },
    {
     "name": "stdout",
     "output_type": "stream",
     "text": [
      "8.674449703008598"
     ]
    }
   ],
   "source": [
    "# Mean\n",
    "field_length.mean()"
   ]
  },
  {
   "cell_type": "code",
   "execution_count": null,
   "metadata": {
    "execution": {
     "iopub.execute_input": "2022-07-12T20:44:55.947401Z",
     "iopub.status.busy": "2022-07-12T20:44:55.947099Z",
     "iopub.status.idle": "2022-07-12T20:44:59.235357Z",
     "shell.execute_reply": "2022-07-12T20:44:59.234361Z",
     "shell.execute_reply.started": "2022-07-12T20:44:55.947362Z"
    },
    "id": "Hy6I5zBrPqk5",
    "outputId": "ec03bdd0-0513-425f-9644-0b9e7beea023",
    "tags": []
   },
   "outputs": [
    {
     "data": {
      "application/vnd.jupyter.widget-view+json": {
       "model_id": "028b285c759748fabbd6b212a912dd33",
       "version_major": 2,
       "version_minor": 0
      },
      "text/plain": [
       "VBox()"
      ]
     },
     "metadata": {},
     "output_type": "display_data"
    },
    {
     "data": {
      "application/vnd.jupyter.widget-view+json": {
       "model_id": "",
       "version_major": 2,
       "version_minor": 0
      },
      "text/plain": [
       "FloatProgress(value=0.0, bar_style='info', description='Progress:', layout=Layout(height='25px', width='50%'),…"
      ]
     },
     "metadata": {},
     "output_type": "display_data"
    },
    {
     "name": "stdout",
     "output_type": "stream",
     "text": [
      "2.7332966182718477"
     ]
    }
   ],
   "source": [
    "# Stdev\n",
    "field_length.stdev()"
   ]
  },
  {
   "cell_type": "markdown",
   "metadata": {
    "id": "9aUJ1IikPqk7"
   },
   "source": [
    " We can also apply generalized aggregation-type functions (as part of the MapReduce process) using `reduce` and `reduceByKey`. In this case, the lambda function takes two arguments, x and y, where x is the result of the running reduce operation, and y is the next value:"
   ]
  },
  {
   "cell_type": "code",
   "execution_count": null,
   "metadata": {
    "execution": {
     "iopub.execute_input": "2022-07-12T20:44:59.237118Z",
     "iopub.status.busy": "2022-07-12T20:44:59.236852Z",
     "iopub.status.idle": "2022-07-12T20:45:00.644890Z",
     "shell.execute_reply": "2022-07-12T20:45:00.644013Z",
     "shell.execute_reply.started": "2022-07-12T20:44:59.237081Z"
    },
    "id": "7Jv1z_72Pqk8",
    "outputId": "211a671b-9414-46bb-d169-cfbe9f3f56ea",
    "tags": []
   },
   "outputs": [
    {
     "data": {
      "application/vnd.jupyter.widget-view+json": {
       "model_id": "1f7ee9b9b5004fc4b401e1c4527eb200",
       "version_major": 2,
       "version_minor": 0
      },
      "text/plain": [
       "VBox()"
      ]
     },
     "metadata": {},
     "output_type": "display_data"
    },
    {
     "data": {
      "application/vnd.jupyter.widget-view+json": {
       "model_id": "",
       "version_major": 2,
       "version_minor": 0
      },
      "text/plain": [
       "FloatProgress(value=0.0, bar_style='info', description='Progress:', layout=Layout(height='25px', width='50%'),…"
      ]
     },
     "metadata": {},
     "output_type": "display_data"
    },
    {
     "name": "stdout",
     "output_type": "stream",
     "text": [
      "5 215\n",
      "6 9997\n",
      "7 6999\n",
      "8 472145\n",
      "9 3960\n",
      "10 1753\n",
      "11 29417\n",
      "12 1054\n",
      "13 6807\n",
      "14 1920\n",
      "15 4572\n",
      "16 45\n",
      "17 110\n",
      "18 764\n",
      "19 44\n",
      "20 365\n",
      "21 19\n",
      "22 8478\n",
      "23 22\n",
      "24 1760\n",
      "25 21\n",
      "29 2617\n",
      "30 259\n",
      "35 40"
     ]
    }
   ],
   "source": [
    "keyed = field_length.map(lambda x: (x, 1))\n",
    "counted = keyed.reduceByKey(lambda x, y: x + y)\n",
    "\n",
    "# Action - work is done\n",
    "reduced = counted.collect()\n",
    "\n",
    "# Print output\n",
    "for i in sorted(reduced):\n",
    "    print(i[0], i[1])"
   ]
  },
  {
   "cell_type": "markdown",
   "metadata": {
    "id": "9fB6erINPqk_"
   },
   "source": [
    "The above is equivalent to using the `countByKey` function:"
   ]
  },
  {
   "cell_type": "code",
   "execution_count": null,
   "metadata": {
    "execution": {
     "iopub.execute_input": "2022-07-12T20:45:00.646557Z",
     "iopub.status.busy": "2022-07-12T20:45:00.646120Z",
     "iopub.status.idle": "2022-07-12T20:45:02.377781Z",
     "shell.execute_reply": "2022-07-12T20:45:02.376952Z",
     "shell.execute_reply.started": "2022-07-12T20:45:00.646517Z"
    },
    "id": "elSg-7SvPqlA",
    "outputId": "423bcc69-c782-43d5-90b4-1bf040c5a989",
    "tags": []
   },
   "outputs": [
    {
     "data": {
      "application/vnd.jupyter.widget-view+json": {
       "model_id": "0e5ffd62c07541209ade728917e7337b",
       "version_major": 2,
       "version_minor": 0
      },
      "text/plain": [
       "VBox()"
      ]
     },
     "metadata": {},
     "output_type": "display_data"
    },
    {
     "data": {
      "application/vnd.jupyter.widget-view+json": {
       "model_id": "",
       "version_major": 2,
       "version_minor": 0
      },
      "text/plain": [
       "FloatProgress(value=0.0, bar_style='info', description='Progress:', layout=Layout(height='25px', width='50%'),…"
      ]
     },
     "metadata": {},
     "output_type": "display_data"
    }
   ],
   "source": [
    "keyed = field_length.map(lambda x: (x, 1))\n",
    "\n",
    "# Reduce Action - work is done\n",
    "counted = keyed.countByKey()"
   ]
  },
  {
   "cell_type": "code",
   "execution_count": null,
   "metadata": {
    "execution": {
     "iopub.execute_input": "2022-07-12T20:45:02.382336Z",
     "iopub.status.busy": "2022-07-12T20:45:02.382111Z",
     "iopub.status.idle": "2022-07-12T20:45:02.638473Z",
     "shell.execute_reply": "2022-07-12T20:45:02.637690Z",
     "shell.execute_reply.started": "2022-07-12T20:45:02.382307Z"
    },
    "id": "CZVdmWcGPqlC",
    "outputId": "507b82f7-7e84-4bf3-b7a4-4fd6ee6d7bcb",
    "tags": []
   },
   "outputs": [
    {
     "data": {
      "application/vnd.jupyter.widget-view+json": {
       "model_id": "e51c753266b440f0890f7d7e90019675",
       "version_major": 2,
       "version_minor": 0
      },
      "text/plain": [
       "VBox()"
      ]
     },
     "metadata": {},
     "output_type": "display_data"
    },
    {
     "data": {
      "application/vnd.jupyter.widget-view+json": {
       "model_id": "",
       "version_major": 2,
       "version_minor": 0
      },
      "text/plain": [
       "FloatProgress(value=0.0, bar_style='info', description='Progress:', layout=Layout(height='25px', width='50%'),…"
      ]
     },
     "metadata": {},
     "output_type": "display_data"
    },
    {
     "name": "stdout",
     "output_type": "stream",
     "text": [
      "defaultdict(<class 'int'>, {22: 8478, 8: 472145, 11: 29417, 15: 4572, 6: 9997, 20: 365, 12: 1054, 9: 3960, 13: 6807, 18: 764, 10: 1753, 29: 2617, 24: 1760, 7: 6999, 19: 44, 21: 19, 17: 110, 5: 215, 14: 1920, 16: 45, 23: 22, 25: 21, 30: 259, 35: 40})"
     ]
    }
   ],
   "source": [
    "print(counted)"
   ]
  },
  {
   "cell_type": "markdown",
   "metadata": {
    "id": "VhMAcsX4PqlE"
   },
   "source": [
    "### Working with Spark DataFrames"
   ]
  },
  {
   "cell_type": "markdown",
   "metadata": {
    "id": "4i_duMtuPqlG"
   },
   "source": [
    "In practice, working with RDDs is cumbersome and as a data scientist (or even data engineer) it is usually easier to use [DataFrames and Spark SQL](https://spark.apache.org/docs/latest/sql-programming-guide.html) which are higher level APIs built on top of RDDs.\n",
    "\n",
    "The DataFrames API closely mirrors functionality and syntax from pandas, making it easy for a data scientist or developer to transition from working with smaller datasets in a centralized environment (_i.e._ your laptop) to working with large datasets in a distributed Big Data environment. Spark can read data locally from files, databases, large datasets from HDFS, or even from S3 buckets! There is a full list of compatible data sources [here](https://spark.apache.org/docs/latest/sql-data-sources.html)."
   ]
  },
  {
   "cell_type": "code",
   "execution_count": null,
   "metadata": {
    "execution": {
     "iopub.execute_input": "2022-07-12T20:45:02.641381Z",
     "iopub.status.busy": "2022-07-12T20:45:02.640842Z",
     "iopub.status.idle": "2022-07-12T20:45:06.530298Z",
     "shell.execute_reply": "2022-07-12T20:45:06.529051Z",
     "shell.execute_reply.started": "2022-07-12T20:45:02.641335Z"
    },
    "id": "IMJAz2wePqlI",
    "outputId": "c88d6e24-8ad4-437a-a210-4a876643d995",
    "tags": []
   },
   "outputs": [
    {
     "data": {
      "application/vnd.jupyter.widget-view+json": {
       "model_id": "9b91663b90b84aeb9148d7c9b9e0e572",
       "version_major": 2,
       "version_minor": 0
      },
      "text/plain": [
       "VBox()"
      ]
     },
     "metadata": {},
     "output_type": "display_data"
    },
    {
     "data": {
      "application/vnd.jupyter.widget-view+json": {
       "model_id": "",
       "version_major": 2,
       "version_minor": 0
      },
      "text/plain": [
       "FloatProgress(value=0.0, bar_style='info', description='Progress:', layout=Layout(height='25px', width='50%'),…"
      ]
     },
     "metadata": {},
     "output_type": "display_data"
    }
   ],
   "source": [
    "# Read in some data locally\n",
    "df = spark.read.csv('s3://brainstation-dsft/sparklab/uber_nyc_data.csv', header=True)"
   ]
  },
  {
   "cell_type": "markdown",
   "metadata": {
    "id": "canTuRQZPqlK"
   },
   "source": [
    "There is also an `inferSchema` parameter that if set to True tells Spark to infer the data types in each column, which requires another pass through the data which can be expensive when working with large datasets. If set to `None` or `False` (default) then all columns are read in as strings.\n",
    "\n",
    "We can print out the schema and data types in human-readable format using `printSchema()`:"
   ]
  },
  {
   "cell_type": "code",
   "execution_count": null,
   "metadata": {
    "execution": {
     "iopub.execute_input": "2022-07-12T20:45:06.534777Z",
     "iopub.status.busy": "2022-07-12T20:45:06.534567Z",
     "iopub.status.idle": "2022-07-12T20:45:06.754225Z",
     "shell.execute_reply": "2022-07-12T20:45:06.753000Z",
     "shell.execute_reply.started": "2022-07-12T20:45:06.534750Z"
    },
    "id": "hV2km7fePqlM",
    "outputId": "042b0a76-d8a7-4951-e9c4-a678516968e9",
    "tags": []
   },
   "outputs": [
    {
     "data": {
      "application/vnd.jupyter.widget-view+json": {
       "model_id": "4316f747df6f454c8f9de7ec53825c4e",
       "version_major": 2,
       "version_minor": 0
      },
      "text/plain": [
       "VBox()"
      ]
     },
     "metadata": {},
     "output_type": "display_data"
    },
    {
     "data": {
      "application/vnd.jupyter.widget-view+json": {
       "model_id": "",
       "version_major": 2,
       "version_minor": 0
      },
      "text/plain": [
       "FloatProgress(value=0.0, bar_style='info', description='Progress:', layout=Layout(height='25px', width='50%'),…"
      ]
     },
     "metadata": {},
     "output_type": "display_data"
    },
    {
     "name": "stdout",
     "output_type": "stream",
     "text": [
      "root\n",
      " |-- id: string (nullable = true)\n",
      " |-- origin_taz: string (nullable = true)\n",
      " |-- destination_taz: string (nullable = true)\n",
      " |-- pickup_datetime: string (nullable = true)\n",
      " |-- trip_distance: string (nullable = true)\n",
      " |-- trip_duration: string (nullable = true)"
     ]
    }
   ],
   "source": [
    "df.printSchema()"
   ]
  },
  {
   "cell_type": "markdown",
   "metadata": {
    "id": "DE7_7wesPqlO"
   },
   "source": [
    "You can also get a list of the columns using `.columns`:"
   ]
  },
  {
   "cell_type": "code",
   "execution_count": null,
   "metadata": {
    "execution": {
     "iopub.execute_input": "2022-07-12T20:45:06.760834Z",
     "iopub.status.busy": "2022-07-12T20:45:06.758115Z",
     "iopub.status.idle": "2022-07-12T20:45:07.044565Z",
     "shell.execute_reply": "2022-07-12T20:45:07.043293Z",
     "shell.execute_reply.started": "2022-07-12T20:45:06.760763Z"
    },
    "id": "gC1rUmURPqlP",
    "outputId": "b79e5507-222e-47ea-b48a-1003d712f7f2",
    "tags": []
   },
   "outputs": [
    {
     "data": {
      "application/vnd.jupyter.widget-view+json": {
       "model_id": "86f46e27d5184e2a9cccd28eb9bb8ee3",
       "version_major": 2,
       "version_minor": 0
      },
      "text/plain": [
       "VBox()"
      ]
     },
     "metadata": {},
     "output_type": "display_data"
    },
    {
     "data": {
      "application/vnd.jupyter.widget-view+json": {
       "model_id": "",
       "version_major": 2,
       "version_minor": 0
      },
      "text/plain": [
       "FloatProgress(value=0.0, bar_style='info', description='Progress:', layout=Layout(height='25px', width='50%'),…"
      ]
     },
     "metadata": {},
     "output_type": "display_data"
    },
    {
     "name": "stdout",
     "output_type": "stream",
     "text": [
      "['id', 'origin_taz', 'destination_taz', 'pickup_datetime', 'trip_distance', 'trip_duration']"
     ]
    }
   ],
   "source": [
    "df.columns"
   ]
  },
  {
   "cell_type": "markdown",
   "metadata": {
    "id": "x4zEwPoZPqlR"
   },
   "source": [
    "Let's take a look at our data. There is a `head` command for Spark DataFrames just like for those in pandas."
   ]
  },
  {
   "cell_type": "code",
   "execution_count": null,
   "metadata": {
    "execution": {
     "iopub.execute_input": "2022-07-12T20:45:07.046411Z",
     "iopub.status.busy": "2022-07-12T20:45:07.045885Z",
     "iopub.status.idle": "2022-07-12T20:45:08.241804Z",
     "shell.execute_reply": "2022-07-12T20:45:08.240958Z",
     "shell.execute_reply.started": "2022-07-12T20:45:07.046369Z"
    },
    "id": "ncDfqT5TPqlR",
    "outputId": "4af38df6-00ac-4e41-8dd1-72be29c45c54",
    "tags": []
   },
   "outputs": [
    {
     "data": {
      "application/vnd.jupyter.widget-view+json": {
       "model_id": "fdf21c01df9e45a488dec53177ad6cf6",
       "version_major": 2,
       "version_minor": 0
      },
      "text/plain": [
       "VBox()"
      ]
     },
     "metadata": {},
     "output_type": "display_data"
    },
    {
     "data": {
      "application/vnd.jupyter.widget-view+json": {
       "model_id": "",
       "version_major": 2,
       "version_minor": 0
      },
      "text/plain": [
       "FloatProgress(value=0.0, bar_style='info', description='Progress:', layout=Layout(height='25px', width='50%'),…"
      ]
     },
     "metadata": {},
     "output_type": "display_data"
    },
    {
     "name": "stdout",
     "output_type": "stream",
     "text": [
      "[Row(id='252581', origin_taz='7C', destination_taz='6A', pickup_datetime='2014-09-01 09:00:00', trip_distance='4.25', trip_duration='0:15:11'), Row(id='252582', origin_taz='7B', destination_taz='15', pickup_datetime='2014-09-01 18:00:00', trip_distance='10.17', trip_duration='0:34:05'), Row(id='252583', origin_taz='11', destination_taz='2A', pickup_datetime='2014-09-01 17:00:00', trip_distance='4.02', trip_duration='0:17:06'), Row(id='252584', origin_taz='3B', destination_taz='4A', pickup_datetime='2014-09-01 13:00:00', trip_distance='1.46', trip_duration='0:06:32'), Row(id='252585', origin_taz='2A', destination_taz='10', pickup_datetime='2014-09-01 14:00:00', trip_distance='8.31', trip_duration='0:26:17')]"
     ]
    }
   ],
   "source": [
    "# Just like for RDDs, we can show the first few lines using take (or equivalently, df.head(n_rows))\n",
    "df.head(5)"
   ]
  },
  {
   "cell_type": "markdown",
   "metadata": {
    "id": "wQrYXkpYPqlU"
   },
   "source": [
    "A Spark DataFrame is actually nothing more than a list made up of special Spark `Row` objects:"
   ]
  },
  {
   "cell_type": "code",
   "execution_count": null,
   "metadata": {
    "execution": {
     "iopub.execute_input": "2022-07-12T20:45:08.246987Z",
     "iopub.status.busy": "2022-07-12T20:45:08.246480Z",
     "iopub.status.idle": "2022-07-12T20:45:08.974714Z",
     "shell.execute_reply": "2022-07-12T20:45:08.974059Z",
     "shell.execute_reply.started": "2022-07-12T20:45:08.246947Z"
    },
    "id": "auyc8viYPqlV",
    "outputId": "419caf78-cd95-4bd0-fc9b-1a0983c0fb60",
    "tags": []
   },
   "outputs": [
    {
     "data": {
      "application/vnd.jupyter.widget-view+json": {
       "model_id": "32c177cc0d4444449630af2e25105597",
       "version_major": 2,
       "version_minor": 0
      },
      "text/plain": [
       "VBox()"
      ]
     },
     "metadata": {},
     "output_type": "display_data"
    },
    {
     "data": {
      "application/vnd.jupyter.widget-view+json": {
       "model_id": "",
       "version_major": 2,
       "version_minor": 0
      },
      "text/plain": [
       "FloatProgress(value=0.0, bar_style='info', description='Progress:', layout=Layout(height='25px', width='50%'),…"
      ]
     },
     "metadata": {},
     "output_type": "display_data"
    },
    {
     "name": "stdout",
     "output_type": "stream",
     "text": [
      "<class 'pyspark.sql.types.Row'>"
     ]
    }
   ],
   "source": [
    "df.take(1)[0].__class__"
   ]
  },
  {
   "cell_type": "code",
   "execution_count": null,
   "metadata": {
    "execution": {
     "iopub.execute_input": "2022-07-12T20:45:08.976261Z",
     "iopub.status.busy": "2022-07-12T20:45:08.975982Z",
     "iopub.status.idle": "2022-07-12T20:45:09.394504Z",
     "shell.execute_reply": "2022-07-12T20:45:09.393848Z",
     "shell.execute_reply.started": "2022-07-12T20:45:08.976222Z"
    },
    "id": "XDaMFtShPqlX",
    "outputId": "5c48961e-1b22-4d26-cbca-1afb8b279360",
    "tags": []
   },
   "outputs": [
    {
     "data": {
      "application/vnd.jupyter.widget-view+json": {
       "model_id": "596a8f4ad3e3449f85d32df9d89dd9b8",
       "version_major": 2,
       "version_minor": 0
      },
      "text/plain": [
       "VBox()"
      ]
     },
     "metadata": {},
     "output_type": "display_data"
    },
    {
     "data": {
      "application/vnd.jupyter.widget-view+json": {
       "model_id": "",
       "version_major": 2,
       "version_minor": 0
      },
      "text/plain": [
       "FloatProgress(value=0.0, bar_style='info', description='Progress:', layout=Layout(height='25px', width='50%'),…"
      ]
     },
     "metadata": {},
     "output_type": "display_data"
    },
    {
     "name": "stdout",
     "output_type": "stream",
     "text": [
      "Row(id='252581', origin_taz='7C', destination_taz='6A', pickup_datetime='2014-09-01 09:00:00', trip_distance='4.25', trip_duration='0:15:11')"
     ]
    }
   ],
   "source": [
    "df.take(1)[0]"
   ]
  },
  {
   "cell_type": "markdown",
   "metadata": {
    "id": "5_uYKnkzPqla"
   },
   "source": [
    "If we use `take` or `head`, we get back lists of Row objects that are not very easy to read. Instead we can call `show` to get nicely formatted tabular data:"
   ]
  },
  {
   "cell_type": "code",
   "execution_count": null,
   "metadata": {
    "execution": {
     "iopub.execute_input": "2022-07-12T20:45:09.397934Z",
     "iopub.status.busy": "2022-07-12T20:45:09.397733Z",
     "iopub.status.idle": "2022-07-12T20:45:09.949561Z",
     "shell.execute_reply": "2022-07-12T20:45:09.948804Z",
     "shell.execute_reply.started": "2022-07-12T20:45:09.397907Z"
    },
    "id": "bRrgbICRPqlb",
    "outputId": "c0a4e158-cae7-4d7e-9f5a-38512155f502",
    "tags": []
   },
   "outputs": [
    {
     "data": {
      "application/vnd.jupyter.widget-view+json": {
       "model_id": "ff246b3d17884e26ac593fe003394ba0",
       "version_major": 2,
       "version_minor": 0
      },
      "text/plain": [
       "VBox()"
      ]
     },
     "metadata": {},
     "output_type": "display_data"
    },
    {
     "data": {
      "application/vnd.jupyter.widget-view+json": {
       "model_id": "",
       "version_major": 2,
       "version_minor": 0
      },
      "text/plain": [
       "FloatProgress(value=0.0, bar_style='info', description='Progress:', layout=Layout(height='25px', width='50%'),…"
      ]
     },
     "metadata": {},
     "output_type": "display_data"
    },
    {
     "name": "stdout",
     "output_type": "stream",
     "text": [
      "+------+----------+---------------+-------------------+-------------+-------------+\n",
      "|    id|origin_taz|destination_taz|    pickup_datetime|trip_distance|trip_duration|\n",
      "+------+----------+---------------+-------------------+-------------+-------------+\n",
      "|252581|        7C|             6A|2014-09-01 09:00:00|         4.25|      0:15:11|\n",
      "|252582|        7B|             15|2014-09-01 18:00:00|        10.17|      0:34:05|\n",
      "|252583|        11|             2A|2014-09-01 17:00:00|         4.02|      0:17:06|\n",
      "|252584|        3B|             4A|2014-09-01 13:00:00|         1.46|      0:06:32|\n",
      "|252585|        2A|             10|2014-09-01 14:00:00|         8.31|      0:26:17|\n",
      "|252586|        5B|             4C|2014-09-01 12:00:00|         1.04|      0:08:35|\n",
      "|252587|        10|             10|2014-09-01 14:00:00|         1.44|      0:19:36|\n",
      "|252588|        2A|             7A|2014-09-01 03:00:00|         5.08|      0:18:17|\n",
      "|252589|        2B|             3C|2014-09-01 11:00:00|         1.64|      0:07:29|\n",
      "|252590|         9|             5B|2014-09-01 20:00:00|        16.63|      0:28:37|\n",
      "+------+----------+---------------+-------------------+-------------+-------------+\n",
      "only showing top 10 rows"
     ]
    }
   ],
   "source": [
    "df.show(10)"
   ]
  },
  {
   "cell_type": "markdown",
   "metadata": {
    "id": "esnf6r5bPqlf"
   },
   "source": [
    "We can also get the total count of rows for the whole dataframe using `.count()`, just like for an RDD:"
   ]
  },
  {
   "cell_type": "code",
   "execution_count": null,
   "metadata": {
    "execution": {
     "iopub.execute_input": "2022-07-12T20:45:09.951311Z",
     "iopub.status.busy": "2022-07-12T20:45:09.950815Z",
     "iopub.status.idle": "2022-07-12T20:45:24.420004Z",
     "shell.execute_reply": "2022-07-12T20:45:24.418771Z",
     "shell.execute_reply.started": "2022-07-12T20:45:09.951267Z"
    },
    "id": "wDI8fmb7Pqlg",
    "outputId": "d82562bd-1175-4bec-e345-90986ade0349",
    "tags": []
   },
   "outputs": [
    {
     "data": {
      "application/vnd.jupyter.widget-view+json": {
       "model_id": "ffbb7153c10049859ffad60e05381046",
       "version_major": 2,
       "version_minor": 0
      },
      "text/plain": [
       "VBox()"
      ]
     },
     "metadata": {},
     "output_type": "display_data"
    },
    {
     "data": {
      "application/vnd.jupyter.widget-view+json": {
       "model_id": "",
       "version_major": 2,
       "version_minor": 0
      },
      "text/plain": [
       "FloatProgress(value=0.0, bar_style='info', description='Progress:', layout=Layout(height='25px', width='50%'),…"
      ]
     },
     "metadata": {},
     "output_type": "display_data"
    },
    {
     "name": "stdout",
     "output_type": "stream",
     "text": [
      "30925738"
     ]
    }
   ],
   "source": [
    "df.count()"
   ]
  },
  {
   "cell_type": "markdown",
   "metadata": {
    "id": "Pfuen_nPPqlk"
   },
   "source": [
    "For large datasets, even counting the number of rows can be an expensive operation! We can see that there are almost 31 million Uber rides in the dataset!"
   ]
  },
  {
   "cell_type": "markdown",
   "metadata": {
    "id": "pWWyjPNlPqlk"
   },
   "source": [
    "Dataframes in Spark are _immutable_, which means that data in individual columns cannot be updated / modified as it would be in other cases (like pandas or R). However, new columns can be created from old columns (and also overwrite/replace entire existing columns) with the `withColumn` function, and unneeded columns dropped using `drop`.\n",
    "\n",
    "While the `drop` function just takes a comma-separated list of column names, the `withColumn` function, like many functions in Spark, takes a DataFrame column as an argument:"
   ]
  },
  {
   "cell_type": "code",
   "execution_count": null,
   "metadata": {
    "execution": {
     "iopub.execute_input": "2022-07-12T20:45:24.422367Z",
     "iopub.status.busy": "2022-07-12T20:45:24.421713Z",
     "iopub.status.idle": "2022-07-12T20:45:24.873863Z",
     "shell.execute_reply": "2022-07-12T20:45:24.872966Z",
     "shell.execute_reply.started": "2022-07-12T20:45:24.422288Z"
    },
    "id": "hKOQ1d9RPqll",
    "outputId": "90735e09-9f6d-465d-b162-55b23611bf23",
    "tags": []
   },
   "outputs": [
    {
     "data": {
      "application/vnd.jupyter.widget-view+json": {
       "model_id": "1f43ab91abef481d87b9a6145810f89a",
       "version_major": 2,
       "version_minor": 0
      },
      "text/plain": [
       "VBox()"
      ]
     },
     "metadata": {},
     "output_type": "display_data"
    },
    {
     "data": {
      "application/vnd.jupyter.widget-view+json": {
       "model_id": "",
       "version_major": 2,
       "version_minor": 0
      },
      "text/plain": [
       "FloatProgress(value=0.0, bar_style='info', description='Progress:', layout=Layout(height='25px', width='50%'),…"
      ]
     },
     "metadata": {},
     "output_type": "display_data"
    },
    {
     "name": "stdout",
     "output_type": "stream",
     "text": [
      "root\n",
      " |-- id: string (nullable = true)\n",
      " |-- origin_taz: string (nullable = true)\n",
      " |-- destination_taz: string (nullable = true)\n",
      " |-- pickup_datetime: timestamp (nullable = true)\n",
      " |-- trip_distance: float (nullable = true)\n",
      " |-- trip_duration: string (nullable = true)"
     ]
    }
   ],
   "source": [
    "# Correct the data type of the trip_distance column and datetime columns and replace the entire columns\n",
    "df = df.withColumn(\"trip_distance\", df[\"trip_distance\"].cast('float'))\n",
    "df = df.withColumn(\"pickup_datetime\", df[\"pickup_datetime\"].cast('timestamp'))\n",
    "\n",
    "# Check\n",
    "df.printSchema()"
   ]
  },
  {
   "cell_type": "markdown",
   "metadata": {
    "id": "Jmy5MIfQC4EZ"
   },
   "source": [
    "We can create a boolean columns using expressions just as we would with a pandas series or numpy array:"
   ]
  },
  {
   "cell_type": "code",
   "execution_count": null,
   "metadata": {
    "execution": {
     "iopub.execute_input": "2022-07-12T20:45:24.875702Z",
     "iopub.status.busy": "2022-07-12T20:45:24.875272Z",
     "iopub.status.idle": "2022-07-12T20:45:25.829029Z",
     "shell.execute_reply": "2022-07-12T20:45:25.828242Z",
     "shell.execute_reply.started": "2022-07-12T20:45:24.875664Z"
    },
    "id": "9dIsu9XcPqlo",
    "outputId": "1cb483e4-6440-4588-a4bb-64c355cab1ba",
    "tags": []
   },
   "outputs": [
    {
     "data": {
      "application/vnd.jupyter.widget-view+json": {
       "model_id": "7cc8d84c581a4d0c8e09f4198b4d3cc1",
       "version_major": 2,
       "version_minor": 0
      },
      "text/plain": [
       "VBox()"
      ]
     },
     "metadata": {},
     "output_type": "display_data"
    },
    {
     "data": {
      "application/vnd.jupyter.widget-view+json": {
       "model_id": "",
       "version_major": 2,
       "version_minor": 0
      },
      "text/plain": [
       "FloatProgress(value=0.0, bar_style='info', description='Progress:', layout=Layout(height='25px', width='50%'),…"
      ]
     },
     "metadata": {},
     "output_type": "display_data"
    },
    {
     "name": "stdout",
     "output_type": "stream",
     "text": [
      "+------+----------+---------------+-------------------+-------------+-------------+-----------+\n",
      "|    id|origin_taz|destination_taz|    pickup_datetime|trip_distance|trip_duration|morethan5mi|\n",
      "+------+----------+---------------+-------------------+-------------+-------------+-----------+\n",
      "|252581|        7C|             6A|2014-09-01 09:00:00|         4.25|      0:15:11|      false|\n",
      "|252582|        7B|             15|2014-09-01 18:00:00|        10.17|      0:34:05|       true|\n",
      "|252583|        11|             2A|2014-09-01 17:00:00|         4.02|      0:17:06|      false|\n",
      "|252584|        3B|             4A|2014-09-01 13:00:00|         1.46|      0:06:32|      false|\n",
      "|252585|        2A|             10|2014-09-01 14:00:00|         8.31|      0:26:17|       true|\n",
      "|252586|        5B|             4C|2014-09-01 12:00:00|         1.04|      0:08:35|      false|\n",
      "|252587|        10|             10|2014-09-01 14:00:00|         1.44|      0:19:36|      false|\n",
      "|252588|        2A|             7A|2014-09-01 03:00:00|         5.08|      0:18:17|       true|\n",
      "|252589|        2B|             3C|2014-09-01 11:00:00|         1.64|      0:07:29|      false|\n",
      "|252590|         9|             5B|2014-09-01 20:00:00|        16.63|      0:28:37|       true|\n",
      "|252591|        2A|             14|2014-09-01 01:00:00|         9.73|      0:29:42|       true|\n",
      "|252592|        6B|              8|2014-09-01 07:00:00|         8.41|      0:16:35|       true|\n",
      "|252593|        15|             14|2014-09-01 18:00:00|        11.07|      0:47:42|       true|\n",
      "|252594|        4C|              8|2014-09-01 10:00:00|         7.98|      0:23:05|       true|\n",
      "|252595|        5A|             2A|2014-09-01 17:00:00|         2.01|      0:12:04|      false|\n",
      "|252596|        6B|           NULL|2014-09-01 17:00:00|        11.67|      0:23:45|       true|\n",
      "|252597|         8|             7C|2014-09-01 16:00:00|         8.57|      0:24:31|       true|\n",
      "|252598|        10|             2A|2014-09-01 12:00:00|         3.58|      0:17:55|      false|\n",
      "|252599|        6B|             4A|2014-09-01 17:00:00|         2.53|      0:15:21|      false|\n",
      "|252600|         9|             14|2014-09-01 20:00:00|         8.19|      0:16:04|       true|\n",
      "+------+----------+---------------+-------------------+-------------+-------------+-----------+\n",
      "only showing top 20 rows"
     ]
    }
   ],
   "source": [
    "# Create a new boolean column for trips with distance greater than 5 miles\n",
    "df = df.withColumn('morethan5mi', df['trip_distance'] > 5)\n",
    "df.show()"
   ]
  },
  {
   "cell_type": "code",
   "execution_count": null,
   "metadata": {
    "execution": {
     "iopub.execute_input": "2022-07-12T20:45:25.832794Z",
     "iopub.status.busy": "2022-07-12T20:45:25.832588Z",
     "iopub.status.idle": "2022-07-12T20:45:26.809199Z",
     "shell.execute_reply": "2022-07-12T20:45:26.808445Z",
     "shell.execute_reply.started": "2022-07-12T20:45:25.832768Z"
    },
    "id": "Uy2C0EqFPqlq",
    "outputId": "52fe2379-ad90-4672-8ed3-818b2a203b59",
    "tags": []
   },
   "outputs": [
    {
     "data": {
      "application/vnd.jupyter.widget-view+json": {
       "model_id": "6f7cae2eb30d44688e2d40d86ceaeb94",
       "version_major": 2,
       "version_minor": 0
      },
      "text/plain": [
       "VBox()"
      ]
     },
     "metadata": {},
     "output_type": "display_data"
    },
    {
     "data": {
      "application/vnd.jupyter.widget-view+json": {
       "model_id": "",
       "version_major": 2,
       "version_minor": 0
      },
      "text/plain": [
       "FloatProgress(value=0.0, bar_style='info', description='Progress:', layout=Layout(height='25px', width='50%'),…"
      ]
     },
     "metadata": {},
     "output_type": "display_data"
    },
    {
     "name": "stdout",
     "output_type": "stream",
     "text": [
      "+----------+---------------+-------------------+-------------+-----------+\n",
      "|origin_taz|destination_taz|    pickup_datetime|trip_distance|morethan5mi|\n",
      "+----------+---------------+-------------------+-------------+-----------+\n",
      "|        7C|             6A|2014-09-01 09:00:00|         4.25|      false|\n",
      "|        7B|             15|2014-09-01 18:00:00|        10.17|       true|\n",
      "|        11|             2A|2014-09-01 17:00:00|         4.02|      false|\n",
      "|        3B|             4A|2014-09-01 13:00:00|         1.46|      false|\n",
      "|        2A|             10|2014-09-01 14:00:00|         8.31|       true|\n",
      "|        5B|             4C|2014-09-01 12:00:00|         1.04|      false|\n",
      "|        10|             10|2014-09-01 14:00:00|         1.44|      false|\n",
      "|        2A|             7A|2014-09-01 03:00:00|         5.08|       true|\n",
      "|        2B|             3C|2014-09-01 11:00:00|         1.64|      false|\n",
      "|         9|             5B|2014-09-01 20:00:00|        16.63|       true|\n",
      "+----------+---------------+-------------------+-------------+-----------+\n",
      "only showing top 10 rows"
     ]
    }
   ],
   "source": [
    "# Drop the id and trip_duration columns and display result\n",
    "df.drop('id', 'trip_duration').show(10)"
   ]
  },
  {
   "cell_type": "markdown",
   "metadata": {
    "id": "tmutKKI0Pqls"
   },
   "source": [
    "Finally, we can split the string into components and create a new column to get the trip duration in seconds:"
   ]
  },
  {
   "cell_type": "code",
   "execution_count": null,
   "metadata": {
    "execution": {
     "iopub.execute_input": "2022-07-12T20:45:26.813297Z",
     "iopub.status.busy": "2022-07-12T20:45:26.812623Z",
     "iopub.status.idle": "2022-07-12T20:45:27.843750Z",
     "shell.execute_reply": "2022-07-12T20:45:27.842956Z",
     "shell.execute_reply.started": "2022-07-12T20:45:26.813249Z"
    },
    "id": "KK8mAHSqPqlt",
    "outputId": "42433e10-158f-4a6b-80bb-cc2f6df4ebf9",
    "tags": []
   },
   "outputs": [
    {
     "data": {
      "application/vnd.jupyter.widget-view+json": {
       "model_id": "df10c8e8488a4fa486e1802afe0d6296",
       "version_major": 2,
       "version_minor": 0
      },
      "text/plain": [
       "VBox()"
      ]
     },
     "metadata": {},
     "output_type": "display_data"
    },
    {
     "data": {
      "application/vnd.jupyter.widget-view+json": {
       "model_id": "",
       "version_major": 2,
       "version_minor": 0
      },
      "text/plain": [
       "FloatProgress(value=0.0, bar_style='info', description='Progress:', layout=Layout(height='25px', width='50%'),…"
      ]
     },
     "metadata": {},
     "output_type": "display_data"
    },
    {
     "name": "stdout",
     "output_type": "stream",
     "text": [
      "+------+----------+---------------+-------------------+-------------+-------------+-----------+-------------+\n",
      "|    id|origin_taz|destination_taz|    pickup_datetime|trip_distance|trip_duration|morethan5mi|duration_secs|\n",
      "+------+----------+---------------+-------------------+-------------+-------------+-----------+-------------+\n",
      "|252581|        7C|             6A|2014-09-01 09:00:00|         4.25|      0:15:11|      false|        911.0|\n",
      "|252582|        7B|             15|2014-09-01 18:00:00|        10.17|      0:34:05|       true|       2045.0|\n",
      "|252583|        11|             2A|2014-09-01 17:00:00|         4.02|      0:17:06|      false|       1026.0|\n",
      "|252584|        3B|             4A|2014-09-01 13:00:00|         1.46|      0:06:32|      false|        392.0|\n",
      "|252585|        2A|             10|2014-09-01 14:00:00|         8.31|      0:26:17|       true|       1577.0|\n",
      "|252586|        5B|             4C|2014-09-01 12:00:00|         1.04|      0:08:35|      false|        515.0|\n",
      "|252587|        10|             10|2014-09-01 14:00:00|         1.44|      0:19:36|      false|       1176.0|\n",
      "|252588|        2A|             7A|2014-09-01 03:00:00|         5.08|      0:18:17|       true|       1097.0|\n",
      "|252589|        2B|             3C|2014-09-01 11:00:00|         1.64|      0:07:29|      false|        449.0|\n",
      "|252590|         9|             5B|2014-09-01 20:00:00|        16.63|      0:28:37|       true|       1717.0|\n",
      "|252591|        2A|             14|2014-09-01 01:00:00|         9.73|      0:29:42|       true|       1782.0|\n",
      "|252592|        6B|              8|2014-09-01 07:00:00|         8.41|      0:16:35|       true|        995.0|\n",
      "|252593|        15|             14|2014-09-01 18:00:00|        11.07|      0:47:42|       true|       2862.0|\n",
      "|252594|        4C|              8|2014-09-01 10:00:00|         7.98|      0:23:05|       true|       1385.0|\n",
      "|252595|        5A|             2A|2014-09-01 17:00:00|         2.01|      0:12:04|      false|        724.0|\n",
      "|252596|        6B|           NULL|2014-09-01 17:00:00|        11.67|      0:23:45|       true|       1425.0|\n",
      "|252597|         8|             7C|2014-09-01 16:00:00|         8.57|      0:24:31|       true|       1471.0|\n",
      "|252598|        10|             2A|2014-09-01 12:00:00|         3.58|      0:17:55|      false|       1075.0|\n",
      "|252599|        6B|             4A|2014-09-01 17:00:00|         2.53|      0:15:21|      false|        921.0|\n",
      "|252600|         9|             14|2014-09-01 20:00:00|         8.19|      0:16:04|       true|        964.0|\n",
      "+------+----------+---------------+-------------------+-------------+-------------+-----------+-------------+\n",
      "only showing top 20 rows"
     ]
    }
   ],
   "source": [
    "from pyspark.sql.functions import split\n",
    "df = df.withColumn(\"split_col\", split(df['trip_duration'], ':'))\n",
    "df = df.withColumn('hours', df['split_col'].getItem(0).cast('int'))  \n",
    "df = df.withColumn('minutes', df['split_col'].getItem(1).cast('int'))\n",
    "df = df.withColumn('seconds', df['split_col'].getItem(2).cast('int'))\n",
    "df = df.withColumn('duration_secs', df['hours']*3600.0 + df['minutes']*60.0 + df['seconds'])\n",
    "df = df.drop('split_col', 'hours', 'minutes','seconds')\n",
    "df.show()"
   ]
  },
  {
   "cell_type": "markdown",
   "metadata": {
    "id": "K2_dGG_uPqly"
   },
   "source": [
    "And then we can summarize the duration_secs column to see the distribution of trip lengths:"
   ]
  },
  {
   "cell_type": "code",
   "execution_count": null,
   "metadata": {
    "execution": {
     "iopub.execute_input": "2022-07-12T20:45:27.845613Z",
     "iopub.status.busy": "2022-07-12T20:45:27.845106Z",
     "iopub.status.idle": "2022-07-12T20:45:58.001715Z",
     "shell.execute_reply": "2022-07-12T20:45:58.000847Z",
     "shell.execute_reply.started": "2022-07-12T20:45:27.845571Z"
    },
    "id": "V4SkZZywPqlz",
    "outputId": "85d52ff5-a118-4ce4-83af-a5ed59e604f9",
    "tags": []
   },
   "outputs": [
    {
     "data": {
      "application/vnd.jupyter.widget-view+json": {
       "model_id": "b701459f94f94112af29cbbbea71a465",
       "version_major": 2,
       "version_minor": 0
      },
      "text/plain": [
       "VBox()"
      ]
     },
     "metadata": {},
     "output_type": "display_data"
    },
    {
     "data": {
      "application/vnd.jupyter.widget-view+json": {
       "model_id": "",
       "version_major": 2,
       "version_minor": 0
      },
      "text/plain": [
       "FloatProgress(value=0.0, bar_style='info', description='Progress:', layout=Layout(height='25px', width='50%'),…"
      ]
     },
     "metadata": {},
     "output_type": "display_data"
    },
    {
     "name": "stdout",
     "output_type": "stream",
     "text": [
      "+-------+------------------+\n",
      "|summary|     duration_secs|\n",
      "+-------+------------------+\n",
      "|  count|          30925700|\n",
      "|   mean|1340.0212437551938|\n",
      "| stddev|222733.92597508588|\n",
      "|    min|               0.0|\n",
      "|    max|      6.19317543E8|\n",
      "+-------+------------------+"
     ]
    }
   ],
   "source": [
    "df.describe('duration_secs').show()"
   ]
  },
  {
   "cell_type": "markdown",
   "metadata": {
    "id": "dQtHFTDdPql1"
   },
   "source": [
    "In a working Big Data environment, large datasets would be initially read into Spark and worked with using the distributed (cluster) environment and then can be converted to pandas once they've been reduced down by filtering, aggregation, and other processing. \n",
    "\n",
    "If pandas is present on the head node, there is also a `toPandas` function which will even convert a Spark DataFrame into a pandas one! However, this is not the default setup for clusters on EMR, so we will not do this here. It should also be noted that if available, care should be taken when using the `toPandas`, as it must be guaranteed that the data in the Spark DataFrame will fit into memory in a pandas one!\n",
    "\n",
    "A more common approach would be to write reduced data out to either HDFS or another filesystem (S3, Google Cloud Storage, Azure Blob Storage, etc.) or even a database as part of a Big Data analysis workflow."
   ]
  },
  {
   "cell_type": "markdown",
   "metadata": {
    "id": "qSyPZaSKPql2"
   },
   "source": [
    "### Spark SQL"
   ]
  },
  {
   "cell_type": "markdown",
   "metadata": {
    "id": "JwKmK7O8Pql3"
   },
   "source": [
    "Spark SQL refers both to the aggregation functions available to work with data within DataFrames as one would with RDDs, as well as the ability to conveniently query and aggregate data using ordinary SQL queries via use of the `spark.sql` module. Spark SQL can also be used to query any data that is available in Hive tables directly.\n",
    "\n",
    "It should be emphasized that Spark is not a database (!) however the internals can take SQL queries and converts them into transformations which are then optimized and executed by the Spark engine.\n",
    "\n",
    "Actions and transformations that can be applied using Spark SQL functions have equivalent representations as a SQL query that can be executed using `spark.sql` and may be executed in either fashion."
   ]
  },
  {
   "cell_type": "code",
   "execution_count": null,
   "metadata": {
    "execution": {
     "iopub.execute_input": "2022-07-12T20:45:58.003601Z",
     "iopub.status.busy": "2022-07-12T20:45:58.003324Z",
     "iopub.status.idle": "2022-07-12T20:45:58.472576Z",
     "shell.execute_reply": "2022-07-12T20:45:58.468965Z",
     "shell.execute_reply.started": "2022-07-12T20:45:58.003561Z"
    },
    "id": "k9aR2lGMPql4",
    "outputId": "a09a34f8-155a-4b25-fe0a-235cf61570fa",
    "tags": []
   },
   "outputs": [
    {
     "data": {
      "application/vnd.jupyter.widget-view+json": {
       "model_id": "54a2d3557e4848819310c5ac8858f8af",
       "version_major": 2,
       "version_minor": 0
      },
      "text/plain": [
       "VBox()"
      ]
     },
     "metadata": {},
     "output_type": "display_data"
    },
    {
     "data": {
      "application/vnd.jupyter.widget-view+json": {
       "model_id": "",
       "version_major": 2,
       "version_minor": 0
      },
      "text/plain": [
       "FloatProgress(value=0.0, bar_style='info', description='Progress:', layout=Layout(height='25px', width='50%'),…"
      ]
     },
     "metadata": {},
     "output_type": "display_data"
    },
    {
     "name": "stdout",
     "output_type": "stream",
     "text": [
      "+----------+-------------+\n",
      "|origin_taz|trip_distance|\n",
      "+----------+-------------+\n",
      "|        7C|         4.25|\n",
      "|        7B|        10.17|\n",
      "|        11|         4.02|\n",
      "|        3B|         1.46|\n",
      "|        2A|         8.31|\n",
      "|        5B|         1.04|\n",
      "|        10|         1.44|\n",
      "|        2A|         5.08|\n",
      "|        2B|         1.64|\n",
      "|         9|        16.63|\n",
      "+----------+-------------+\n",
      "only showing top 10 rows"
     ]
    }
   ],
   "source": [
    "df.select('origin_taz', 'trip_distance').show(10)"
   ]
  },
  {
   "cell_type": "markdown",
   "metadata": {
    "id": "PaZV5WUFPql6"
   },
   "source": [
    "Using SQL requires the `CreateorReplaceTempView` function, which registers the data as a view in the Spark session. We can then query against that view with SQL, with the view name being the table name:"
   ]
  },
  {
   "cell_type": "code",
   "execution_count": null,
   "metadata": {
    "execution": {
     "iopub.execute_input": "2022-07-12T20:45:58.476560Z",
     "iopub.status.busy": "2022-07-12T20:45:58.476047Z",
     "iopub.status.idle": "2022-07-12T20:46:00.018575Z",
     "shell.execute_reply": "2022-07-12T20:46:00.007196Z",
     "shell.execute_reply.started": "2022-07-12T20:45:58.476518Z"
    },
    "id": "3MgptM2XPql7",
    "outputId": "a479e792-fd58-4cc8-c488-1e86ca674bfe",
    "tags": []
   },
   "outputs": [
    {
     "data": {
      "application/vnd.jupyter.widget-view+json": {
       "model_id": "c8609e0b66c049eead65da29b4920a25",
       "version_major": 2,
       "version_minor": 0
      },
      "text/plain": [
       "VBox()"
      ]
     },
     "metadata": {},
     "output_type": "display_data"
    },
    {
     "data": {
      "application/vnd.jupyter.widget-view+json": {
       "model_id": "",
       "version_major": 2,
       "version_minor": 0
      },
      "text/plain": [
       "FloatProgress(value=0.0, bar_style='info', description='Progress:', layout=Layout(height='25px', width='50%'),…"
      ]
     },
     "metadata": {},
     "output_type": "display_data"
    },
    {
     "name": "stdout",
     "output_type": "stream",
     "text": [
      "+----------+-------------+\n",
      "|origin_taz|trip_distance|\n",
      "+----------+-------------+\n",
      "|        7C|         4.25|\n",
      "|        7B|        10.17|\n",
      "|        11|         4.02|\n",
      "|        3B|         1.46|\n",
      "|        2A|         8.31|\n",
      "|        5B|         1.04|\n",
      "|        10|         1.44|\n",
      "|        2A|         5.08|\n",
      "|        2B|         1.64|\n",
      "|         9|        16.63|\n",
      "+----------+-------------+\n",
      "only showing top 10 rows"
     ]
    }
   ],
   "source": [
    "df.createOrReplaceTempView(\"uber_nyc\")\n",
    "spark.sql(\"SELECT origin_taz, trip_distance FROM uber_nyc\").show(10)"
   ]
  },
  {
   "cell_type": "markdown",
   "metadata": {
    "id": "yIm-kAwUC4Eb"
   },
   "source": [
    "Let's do a simple `GROUP BY` to count the number of trips present in the data set per year:"
   ]
  },
  {
   "cell_type": "code",
   "execution_count": null,
   "metadata": {
    "execution": {
     "iopub.execute_input": "2022-07-12T20:46:00.025612Z",
     "iopub.status.busy": "2022-07-12T20:46:00.025072Z",
     "iopub.status.idle": "2022-07-12T20:46:22.332457Z",
     "shell.execute_reply": "2022-07-12T20:46:22.331730Z",
     "shell.execute_reply.started": "2022-07-12T20:46:00.025557Z"
    },
    "id": "MUL9rlI0Pql-",
    "outputId": "64139835-7f93-45e5-f5d5-b1f3c60e66c9",
    "tags": []
   },
   "outputs": [
    {
     "data": {
      "application/vnd.jupyter.widget-view+json": {
       "model_id": "cac357a228c34b63a86679ed34db65f7",
       "version_major": 2,
       "version_minor": 0
      },
      "text/plain": [
       "VBox()"
      ]
     },
     "metadata": {},
     "output_type": "display_data"
    },
    {
     "data": {
      "application/vnd.jupyter.widget-view+json": {
       "model_id": "",
       "version_major": 2,
       "version_minor": 0
      },
      "text/plain": [
       "FloatProgress(value=0.0, bar_style='info', description='Progress:', layout=Layout(height='25px', width='50%'),…"
      ]
     },
     "metadata": {},
     "output_type": "display_data"
    },
    {
     "name": "stdout",
     "output_type": "stream",
     "text": [
      "+-----------------------------------+--------+\n",
      "|year(CAST(pickup_datetime AS DATE))|count(1)|\n",
      "+-----------------------------------+--------+\n",
      "|                               2015|23499302|\n",
      "|                               2014| 7426436|\n",
      "+-----------------------------------+--------+"
     ]
    }
   ],
   "source": [
    "spark.sql(\"SELECT YEAR(pickup_datetime), COUNT(*) FROM uber_nyc GROUP BY YEAR(pickup_datetime)\").show(10);"
   ]
  },
  {
   "cell_type": "markdown",
   "metadata": {
    "id": "q8qHErkEC4Ec"
   },
   "source": [
    "We can use Spark SQL functions to calculate the average distance from the area of origin:"
   ]
  },
  {
   "cell_type": "code",
   "execution_count": null,
   "metadata": {
    "execution": {
     "iopub.execute_input": "2022-07-12T20:46:22.333914Z",
     "iopub.status.busy": "2022-07-12T20:46:22.333657Z",
     "iopub.status.idle": "2022-07-12T20:46:42.735807Z",
     "shell.execute_reply": "2022-07-12T20:46:42.734489Z",
     "shell.execute_reply.started": "2022-07-12T20:46:22.333875Z"
    },
    "id": "Z5zkugbEPqmB",
    "outputId": "19ab4fa7-0b2c-4998-c3d0-0269193ad3f6",
    "tags": []
   },
   "outputs": [
    {
     "data": {
      "application/vnd.jupyter.widget-view+json": {
       "model_id": "110ca1db749844bf8edfd697132f5e4d",
       "version_major": 2,
       "version_minor": 0
      },
      "text/plain": [
       "VBox()"
      ]
     },
     "metadata": {},
     "output_type": "display_data"
    },
    {
     "data": {
      "application/vnd.jupyter.widget-view+json": {
       "model_id": "",
       "version_major": 2,
       "version_minor": 0
      },
      "text/plain": [
       "FloatProgress(value=0.0, bar_style='info', description='Progress:', layout=Layout(height='25px', width='50%'),…"
      ]
     },
     "metadata": {},
     "output_type": "display_data"
    },
    {
     "name": "stdout",
     "output_type": "stream",
     "text": [
      "+----------+------------------+\n",
      "|origin_taz|avg(trip_distance)|\n",
      "+----------+------------------+\n",
      "|        15| 5.186272880957412|\n",
      "|        11| 4.543250304394352|\n",
      "|         8| 11.48813942374257|\n",
      "|        3B|4.0397300822100926|\n",
      "|        4B| 4.923632563383967|\n",
      "|        7A| 5.260484663656681|\n",
      "|        16| 6.783649924989385|\n",
      "|        7B| 5.255862307165336|\n",
      "|        7C| 6.210172574180387|\n",
      "|        17| 9.869550069758546|\n",
      "+----------+------------------+\n",
      "only showing top 10 rows"
     ]
    }
   ],
   "source": [
    "# Perform a transformation using Spark SQL\n",
    "# Group by the InvoiceNo and sum the UnitPrice\n",
    "df.groupby('origin_taz').avg('trip_distance').show(10)"
   ]
  },
  {
   "cell_type": "markdown",
   "metadata": {
    "id": "_m5RASKAC4Ec"
   },
   "source": [
    "This can be written equivalently using `spark.sql` and a SQL query:"
   ]
  },
  {
   "cell_type": "code",
   "execution_count": null,
   "metadata": {
    "execution": {
     "iopub.execute_input": "2022-07-12T20:46:42.751402Z",
     "iopub.status.busy": "2022-07-12T20:46:42.751117Z",
     "iopub.status.idle": "2022-07-12T20:47:01.436713Z",
     "shell.execute_reply": "2022-07-12T20:47:01.433669Z",
     "shell.execute_reply.started": "2022-07-12T20:46:42.751361Z"
    },
    "id": "P4iTGjkNPqmD",
    "outputId": "792cae18-3f20-432f-82c4-575d9b4edaef",
    "tags": []
   },
   "outputs": [
    {
     "data": {
      "application/vnd.jupyter.widget-view+json": {
       "model_id": "80fe249542354fcdb764dff0a4779c89",
       "version_major": 2,
       "version_minor": 0
      },
      "text/plain": [
       "VBox()"
      ]
     },
     "metadata": {},
     "output_type": "display_data"
    },
    {
     "data": {
      "application/vnd.jupyter.widget-view+json": {
       "model_id": "",
       "version_major": 2,
       "version_minor": 0
      },
      "text/plain": [
       "FloatProgress(value=0.0, bar_style='info', description='Progress:', layout=Layout(height='25px', width='50%'),…"
      ]
     },
     "metadata": {},
     "output_type": "display_data"
    },
    {
     "name": "stdout",
     "output_type": "stream",
     "text": [
      "+----------+------------------+\n",
      "|origin_taz|      avg_distance|\n",
      "+----------+------------------+\n",
      "|        15| 5.186272880957412|\n",
      "|        11| 4.543250304394352|\n",
      "|         8| 11.48813942374257|\n",
      "|        3B|4.0397300822100926|\n",
      "|        4B| 4.923632563383967|\n",
      "|        7A| 5.260484663656681|\n",
      "|        16| 6.783649924989385|\n",
      "|        7B| 5.255862307165336|\n",
      "|        7C| 6.210172574180387|\n",
      "|        17| 9.869550069758546|\n",
      "+----------+------------------+\n",
      "only showing top 10 rows"
     ]
    }
   ],
   "source": [
    "# Equivalently my use a SQL query and spark.sql to do the same\n",
    "spark.sql('SELECT origin_taz, AVG(trip_distance) AS avg_distance FROM uber_nyc GROUP BY origin_taz').show(10)"
   ]
  },
  {
   "cell_type": "markdown",
   "metadata": {
    "id": "DBV12HYqPqmF"
   },
   "source": [
    "We can also use the `withColumnRenamed` function to rename columns (useful for aggregated columns):"
   ]
  },
  {
   "cell_type": "code",
   "execution_count": null,
   "metadata": {
    "execution": {
     "iopub.execute_input": "2022-07-12T20:47:01.441251Z",
     "iopub.status.busy": "2022-07-12T20:47:01.440623Z",
     "iopub.status.idle": "2022-07-12T20:47:17.672532Z",
     "shell.execute_reply": "2022-07-12T20:47:17.671664Z",
     "shell.execute_reply.started": "2022-07-12T20:47:01.441189Z"
    },
    "id": "qPrqQxzPPqmG",
    "outputId": "8bffb07b-557f-45c7-ebdd-35278817da5d",
    "tags": []
   },
   "outputs": [
    {
     "data": {
      "application/vnd.jupyter.widget-view+json": {
       "model_id": "d01ade246de244899d185bbd1d764a22",
       "version_major": 2,
       "version_minor": 0
      },
      "text/plain": [
       "VBox()"
      ]
     },
     "metadata": {},
     "output_type": "display_data"
    },
    {
     "data": {
      "application/vnd.jupyter.widget-view+json": {
       "model_id": "",
       "version_major": 2,
       "version_minor": 0
      },
      "text/plain": [
       "FloatProgress(value=0.0, bar_style='info', description='Progress:', layout=Layout(height='25px', width='50%'),…"
      ]
     },
     "metadata": {},
     "output_type": "display_data"
    },
    {
     "name": "stdout",
     "output_type": "stream",
     "text": [
      "+----------+------------------+\n",
      "|origin_taz|      avg_distance|\n",
      "+----------+------------------+\n",
      "|        15| 5.186272880957412|\n",
      "|        11| 4.543250304394352|\n",
      "|         8| 11.48813942374257|\n",
      "|        4B| 4.923632563383967|\n",
      "|        3B|4.0397300822100926|\n",
      "|        7A| 5.260484663656681|\n",
      "|        16| 6.783649924989385|\n",
      "|        7B| 5.255862307165336|\n",
      "|        7C| 6.210172574180387|\n",
      "|        17| 9.869550069758546|\n",
      "+----------+------------------+\n",
      "only showing top 10 rows"
     ]
    }
   ],
   "source": [
    "df.groupby('origin_taz').avg('trip_distance').withColumnRenamed('avg(trip_distance)', 'avg_distance').show(10)"
   ]
  },
  {
   "cell_type": "markdown",
   "metadata": {
    "id": "xGj6FN5-PqmI"
   },
   "source": [
    "Finally when finished, a Spark session can be halted with `stop()`."
   ]
  },
  {
   "cell_type": "code",
   "execution_count": null,
   "metadata": {
    "execution": {
     "iopub.execute_input": "2022-07-12T20:47:17.674525Z",
     "iopub.status.busy": "2022-07-12T20:47:17.673934Z",
     "iopub.status.idle": "2022-07-12T20:47:17.965929Z",
     "shell.execute_reply": "2022-07-12T20:47:17.965205Z",
     "shell.execute_reply.started": "2022-07-12T20:47:17.674484Z"
    },
    "id": "RBv44QNSPqmJ",
    "outputId": "6b02501d-04cd-4087-a6b8-ef8dc8ebf944"
   },
   "outputs": [
    {
     "data": {
      "application/vnd.jupyter.widget-view+json": {
       "model_id": "fc5cc99ece1649719da217ddccc5157a",
       "version_major": 2,
       "version_minor": 0
      },
      "text/plain": [
       "VBox()"
      ]
     },
     "metadata": {},
     "output_type": "display_data"
    },
    {
     "data": {
      "application/vnd.jupyter.widget-view+json": {
       "model_id": "",
       "version_major": 2,
       "version_minor": 0
      },
      "text/plain": [
       "FloatProgress(value=0.0, bar_style='info', description='Progress:', layout=Layout(height='25px', width='50%'),…"
      ]
     },
     "metadata": {},
     "output_type": "display_data"
    }
   ],
   "source": [
    "# Do not run! (we're going to keep working)\n",
    "#spark.stop()"
   ]
  },
  {
   "cell_type": "markdown",
   "metadata": {
    "id": "s-mvttHaPqmL",
    "tags": []
   },
   "source": [
    "### Exercise\n",
    "\n",
    "1. Read in the [NYC Yellow Cab trip data](https://www1.nyc.gov/site/tlc/about/tlc-trip-record-data.page) from the following S3 bucket:\n",
    "`s3://brainstation-dsft/sparklab/yellow_tripdata_2018-10.csv`\n",
    "2. Print schema of the DataFrame - how does Spark read in all columns by default?\n",
    "3. Display the first row of the data and the first 10 rows of data.\n",
    "4. What is the total number of rows in the dataset? How many Yellow Trips were there in NYC in total in October 2018?\n",
    "5. Using `withColumn` and `cast`, convert the following columns to the correct data types:\n",
    "    - **tpep_pickup_datetime**: `timestamp`\n",
    "    - **passenger_count**: `int`\n",
    "    - **trip_distance**: `float`\n",
    "    - **fare_amount**: `float`\n",
    "    - **tip_amount**: `float`\n",
    "    - **extra**: `float`\n",
    "6. Calculate a new column, `tip_pct`, which is the tip percentage relative to the base fare, show the top 10 records of this new column.\n",
    "7. Calculate the average tip percentage across all rides.\n",
    "8. Register a view to allow the use of `spark.sql`, and calculate the number of rides per hour of day across all days in the dataset. Which are the most popular times of day?"
   ]
  },
  {
   "cell_type": "markdown",
   "metadata": {
    "id": "MEeyiCICC4Ed"
   },
   "source": [
    "#### Solutions"
   ]
  },
  {
   "cell_type": "markdown",
   "metadata": {
    "id": "saMU_g9tC4Ed"
   },
   "source": [
    "When we read in the data and look at the schema, we see that the columns are all strings."
   ]
  },
  {
   "cell_type": "code",
   "execution_count": null,
   "metadata": {
    "colab": {
     "referenced_widgets": [
      "d2c14cee59984813b2b913746ce51db0",
      ""
     ]
    },
    "execution": {
     "iopub.execute_input": "2022-07-12T20:47:17.967620Z",
     "iopub.status.busy": "2022-07-12T20:47:17.967321Z",
     "iopub.status.idle": "2022-07-12T20:47:19.039534Z",
     "shell.execute_reply": "2022-07-12T20:47:19.038786Z",
     "shell.execute_reply.started": "2022-07-12T20:47:17.967580Z"
    },
    "id": "Nx7Ln6gfC4Ed",
    "outputId": "4bafeca8-79f1-416d-8e2e-93ac67981b89",
    "tags": []
   },
   "outputs": [
    {
     "data": {
      "application/vnd.jupyter.widget-view+json": {
       "model_id": "d2c14cee59984813b2b913746ce51db0",
       "version_major": 2,
       "version_minor": 0
      },
      "text/plain": [
       "VBox()"
      ]
     },
     "metadata": {},
     "output_type": "display_data"
    },
    {
     "data": {
      "application/vnd.jupyter.widget-view+json": {
       "model_id": "",
       "version_major": 2,
       "version_minor": 0
      },
      "text/plain": [
       "FloatProgress(value=0.0, bar_style='info', description='Progress:', layout=Layout(height='25px', width='50%'),…"
      ]
     },
     "metadata": {},
     "output_type": "display_data"
    }
   ],
   "source": [
    "#q1 read in the data\n",
    "\n",
    "yellow_df = spark.read.csv('s3://brainstation-dsft/sparklab/yellow_tripdata_2018-10.csv', header=True)"
   ]
  },
  {
   "cell_type": "code",
   "execution_count": null,
   "metadata": {
    "colab": {
     "referenced_widgets": [
      "b578e564daa549279acbfb957d51e77c",
      ""
     ]
    },
    "execution": {
     "iopub.execute_input": "2022-07-12T20:47:19.042043Z",
     "iopub.status.busy": "2022-07-12T20:47:19.040608Z",
     "iopub.status.idle": "2022-07-12T20:47:19.954279Z",
     "shell.execute_reply": "2022-07-12T20:47:19.947111Z",
     "shell.execute_reply.started": "2022-07-12T20:47:19.042002Z"
    },
    "id": "ZPyKu4GNC4Ed",
    "outputId": "77800f0c-3588-4529-e043-078b506d348f",
    "scrolled": true,
    "tags": []
   },
   "outputs": [
    {
     "data": {
      "application/vnd.jupyter.widget-view+json": {
       "model_id": "b578e564daa549279acbfb957d51e77c",
       "version_major": 2,
       "version_minor": 0
      },
      "text/plain": [
       "VBox()"
      ]
     },
     "metadata": {},
     "output_type": "display_data"
    },
    {
     "data": {
      "application/vnd.jupyter.widget-view+json": {
       "model_id": "",
       "version_major": 2,
       "version_minor": 0
      },
      "text/plain": [
       "FloatProgress(value=0.0, bar_style='info', description='Progress:', layout=Layout(height='25px', width='50%'),…"
      ]
     },
     "metadata": {},
     "output_type": "display_data"
    },
    {
     "name": "stdout",
     "output_type": "stream",
     "text": [
      "root\n",
      " |-- VendorID: string (nullable = true)\n",
      " |-- tpep_pickup_datetime: string (nullable = true)\n",
      " |-- tpep_dropoff_datetime: string (nullable = true)\n",
      " |-- passenger_count: string (nullable = true)\n",
      " |-- trip_distance: string (nullable = true)\n",
      " |-- RatecodeID: string (nullable = true)\n",
      " |-- store_and_fwd_flag: string (nullable = true)\n",
      " |-- PULocationID: string (nullable = true)\n",
      " |-- DOLocationID: string (nullable = true)\n",
      " |-- payment_type: string (nullable = true)\n",
      " |-- fare_amount: string (nullable = true)\n",
      " |-- extra: string (nullable = true)\n",
      " |-- mta_tax: string (nullable = true)\n",
      " |-- tip_amount: string (nullable = true)\n",
      " |-- tolls_amount: string (nullable = true)\n",
      " |-- improvement_surcharge: string (nullable = true)\n",
      " |-- total_amount: string (nullable = true)\n",
      " |-- congestion_surcharge: string (nullable = true)\n",
      " |-- airport_fee: string (nullable = true)"
     ]
    }
   ],
   "source": [
    "# q2 print schema\n",
    "yellow_df.printSchema()"
   ]
  },
  {
   "cell_type": "markdown",
   "metadata": {
    "id": "SVer-JyIC4Ed"
   },
   "source": [
    "We can use the `.take(n)` or `.show(n)` method to present the first `n` rows: "
   ]
  },
  {
   "cell_type": "code",
   "execution_count": null,
   "metadata": {
    "colab": {
     "referenced_widgets": [
      "",
      "794a7e90e96645c2946ee4bd09e79b08"
     ]
    },
    "execution": {
     "iopub.execute_input": "2022-07-12T20:47:20.032853Z",
     "iopub.status.busy": "2022-07-12T20:47:20.032547Z",
     "iopub.status.idle": "2022-07-12T20:47:20.951308Z",
     "shell.execute_reply": "2022-07-12T20:47:20.950561Z",
     "shell.execute_reply.started": "2022-07-12T20:47:20.032809Z"
    },
    "id": "3Zr3fd2Y3uz6",
    "outputId": "a164d306-356f-4386-c2a2-97ce4baefbbb",
    "tags": []
   },
   "outputs": [
    {
     "data": {
      "application/vnd.jupyter.widget-view+json": {
       "model_id": "794a7e90e96645c2946ee4bd09e79b08",
       "version_major": 2,
       "version_minor": 0
      },
      "text/plain": [
       "VBox()"
      ]
     },
     "metadata": {},
     "output_type": "display_data"
    },
    {
     "data": {
      "application/vnd.jupyter.widget-view+json": {
       "model_id": "",
       "version_major": 2,
       "version_minor": 0
      },
      "text/plain": [
       "FloatProgress(value=0.0, bar_style='info', description='Progress:', layout=Layout(height='25px', width='50%'),…"
      ]
     },
     "metadata": {},
     "output_type": "display_data"
    },
    {
     "name": "stdout",
     "output_type": "stream",
     "text": [
      "[Row(VendorID='1', tpep_pickup_datetime='2018-10-01 00:23:34', tpep_dropoff_datetime='2018-10-01 00:44:50', passenger_count='1.0', trip_distance='6.2', RatecodeID='1.0', store_and_fwd_flag='N', PULocationID='68', DOLocationID='7', payment_type='2', fare_amount='20.5', extra='0.5', mta_tax='0.5', tip_amount='0.0', tolls_amount='0.0', improvement_surcharge='0.3', total_amount='21.8', congestion_surcharge=None, airport_fee=None)]"
     ]
    }
   ],
   "source": [
    "# q3\n",
    "\n",
    "# display first row and display first 10 rows\n",
    "\n",
    "yellow_df.take(1)"
   ]
  },
  {
   "cell_type": "code",
   "execution_count": null,
   "metadata": {
    "colab": {
     "referenced_widgets": [
      "7861d3287fa44f00a885cdecaa1b783c",
      ""
     ]
    },
    "execution": {
     "iopub.execute_input": "2022-07-12T20:47:20.952463Z",
     "iopub.status.busy": "2022-07-12T20:47:20.952269Z",
     "iopub.status.idle": "2022-07-12T20:47:23.639353Z",
     "shell.execute_reply": "2022-07-12T20:47:23.628561Z",
     "shell.execute_reply.started": "2022-07-12T20:47:20.952438Z"
    },
    "id": "U0ck3SvQC4Ee",
    "outputId": "217fe649-a9fa-473e-9283-878fdb30d8c0",
    "tags": []
   },
   "outputs": [
    {
     "data": {
      "application/vnd.jupyter.widget-view+json": {
       "model_id": "7861d3287fa44f00a885cdecaa1b783c",
       "version_major": 2,
       "version_minor": 0
      },
      "text/plain": [
       "VBox()"
      ]
     },
     "metadata": {},
     "output_type": "display_data"
    },
    {
     "data": {
      "application/vnd.jupyter.widget-view+json": {
       "model_id": "",
       "version_major": 2,
       "version_minor": 0
      },
      "text/plain": [
       "FloatProgress(value=0.0, bar_style='info', description='Progress:', layout=Layout(height='25px', width='50%'),…"
      ]
     },
     "metadata": {},
     "output_type": "display_data"
    },
    {
     "name": "stdout",
     "output_type": "stream",
     "text": [
      "-RECORD 0------------------------------------\n",
      " VendorID              | 1                   \n",
      " tpep_pickup_datetime  | 2018-10-01 00:23:34 \n",
      " tpep_dropoff_datetime | 2018-10-01 00:44:50 \n",
      " passenger_count       | 1.0                 \n",
      " trip_distance         | 6.2                 \n",
      " RatecodeID            | 1.0                 \n",
      " store_and_fwd_flag    | N                   \n",
      " PULocationID          | 68                  \n",
      " DOLocationID          | 7                   \n",
      " payment_type          | 2                   \n",
      " fare_amount           | 20.5                \n",
      " extra                 | 0.5                 \n",
      " mta_tax               | 0.5                 \n",
      " tip_amount            | 0.0                 \n",
      " tolls_amount          | 0.0                 \n",
      " improvement_surcharge | 0.3                 \n",
      " total_amount          | 21.8                \n",
      " congestion_surcharge  | null                \n",
      " airport_fee           | null                \n",
      "-RECORD 1------------------------------------\n",
      " VendorID              | 1                   \n",
      " tpep_pickup_datetime  | 2018-10-01 00:40:05 \n",
      " tpep_dropoff_datetime | 2018-10-01 01:01:56 \n",
      " passenger_count       | 1.0                 \n",
      " trip_distance         | 12.6                \n",
      " RatecodeID            | 1.0                 \n",
      " store_and_fwd_flag    | N                   \n",
      " PULocationID          | 132                 \n",
      " DOLocationID          | 9                   \n",
      " payment_type          | 2                   \n",
      " fare_amount           | 35.0                \n",
      " extra                 | 0.5                 \n",
      " mta_tax               | 0.5                 \n",
      " tip_amount            | 0.0                 \n",
      " tolls_amount          | 0.0                 \n",
      " improvement_surcharge | 0.3                 \n",
      " total_amount          | 36.3                \n",
      " congestion_surcharge  | null                \n",
      " airport_fee           | null                \n",
      "-RECORD 2------------------------------------\n",
      " VendorID              | 1                   \n",
      " tpep_pickup_datetime  | 2018-10-01 00:05:35 \n",
      " tpep_dropoff_datetime | 2018-10-01 00:19:38 \n",
      " passenger_count       | 1.0                 \n",
      " trip_distance         | 6.1                 \n",
      " RatecodeID            | 1.0                 \n",
      " store_and_fwd_flag    | N                   \n",
      " PULocationID          | 50                  \n",
      " DOLocationID          | 244                 \n",
      " payment_type          | 1                   \n",
      " fare_amount           | 19.0                \n",
      " extra                 | 0.5                 \n",
      " mta_tax               | 0.5                 \n",
      " tip_amount            | 5.05                \n",
      " tolls_amount          | 0.0                 \n",
      " improvement_surcharge | 0.3                 \n",
      " total_amount          | 25.35               \n",
      " congestion_surcharge  | null                \n",
      " airport_fee           | null                \n",
      "-RECORD 3------------------------------------\n",
      " VendorID              | 1                   \n",
      " tpep_pickup_datetime  | 2018-10-01 00:42:56 \n",
      " tpep_dropoff_datetime | 2018-10-01 00:49:00 \n",
      " passenger_count       | 1.0                 \n",
      " trip_distance         | 1.3                 \n",
      " RatecodeID            | 1.0                 \n",
      " store_and_fwd_flag    | N                   \n",
      " PULocationID          | 151                 \n",
      " DOLocationID          | 239                 \n",
      " payment_type          | 2                   \n",
      " fare_amount           | 7.0                 \n",
      " extra                 | 0.5                 \n",
      " mta_tax               | 0.5                 \n",
      " tip_amount            | 0.0                 \n",
      " tolls_amount          | 0.0                 \n",
      " improvement_surcharge | 0.3                 \n",
      " total_amount          | 8.3                 \n",
      " congestion_surcharge  | null                \n",
      " airport_fee           | null                \n",
      "-RECORD 4------------------------------------\n",
      " VendorID              | 1                   \n",
      " tpep_pickup_datetime  | 2018-10-01 00:19:14 \n",
      " tpep_dropoff_datetime | 2018-10-01 00:31:54 \n",
      " passenger_count       | 1.0                 \n",
      " trip_distance         | 2.6                 \n",
      " RatecodeID            | 1.0                 \n",
      " store_and_fwd_flag    | N                   \n",
      " PULocationID          | 233                 \n",
      " DOLocationID          | 143                 \n",
      " payment_type          | 1                   \n",
      " fare_amount           | 11.0                \n",
      " extra                 | 0.5                 \n",
      " mta_tax               | 0.5                 \n",
      " tip_amount            | 2.45                \n",
      " tolls_amount          | 0.0                 \n",
      " improvement_surcharge | 0.3                 \n",
      " total_amount          | 14.75               \n",
      " congestion_surcharge  | null                \n",
      " airport_fee           | null                \n",
      "-RECORD 5------------------------------------\n",
      " VendorID              | 1                   \n",
      " tpep_pickup_datetime  | 2018-10-01 00:36:27 \n",
      " tpep_dropoff_datetime | 2018-10-01 01:39:20 \n",
      " passenger_count       | 1.0                 \n",
      " trip_distance         | 19.7                \n",
      " RatecodeID            | 1.0                 \n",
      " store_and_fwd_flag    | N                   \n",
      " PULocationID          | 132                 \n",
      " DOLocationID          | 7                   \n",
      " payment_type          | 3                   \n",
      " fare_amount           | 54.0                \n",
      " extra                 | 0.5                 \n",
      " mta_tax               | 0.5                 \n",
      " tip_amount            | 0.0                 \n",
      " tolls_amount          | 0.0                 \n",
      " improvement_surcharge | 0.3                 \n",
      " total_amount          | 55.3                \n",
      " congestion_surcharge  | null                \n",
      " airport_fee           | null                \n",
      "-RECORD 6------------------------------------\n",
      " VendorID              | 1                   \n",
      " tpep_pickup_datetime  | 2018-10-01 00:26:25 \n",
      " tpep_dropoff_datetime | 2018-10-01 00:34:58 \n",
      " passenger_count       | 1.0                 \n",
      " trip_distance         | 2.3                 \n",
      " RatecodeID            | 1.0                 \n",
      " store_and_fwd_flag    | N                   \n",
      " PULocationID          | 260                 \n",
      " DOLocationID          | 145                 \n",
      " payment_type          | 2                   \n",
      " fare_amount           | 9.0                 \n",
      " extra                 | 0.5                 \n",
      " mta_tax               | 0.5                 \n",
      " tip_amount            | 0.0                 \n",
      " tolls_amount          | 0.0                 \n",
      " improvement_surcharge | 0.3                 \n",
      " total_amount          | 10.3                \n",
      " congestion_surcharge  | null                \n",
      " airport_fee           | null                \n",
      "-RECORD 7------------------------------------\n",
      " VendorID              | 2                   \n",
      " tpep_pickup_datetime  | 2018-10-01 00:11:13 \n",
      " tpep_dropoff_datetime | 2018-10-01 00:40:02 \n",
      " passenger_count       | 1.0                 \n",
      " trip_distance         | 19.14               \n",
      " RatecodeID            | 2.0                 \n",
      " store_and_fwd_flag    | N                   \n",
      " PULocationID          | 132                 \n",
      " DOLocationID          | 249                 \n",
      " payment_type          | 1                   \n",
      " fare_amount           | 52.0                \n",
      " extra                 | 0.0                 \n",
      " mta_tax               | 0.5                 \n",
      " tip_amount            | 11.71               \n",
      " tolls_amount          | 5.76                \n",
      " improvement_surcharge | 0.3                 \n",
      " total_amount          | 70.27               \n",
      " congestion_surcharge  | null                \n",
      " airport_fee           | null                \n",
      "-RECORD 8------------------------------------\n",
      " VendorID              | 2                   \n",
      " tpep_pickup_datetime  | 2018-10-01 00:42:46 \n",
      " tpep_dropoff_datetime | 2018-10-01 00:57:59 \n",
      " passenger_count       | 1.0                 \n",
      " trip_distance         | 4.31                \n",
      " RatecodeID            | 1.0                 \n",
      " store_and_fwd_flag    | N                   \n",
      " PULocationID          | 249                 \n",
      " DOLocationID          | 143                 \n",
      " payment_type          | 1                   \n",
      " fare_amount           | 15.5                \n",
      " extra                 | 0.5                 \n",
      " mta_tax               | 0.5                 \n",
      " tip_amount            | 3.36                \n",
      " tolls_amount          | 0.0                 \n",
      " improvement_surcharge | 0.3                 \n",
      " total_amount          | 20.16               \n",
      " congestion_surcharge  | null                \n",
      " airport_fee           | null                \n",
      "-RECORD 9------------------------------------\n",
      " VendorID              | 2                   \n",
      " tpep_pickup_datetime  | 2018-10-01 00:33:49 \n",
      " tpep_dropoff_datetime | 2018-10-01 00:37:31 \n",
      " passenger_count       | 2.0                 \n",
      " trip_distance         | 0.64                \n",
      " RatecodeID            | 1.0                 \n",
      " store_and_fwd_flag    | N                   \n",
      " PULocationID          | 236                 \n",
      " DOLocationID          | 262                 \n",
      " payment_type          | 2                   \n",
      " fare_amount           | 4.5                 \n",
      " extra                 | 0.5                 \n",
      " mta_tax               | 0.5                 \n",
      " tip_amount            | 0.0                 \n",
      " tolls_amount          | 0.0                 \n",
      " improvement_surcharge | 0.3                 \n",
      " total_amount          | 5.8                 \n",
      " congestion_surcharge  | null                \n",
      " airport_fee           | null                \n",
      "only showing top 10 rows"
     ]
    }
   ],
   "source": [
    "yellow_df.show(10, vertical = True)"
   ]
  },
  {
   "cell_type": "markdown",
   "metadata": {
    "id": "wj2I288yC4Ee"
   },
   "source": [
    "Next, the total row count:"
   ]
  },
  {
   "cell_type": "code",
   "execution_count": null,
   "metadata": {
    "colab": {
     "referenced_widgets": [
      "7aee71b51a3c4b3d92e760d533ac72bb",
      ""
     ]
    },
    "execution": {
     "iopub.execute_input": "2022-07-12T20:47:23.649115Z",
     "iopub.status.busy": "2022-07-12T20:47:23.646877Z",
     "iopub.status.idle": "2022-07-12T20:47:27.133539Z",
     "shell.execute_reply": "2022-07-12T20:47:27.132473Z",
     "shell.execute_reply.started": "2022-07-12T20:47:23.649084Z"
    },
    "id": "tBSnfkWhC4Ee",
    "outputId": "40b9a425-9720-4eba-80c8-3fec93028ccb",
    "tags": []
   },
   "outputs": [
    {
     "data": {
      "application/vnd.jupyter.widget-view+json": {
       "model_id": "7aee71b51a3c4b3d92e760d533ac72bb",
       "version_major": 2,
       "version_minor": 0
      },
      "text/plain": [
       "VBox()"
      ]
     },
     "metadata": {},
     "output_type": "display_data"
    },
    {
     "data": {
      "application/vnd.jupyter.widget-view+json": {
       "model_id": "",
       "version_major": 2,
       "version_minor": 0
      },
      "text/plain": [
       "FloatProgress(value=0.0, bar_style='info', description='Progress:', layout=Layout(height='25px', width='50%'),…"
      ]
     },
     "metadata": {},
     "output_type": "display_data"
    },
    {
     "name": "stdout",
     "output_type": "stream",
     "text": [
      "8834520"
     ]
    }
   ],
   "source": [
    "# q4\n",
    "\n",
    "# Number of rows\n",
    "yellow_df.count()\n"
   ]
  },
  {
   "cell_type": "markdown",
   "metadata": {
    "id": "d55oN6Aa3uz_"
   },
   "source": [
    "We can see there are ~8.8M rows in the dataset, assuming each row is a trip and this file is complete, there were ~8.8 M yellow cab trips in October of 2018."
   ]
  },
  {
   "cell_type": "markdown",
   "metadata": {
    "id": "THs94eQm3uz_"
   },
   "source": [
    "Using `withColumn` and `cast`, we convert the following columns to the correct data types:\n",
    "- **tpep_pickup_datetime**: `datetime`\n",
    "- **passenger_count**: `int`\n",
    "- **trip_distance**: `float`\n",
    "- **fare_amount**: `float`\n",
    "- **tip_amount**: `string`\n",
    "- **extra**: `float`"
   ]
  },
  {
   "cell_type": "code",
   "execution_count": null,
   "metadata": {
    "colab": {
     "referenced_widgets": [
      "fa8576b712e14571ae7ea97ac7c88824",
      ""
     ]
    },
    "execution": {
     "iopub.execute_input": "2022-07-12T20:47:27.135091Z",
     "iopub.status.busy": "2022-07-12T20:47:27.134736Z",
     "iopub.status.idle": "2022-07-12T20:47:28.039937Z",
     "shell.execute_reply": "2022-07-12T20:47:28.038926Z",
     "shell.execute_reply.started": "2022-07-12T20:47:27.135018Z"
    },
    "id": "tcBp8UOOC4Ee",
    "outputId": "1d2c8988-fa8f-4602-a778-bd9731909168",
    "tags": []
   },
   "outputs": [
    {
     "data": {
      "application/vnd.jupyter.widget-view+json": {
       "model_id": "fa8576b712e14571ae7ea97ac7c88824",
       "version_major": 2,
       "version_minor": 0
      },
      "text/plain": [
       "VBox()"
      ]
     },
     "metadata": {},
     "output_type": "display_data"
    },
    {
     "data": {
      "application/vnd.jupyter.widget-view+json": {
       "model_id": "",
       "version_major": 2,
       "version_minor": 0
      },
      "text/plain": [
       "FloatProgress(value=0.0, bar_style='info', description='Progress:', layout=Layout(height='25px', width='50%'),…"
      ]
     },
     "metadata": {},
     "output_type": "display_data"
    }
   ],
   "source": [
    "# q5 Date casting to conversion\n",
    "yellow_df = yellow_df.withColumn(\"tpep_pickup_datetime\", yellow_df[\"tpep_pickup_datetime\"].cast('timestamp'))\n",
    "yellow_df = yellow_df.withColumn(\"tpep_dropoff_datetime\", yellow_df[\"tpep_dropoff_datetime\"].cast('timestamp'))\n",
    "yellow_df = yellow_df.withColumn(\"passenger_count\", yellow_df[\"passenger_count\"].cast('int'))\n",
    "yellow_df = yellow_df.withColumn(\"tip_amount\", yellow_df[\"tip_amount\"].cast('double'))\n",
    "yellow_df = yellow_df.withColumn(\"fare_amount\", yellow_df[\"fare_amount\"].cast('double'))"
   ]
  },
  {
   "cell_type": "code",
   "execution_count": null,
   "metadata": {
    "colab": {
     "referenced_widgets": [
      "",
      "b8356a0a3551422ca6c21bc29959d406"
     ]
    },
    "execution": {
     "iopub.execute_input": "2022-07-12T20:47:28.041344Z",
     "iopub.status.busy": "2022-07-12T20:47:28.041080Z",
     "iopub.status.idle": "2022-07-12T20:47:28.743960Z",
     "shell.execute_reply": "2022-07-12T20:47:28.743188Z",
     "shell.execute_reply.started": "2022-07-12T20:47:28.041306Z"
    },
    "id": "l7xHbe-h3u0B",
    "outputId": "88e0dd4b-53bc-4ee8-94fa-da6b5cb5fe5f",
    "tags": []
   },
   "outputs": [
    {
     "data": {
      "application/vnd.jupyter.widget-view+json": {
       "model_id": "b8356a0a3551422ca6c21bc29959d406",
       "version_major": 2,
       "version_minor": 0
      },
      "text/plain": [
       "VBox()"
      ]
     },
     "metadata": {},
     "output_type": "display_data"
    },
    {
     "data": {
      "application/vnd.jupyter.widget-view+json": {
       "model_id": "",
       "version_major": 2,
       "version_minor": 0
      },
      "text/plain": [
       "FloatProgress(value=0.0, bar_style='info', description='Progress:', layout=Layout(height='25px', width='50%'),…"
      ]
     },
     "metadata": {},
     "output_type": "display_data"
    },
    {
     "name": "stdout",
     "output_type": "stream",
     "text": [
      "root\n",
      " |-- VendorID: string (nullable = true)\n",
      " |-- tpep_pickup_datetime: timestamp (nullable = true)\n",
      " |-- tpep_dropoff_datetime: timestamp (nullable = true)\n",
      " |-- passenger_count: integer (nullable = true)\n",
      " |-- trip_distance: string (nullable = true)\n",
      " |-- RatecodeID: string (nullable = true)\n",
      " |-- store_and_fwd_flag: string (nullable = true)\n",
      " |-- PULocationID: string (nullable = true)\n",
      " |-- DOLocationID: string (nullable = true)\n",
      " |-- payment_type: string (nullable = true)\n",
      " |-- fare_amount: double (nullable = true)\n",
      " |-- extra: string (nullable = true)\n",
      " |-- mta_tax: string (nullable = true)\n",
      " |-- tip_amount: double (nullable = true)\n",
      " |-- tolls_amount: string (nullable = true)\n",
      " |-- improvement_surcharge: string (nullable = true)\n",
      " |-- total_amount: string (nullable = true)\n",
      " |-- congestion_surcharge: string (nullable = true)\n",
      " |-- airport_fee: string (nullable = true)"
     ]
    }
   ],
   "source": [
    "# Check\n",
    "yellow_df.printSchema()"
   ]
  },
  {
   "cell_type": "markdown",
   "metadata": {
    "id": "DW9RyEK83u0C"
   },
   "source": [
    "Inspecting the result, we can see the columns have now been updated to the correct formats."
   ]
  },
  {
   "cell_type": "markdown",
   "metadata": {
    "id": "xkYg5s0LC4Ef"
   },
   "source": [
    "Next, we calculate the tip percentage:"
   ]
  },
  {
   "cell_type": "code",
   "execution_count": null,
   "metadata": {
    "colab": {
     "referenced_widgets": [
      "708e567aa36149acaf8bc367a6470aa2",
      ""
     ]
    },
    "execution": {
     "iopub.execute_input": "2022-07-12T20:47:28.745714Z",
     "iopub.status.busy": "2022-07-12T20:47:28.745305Z",
     "iopub.status.idle": "2022-07-12T20:47:29.230374Z",
     "shell.execute_reply": "2022-07-12T20:47:29.229539Z",
     "shell.execute_reply.started": "2022-07-12T20:47:28.745675Z"
    },
    "id": "KZ1du0DDC4Ef",
    "outputId": "630bc08b-89f8-40e7-ab48-82029046096b",
    "tags": []
   },
   "outputs": [
    {
     "data": {
      "application/vnd.jupyter.widget-view+json": {
       "model_id": "708e567aa36149acaf8bc367a6470aa2",
       "version_major": 2,
       "version_minor": 0
      },
      "text/plain": [
       "VBox()"
      ]
     },
     "metadata": {},
     "output_type": "display_data"
    },
    {
     "data": {
      "application/vnd.jupyter.widget-view+json": {
       "model_id": "",
       "version_major": 2,
       "version_minor": 0
      },
      "text/plain": [
       "FloatProgress(value=0.0, bar_style='info', description='Progress:', layout=Layout(height='25px', width='50%'),…"
      ]
     },
     "metadata": {},
     "output_type": "display_data"
    }
   ],
   "source": [
    "# q6\n",
    "\n",
    "yellow_df = yellow_df.withColumn(\"tip_pct\", yellow_df['tip_amount']/yellow_df['fare_amount'])"
   ]
  },
  {
   "cell_type": "code",
   "execution_count": null,
   "metadata": {
    "colab": {
     "referenced_widgets": [
      "",
      "b785c0a65bd644c7a4c3fd0d3bd78589"
     ]
    },
    "execution": {
     "iopub.execute_input": "2022-07-12T20:47:29.232255Z",
     "iopub.status.busy": "2022-07-12T20:47:29.231756Z",
     "iopub.status.idle": "2022-07-12T20:47:37.020208Z",
     "shell.execute_reply": "2022-07-12T20:47:37.018253Z",
     "shell.execute_reply.started": "2022-07-12T20:47:29.232215Z"
    },
    "id": "mvc62dFb3u0E",
    "outputId": "93c8089e-b78d-4f06-955c-27f949f55e9b",
    "tags": []
   },
   "outputs": [
    {
     "data": {
      "application/vnd.jupyter.widget-view+json": {
       "model_id": "b785c0a65bd644c7a4c3fd0d3bd78589",
       "version_major": 2,
       "version_minor": 0
      },
      "text/plain": [
       "VBox()"
      ]
     },
     "metadata": {},
     "output_type": "display_data"
    },
    {
     "data": {
      "application/vnd.jupyter.widget-view+json": {
       "model_id": "",
       "version_major": 2,
       "version_minor": 0
      },
      "text/plain": [
       "FloatProgress(value=0.0, bar_style='info', description='Progress:', layout=Layout(height='25px', width='50%'),…"
      ]
     },
     "metadata": {},
     "output_type": "display_data"
    },
    {
     "name": "stdout",
     "output_type": "stream",
     "text": [
      "+-------------------+\n",
      "|       avg(tip_pct)|\n",
      "+-------------------+\n",
      "|0.16957932834850672|\n",
      "+-------------------+"
     ]
    }
   ],
   "source": [
    "# q7\n",
    "yellow_df.groupby().avg('tip_pct').show(10)"
   ]
  },
  {
   "cell_type": "markdown",
   "metadata": {
    "id": "yG6MTT_53u0G"
   },
   "source": [
    "As we can see, the average tip is 16.98%, pretty close to 15%!"
   ]
  },
  {
   "cell_type": "code",
   "execution_count": null,
   "metadata": {
    "colab": {
     "referenced_widgets": [
      "b1daec209c41469993f2dce428e8a27c",
      ""
     ]
    },
    "execution": {
     "iopub.execute_input": "2022-07-12T20:47:37.024472Z",
     "iopub.status.busy": "2022-07-12T20:47:37.023429Z",
     "iopub.status.idle": "2022-07-12T20:47:37.434351Z",
     "shell.execute_reply": "2022-07-12T20:47:37.432921Z",
     "shell.execute_reply.started": "2022-07-12T20:47:37.024430Z"
    },
    "id": "z0bbWlvHC4Ef",
    "outputId": "b0bc186c-1376-413f-99af-05110dab6ada",
    "tags": []
   },
   "outputs": [
    {
     "data": {
      "application/vnd.jupyter.widget-view+json": {
       "model_id": "b1daec209c41469993f2dce428e8a27c",
       "version_major": 2,
       "version_minor": 0
      },
      "text/plain": [
       "VBox()"
      ]
     },
     "metadata": {},
     "output_type": "display_data"
    },
    {
     "data": {
      "application/vnd.jupyter.widget-view+json": {
       "model_id": "",
       "version_major": 2,
       "version_minor": 0
      },
      "text/plain": [
       "FloatProgress(value=0.0, bar_style='info', description='Progress:', layout=Layout(height='25px', width='50%'),…"
      ]
     },
     "metadata": {},
     "output_type": "display_data"
    }
   ],
   "source": [
    "# q8\n",
    "\n",
    "# Register the view\n",
    "\n",
    "yellow_df.createOrReplaceTempView('yellowtrip')\n",
    "\n",
    "# do the query\n",
    "\n",
    "result_df = spark.sql('SELECT HOUR(tpep_pickup_datetime), COUNT(*) FROM yellowtrip GROUP BY HOUR(tpep_pickup_datetime) \\\n",
    "    ORDER BY HOUR(tpep_pickup_datetime) ASC')"
   ]
  },
  {
   "cell_type": "markdown",
   "metadata": {
    "id": "bET1O7hqC4Ef"
   },
   "source": [
    "Finally, we will create a view to calculate the number of rides per hour of day across all days in the dataset."
   ]
  },
  {
   "cell_type": "code",
   "execution_count": null,
   "metadata": {
    "colab": {
     "referenced_widgets": [
      "",
      "5cc4b86b84b6424c85ccfee98435877e"
     ]
    },
    "execution": {
     "iopub.execute_input": "2022-07-12T20:47:37.437471Z",
     "iopub.status.busy": "2022-07-12T20:47:37.437072Z",
     "iopub.status.idle": "2022-07-12T20:47:37.997764Z",
     "shell.execute_reply": "2022-07-12T20:47:37.997098Z",
     "shell.execute_reply.started": "2022-07-12T20:47:37.437430Z"
    },
    "id": "wa3mt-6A3u0I",
    "outputId": "8e93b39b-71f8-40be-c73c-558d9fc17beb",
    "tags": []
   },
   "outputs": [
    {
     "data": {
      "application/vnd.jupyter.widget-view+json": {
       "model_id": "5cc4b86b84b6424c85ccfee98435877e",
       "version_major": 2,
       "version_minor": 0
      },
      "text/plain": [
       "VBox()"
      ]
     },
     "metadata": {},
     "output_type": "display_data"
    },
    {
     "data": {
      "application/vnd.jupyter.widget-view+json": {
       "model_id": "",
       "version_major": 2,
       "version_minor": 0
      },
      "text/plain": [
       "FloatProgress(value=0.0, bar_style='info', description='Progress:', layout=Layout(height='25px', width='50%'),…"
      ]
     },
     "metadata": {},
     "output_type": "display_data"
    }
   ],
   "source": [
    "# Register the view\n",
    "yellow_df.createOrReplaceTempView('yellowtrip')\n",
    "\n",
    "result_df = spark.sql('SELECT HOUR(tpep_pickup_datetime), COUNT(*) FROM yellowtrip GROUP BY HOUR(tpep_pickup_datetime) \\\n",
    "    ORDER BY HOUR(tpep_pickup_datetime) ASC')\n",
    "\n",
    "\n"
   ]
  },
  {
   "cell_type": "code",
   "execution_count": null,
   "metadata": {
    "colab": {
     "referenced_widgets": [
      "",
      "ae74a44991e54d65b4fd3c24b6f5880a"
     ]
    },
    "execution": {
     "iopub.execute_input": "2022-07-12T20:47:38.001215Z",
     "iopub.status.busy": "2022-07-12T20:47:38.001002Z",
     "iopub.status.idle": "2022-07-12T20:47:38.173496Z",
     "shell.execute_reply": "2022-07-12T20:47:38.172732Z",
     "shell.execute_reply.started": "2022-07-12T20:47:38.001187Z"
    },
    "id": "dZb0XJbn3u0J",
    "outputId": "0c83cfc6-917d-4610-8ef5-fd3bffbba7a3",
    "tags": []
   },
   "outputs": [
    {
     "data": {
      "application/vnd.jupyter.widget-view+json": {
       "model_id": "ae74a44991e54d65b4fd3c24b6f5880a",
       "version_major": 2,
       "version_minor": 0
      },
      "text/plain": [
       "VBox()"
      ]
     },
     "metadata": {},
     "output_type": "display_data"
    },
    {
     "data": {
      "application/vnd.jupyter.widget-view+json": {
       "model_id": "",
       "version_major": 2,
       "version_minor": 0
      },
      "text/plain": [
       "FloatProgress(value=0.0, bar_style='info', description='Progress:', layout=Layout(height='25px', width='50%'),…"
      ]
     },
     "metadata": {},
     "output_type": "display_data"
    },
    {
     "name": "stdout",
     "output_type": "stream",
     "text": [
      "DataFrame[hour(tpep_pickup_datetime): int, count(1): bigint]"
     ]
    }
   ],
   "source": [
    "result_df"
   ]
  },
  {
   "cell_type": "code",
   "execution_count": null,
   "metadata": {
    "colab": {
     "referenced_widgets": [
      "",
      "a84c5c0936794504823707a705176534"
     ]
    },
    "execution": {
     "iopub.execute_input": "2022-07-12T20:47:38.175304Z",
     "iopub.status.busy": "2022-07-12T20:47:38.174734Z",
     "iopub.status.idle": "2022-07-12T20:47:46.068629Z",
     "shell.execute_reply": "2022-07-12T20:47:46.067849Z",
     "shell.execute_reply.started": "2022-07-12T20:47:38.175261Z"
    },
    "id": "3MHLW76S3u0K",
    "outputId": "be72579c-4e53-486a-ecb0-e7eb51a260cf",
    "tags": []
   },
   "outputs": [
    {
     "data": {
      "application/vnd.jupyter.widget-view+json": {
       "model_id": "a84c5c0936794504823707a705176534",
       "version_major": 2,
       "version_minor": 0
      },
      "text/plain": [
       "VBox()"
      ]
     },
     "metadata": {},
     "output_type": "display_data"
    },
    {
     "data": {
      "application/vnd.jupyter.widget-view+json": {
       "model_id": "",
       "version_major": 2,
       "version_minor": 0
      },
      "text/plain": [
       "FloatProgress(value=0.0, bar_style='info', description='Progress:', layout=Layout(height='25px', width='50%'),…"
      ]
     },
     "metadata": {},
     "output_type": "display_data"
    },
    {
     "name": "stdout",
     "output_type": "stream",
     "text": [
      "+--------------------------+--------+\n",
      "|hour(tpep_pickup_datetime)|count(1)|\n",
      "+--------------------------+--------+\n",
      "|                         0|  264136|\n",
      "|                         1|  182713|\n",
      "|                         2|  129745|\n",
      "|                         3|   91696|\n",
      "|                         4|   71749|\n",
      "|                         5|   87663|\n",
      "|                         6|  204261|\n",
      "|                         7|  352318|\n",
      "|                         8|  414895|\n",
      "|                         9|  416338|\n",
      "|                        10|  416463|\n",
      "|                        11|  431679|\n",
      "|                        12|  450033|\n",
      "|                        13|  446059|\n",
      "|                        14|  473948|\n",
      "|                        15|  473042|\n",
      "|                        16|  440553|\n",
      "|                        17|  509599|\n",
      "|                        18|  566149|\n",
      "|                        19|  556830|\n",
      "+--------------------------+--------+\n",
      "only showing top 20 rows"
     ]
    }
   ],
   "source": [
    "result_df.show()"
   ]
  },
  {
   "cell_type": "markdown",
   "metadata": {
    "id": "7oa3A2h2C4Eg"
   },
   "source": [
    "We can then save the results to an S3 bucket:"
   ]
  },
  {
   "cell_type": "code",
   "execution_count": null,
   "metadata": {
    "colab": {
     "referenced_widgets": [
      ""
     ]
    },
    "id": "EbwJBA643u0M",
    "outputId": "44c791e2-aefe-4619-a105-a911590a42e9"
   },
   "outputs": [
    {
     "data": {
      "application/vnd.jupyter.widget-view+json": {
       "model_id": "",
       "version_major": 2,
       "version_minor": 0
      },
      "text/plain": [
       "FloatProgress(value=0.0, bar_style='info', description='Progress:', layout=Layout(height='25px', width='50%'),…"
      ]
     },
     "metadata": {
      "tags": []
     },
     "output_type": "display_data"
    }
   ],
   "source": [
    "# ADD your own S3 bucket here \n",
    "result_df.write.csv('s3://mybucket/yellow_cab_results.csv')"
   ]
  },
  {
   "cell_type": "markdown",
   "metadata": {
    "id": "4fqM3u7dPqmM"
   },
   "source": [
    "<div id=\"container\" style=\"position:relative;\">\n",
    "<div style=\"position:relative; float:right\"><img style=\"height:25px\"\"width: 50px\" src =\"https://drive.google.com/uc?export=view&id=14VoXUJftgptWtdNhtNYVm6cjVmEWpki1\" />\n",
    "</div>\n",
    "</div>"
   ]
  }
 ],
 "metadata": {
  "colab": {
   "collapsed_sections": [
    "FUJ0cYfyPqkL",
    "vOGeudD9PqkO",
    "P6OCYPGfPqke",
    "VhMAcsX4PqlE",
    "qSyPZaSKPql2"
   ],
   "provenance": []
  },
  "kernelspec": {
   "display_name": "Python 3 (ipykernel)",
   "language": "python",
   "name": "python3"
  },
  "language_info": {
   "codemirror_mode": {
    "name": "ipython",
    "version": 3
   },
   "file_extension": ".py",
   "mimetype": "text/x-python",
   "name": "python",
   "nbconvert_exporter": "python",
   "pygments_lexer": "ipython3",
   "version": "3.9.12"
  }
 },
 "nbformat": 4,
 "nbformat_minor": 4
}
